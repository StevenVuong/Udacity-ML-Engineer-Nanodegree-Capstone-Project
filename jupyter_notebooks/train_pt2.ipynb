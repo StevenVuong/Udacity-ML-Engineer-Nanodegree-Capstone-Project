{
  "nbformat": 4,
  "nbformat_minor": 0,
  "metadata": {
    "colab": {
      "name": "train-pt2.ipynb",
      "provenance": [],
      "collapsed_sections": []
    },
    "kernelspec": {
      "name": "python3",
      "display_name": "Python 3"
    }
  },
  "cells": [
    {
      "cell_type": "markdown",
      "metadata": {
        "id": "ZjSfBnpbOs9n",
        "colab_type": "text"
      },
      "source": [
        "Make some plots of our first three models to see if we can come up with any conclusionns..\n",
        "\n",
        "In this notebook we want to do the following:\n",
        "- Load trained XGBoost models\n",
        "- Plot and visualise trained models\n",
        "- See what we can find from our trained models\n",
        "\n",
        "We have 3 separate XGBoost models, trained on 9 features out of a totall of 27 features each.\n",
        "\n",
        "Following this, we want to train a linear regression model on top of this. The plan for now is a very basic, train a stacked model on XGBoost predictions.\n",
        "\n",
        "Author: Steven Vuong\n",
        "Date: 26/04/2020"
      ]
    },
    {
      "cell_type": "code",
      "metadata": {
        "id": "3AMZnI9UyKSz",
        "colab_type": "code",
        "outputId": "ef9f061e-76f3-4331-e4e9-55e4638a9a53",
        "colab": {
          "base_uri": "https://localhost:8080/",
          "height": 34
        }
      },
      "source": [
        "# Mount google drive (working in a google-colab notebook)\n",
        "from google.colab import drive\n",
        "drive.mount('/gdrive')"
      ],
      "execution_count": 1,
      "outputs": [
        {
          "output_type": "stream",
          "text": [
            "Drive already mounted at /gdrive; to attempt to forcibly remount, call drive.mount(\"/gdrive\", force_remount=True).\n"
          ],
          "name": "stdout"
        }
      ]
    },
    {
      "cell_type": "code",
      "metadata": {
        "id": "SHYo2rZAyNid",
        "colab_type": "code",
        "outputId": "ea5e8b2c-6cce-4114-c31a-618e526f9993",
        "colab": {
          "base_uri": "https://localhost:8080/",
          "height": 34
        }
      },
      "source": [
        "# cd into correct working directory\n",
        "% cd '../gdrive/My Drive/self_teach/udacity_ml_eng_nanodegree'"
      ],
      "execution_count": 2,
      "outputs": [
        {
          "output_type": "stream",
          "text": [
            "/gdrive/My Drive/self_teach/udacity_ml_eng_nanodegree\n"
          ],
          "name": "stdout"
        }
      ]
    },
    {
      "cell_type": "code",
      "metadata": {
        "id": "U9jeo_LCR6k-",
        "colab_type": "code",
        "outputId": "eb11a99c-95be-4367-e18e-ae772176d1b9",
        "colab": {
          "base_uri": "https://localhost:8080/",
          "height": 51
        }
      },
      "source": [
        "# Import necessary libraries as usual\n",
        "import matplotlib.pyplot as plt\n",
        "import pandas as pd\n",
        "import seaborn as sns\n",
        "import os\n",
        "import warnings\n",
        "import pickle\n",
        "import numpy as np\n",
        "\n",
        "from xgboost import plot_importance\n",
        "from xgboost import XGBRegressor\n",
        "from sklearn.metrics import mean_squared_error\n",
        "\n",
        "%matplotlib inline\n",
        "# Styling Preferences\n",
        "pd.set_option('display.float_format', lambda x: '%.2f' % x)\n",
        "warnings.filterwarnings(\"ignore\")"
      ],
      "execution_count": 3,
      "outputs": [
        {
          "output_type": "stream",
          "text": [
            "/usr/local/lib/python3.6/dist-packages/statsmodels/tools/_testing.py:19: FutureWarning: pandas.util.testing is deprecated. Use the functions in the public API at pandas.testing instead.\n",
            "  import pandas.util.testing as tm\n"
          ],
          "name": "stderr"
        }
      ]
    },
    {
      "cell_type": "markdown",
      "metadata": {
        "id": "X7TdZizDR9OK",
        "colab_type": "text"
      },
      "source": [
        "We will define some plot functions that will help us visualise and evaluate the performance of our model. As well as take a look at what our model is prioritising."
      ]
    },
    {
      "cell_type": "code",
      "metadata": {
        "id": "BI8frAulOndC",
        "colab_type": "code",
        "colab": {}
      },
      "source": [
        "def plot_features(booster, figsize): \n",
        "    \"\"\"Plot importance of a model's features in descending order\"\"\"   \n",
        "\n",
        "    fig, ax = plt.subplots(1,1,figsize=figsize)\n",
        "    plot_importance(booster=booster, ax=ax)\n",
        "    plt.show()\n",
        "\n",
        "def model_performance_sc_plot(predictions, labels: pd.Series, title:str):\n",
        "    \"\"\"Plot model performance, predictions against labels.\n",
        "    Args:\n",
        "      - predictions\n",
        "      - labels(pd.Series)\n",
        "      - title(str): Title of our plot\"\"\"\n",
        "\n",
        "    # Get min and max values of predictions and labels.\n",
        "    min_val = max(max(predictions), max(labels))\n",
        "    max_val = min(min(predictions), min(labels))\n",
        "\n",
        "    # Create datafrae with predicitons and labels.\n",
        "    performance_df = pd.DataFrame({\"Label\":labels})\n",
        "    performance_df[\"Prediction\"] = predictions\n",
        "\n",
        "    # plot sns jointplot\n",
        "    sns.jointplot(y=labels, x=predictions, data=performance_df, kind=\"reg\", height=7)\n",
        "    plt.xlabel(\"Predicted Output\")\n",
        "    plt.ylabel(\"Target Output\")\n",
        "    plt.plot([min_val, max_val], [min_val, max_val], 'm--')\n",
        "    plt.title(title, fontsize=9)\n",
        "    plt.show()"
      ],
      "execution_count": 0,
      "outputs": []
    },
    {
      "cell_type": "markdown",
      "metadata": {
        "id": "jLe5s-ViTfLe",
        "colab_type": "text"
      },
      "source": [
        "Here we will load our train and val CSV's to evaluate our models. As well as parse"
      ]
    },
    {
      "cell_type": "code",
      "metadata": {
        "id": "FhL0BQ3oyuqO",
        "colab_type": "code",
        "colab": {}
      },
      "source": [
        "# Set data directory\n",
        "data_dir = './data/output/'\n",
        "model_dir = os.path.join(data_dir, 'model')"
      ],
      "execution_count": 0,
      "outputs": []
    },
    {
      "cell_type": "code",
      "metadata": {
        "id": "sotX-oRcy_hj",
        "colab_type": "code",
        "outputId": "0f8d5f0e-9b16-4822-d27e-fcd5f47cf477",
        "colab": {
          "base_uri": "https://localhost:8080/",
          "height": 241
        }
      },
      "source": [
        "# Load csv's saved from last notebook as dataframes\n",
        "train_X = pd.read_csv(os.path.join(data_dir, 'train_X.csv'), index_col='Unnamed: 0')\n",
        "train_Y = pd.read_csv(os.path.join(data_dir, 'train_Y.csv'), index_col='Unnamed: 0')\n",
        "\n",
        "validation_X = pd.read_csv(os.path.join(data_dir, 'validation_X.csv'), index_col='Unnamed: 0')\n",
        "validation_Y = pd.read_csv(os.path.join(data_dir, 'validation_Y.csv'), index_col='Unnamed: 0')\n",
        "\n",
        "test_X = pd.read_csv(os.path.join(data_dir, 'test_X.csv'), index_col='Unnamed: 0')\n",
        "\n",
        "print(len(test_X))\n",
        "test_X.head()"
      ],
      "execution_count": 6,
      "outputs": [
        {
          "output_type": "stream",
          "text": [
            "214200\n"
          ],
          "name": "stdout"
        },
        {
          "output_type": "execute_result",
          "data": {
            "text/html": [
              "<div>\n",
              "<style scoped>\n",
              "    .dataframe tbody tr th:only-of-type {\n",
              "        vertical-align: middle;\n",
              "    }\n",
              "\n",
              "    .dataframe tbody tr th {\n",
              "        vertical-align: top;\n",
              "    }\n",
              "\n",
              "    .dataframe thead th {\n",
              "        text-align: right;\n",
              "    }\n",
              "</style>\n",
              "<table border=\"1\" class=\"dataframe\">\n",
              "  <thead>\n",
              "    <tr style=\"text-align: right;\">\n",
              "      <th></th>\n",
              "      <th>shop_id</th>\n",
              "      <th>item_id</th>\n",
              "      <th>item_category_type_code</th>\n",
              "      <th>item_category_subtype_code</th>\n",
              "      <th>item_name_code</th>\n",
              "      <th>city_code</th>\n",
              "      <th>item_category_id</th>\n",
              "      <th>sum_item_price</th>\n",
              "      <th>mean_item_price</th>\n",
              "      <th>sum_item_count</th>\n",
              "      <th>mean_item_count</th>\n",
              "      <th>transactions</th>\n",
              "      <th>year</th>\n",
              "      <th>month</th>\n",
              "      <th>item_price_unit</th>\n",
              "      <th>hist_min_item_price</th>\n",
              "      <th>hist_max_item_price</th>\n",
              "      <th>price_increase</th>\n",
              "      <th>price_decrease</th>\n",
              "      <th>item_cnt_min</th>\n",
              "      <th>item_cnt_max</th>\n",
              "      <th>item_cnt_mean</th>\n",
              "      <th>item_cnt_std</th>\n",
              "      <th>item_cnt_shifted1</th>\n",
              "      <th>item_cnt_shifted2</th>\n",
              "      <th>item_cnt_shifted3</th>\n",
              "      <th>item_trend</th>\n",
              "    </tr>\n",
              "  </thead>\n",
              "  <tbody>\n",
              "    <tr>\n",
              "      <th>0</th>\n",
              "      <td>5</td>\n",
              "      <td>5037</td>\n",
              "      <td>0.00</td>\n",
              "      <td>0.00</td>\n",
              "      <td>0.00</td>\n",
              "      <td>0.00</td>\n",
              "      <td>0.00</td>\n",
              "      <td>0.00</td>\n",
              "      <td>0.00</td>\n",
              "      <td>0.00</td>\n",
              "      <td>0.00</td>\n",
              "      <td>0.00</td>\n",
              "      <td>2015.00</td>\n",
              "      <td>9.00</td>\n",
              "      <td>0.00</td>\n",
              "      <td>0.00</td>\n",
              "      <td>25990.00</td>\n",
              "      <td>0.00</td>\n",
              "      <td>25990.00</td>\n",
              "      <td>0.00</td>\n",
              "      <td>0.00</td>\n",
              "      <td>0.00</td>\n",
              "      <td>0.00</td>\n",
              "      <td>0.00</td>\n",
              "      <td>0.00</td>\n",
              "      <td>0.00</td>\n",
              "      <td>0.00</td>\n",
              "    </tr>\n",
              "    <tr>\n",
              "      <th>1</th>\n",
              "      <td>5</td>\n",
              "      <td>5320</td>\n",
              "      <td>0.00</td>\n",
              "      <td>0.00</td>\n",
              "      <td>0.00</td>\n",
              "      <td>0.00</td>\n",
              "      <td>0.00</td>\n",
              "      <td>0.00</td>\n",
              "      <td>0.00</td>\n",
              "      <td>0.00</td>\n",
              "      <td>0.00</td>\n",
              "      <td>0.00</td>\n",
              "      <td>2015.00</td>\n",
              "      <td>9.00</td>\n",
              "      <td>0.00</td>\n",
              "      <td>0.00</td>\n",
              "      <td>0.00</td>\n",
              "      <td>0.00</td>\n",
              "      <td>0.00</td>\n",
              "      <td>0.00</td>\n",
              "      <td>0.00</td>\n",
              "      <td>0.00</td>\n",
              "      <td>0.00</td>\n",
              "      <td>0.00</td>\n",
              "      <td>0.00</td>\n",
              "      <td>0.00</td>\n",
              "      <td>0.00</td>\n",
              "    </tr>\n",
              "    <tr>\n",
              "      <th>2</th>\n",
              "      <td>5</td>\n",
              "      <td>5233</td>\n",
              "      <td>3.00</td>\n",
              "      <td>9.00</td>\n",
              "      <td>349.00</td>\n",
              "      <td>3.00</td>\n",
              "      <td>19.00</td>\n",
              "      <td>1199.00</td>\n",
              "      <td>1199.00</td>\n",
              "      <td>1.00</td>\n",
              "      <td>1.00</td>\n",
              "      <td>1.00</td>\n",
              "      <td>2015.00</td>\n",
              "      <td>9.00</td>\n",
              "      <td>1199.00</td>\n",
              "      <td>0.00</td>\n",
              "      <td>7191.75</td>\n",
              "      <td>1199.00</td>\n",
              "      <td>5992.75</td>\n",
              "      <td>1.00</td>\n",
              "      <td>3.00</td>\n",
              "      <td>1.67</td>\n",
              "      <td>1.15</td>\n",
              "      <td>3.00</td>\n",
              "      <td>1.00</td>\n",
              "      <td>2.00</td>\n",
              "      <td>-1.25</td>\n",
              "    </tr>\n",
              "    <tr>\n",
              "      <th>3</th>\n",
              "      <td>5</td>\n",
              "      <td>5232</td>\n",
              "      <td>0.00</td>\n",
              "      <td>0.00</td>\n",
              "      <td>0.00</td>\n",
              "      <td>0.00</td>\n",
              "      <td>0.00</td>\n",
              "      <td>0.00</td>\n",
              "      <td>0.00</td>\n",
              "      <td>0.00</td>\n",
              "      <td>0.00</td>\n",
              "      <td>0.00</td>\n",
              "      <td>2015.00</td>\n",
              "      <td>9.00</td>\n",
              "      <td>0.00</td>\n",
              "      <td>0.00</td>\n",
              "      <td>4796.00</td>\n",
              "      <td>0.00</td>\n",
              "      <td>4796.00</td>\n",
              "      <td>0.00</td>\n",
              "      <td>0.00</td>\n",
              "      <td>0.00</td>\n",
              "      <td>0.00</td>\n",
              "      <td>0.00</td>\n",
              "      <td>0.00</td>\n",
              "      <td>0.00</td>\n",
              "      <td>0.00</td>\n",
              "    </tr>\n",
              "    <tr>\n",
              "      <th>4</th>\n",
              "      <td>5</td>\n",
              "      <td>5268</td>\n",
              "      <td>0.00</td>\n",
              "      <td>0.00</td>\n",
              "      <td>0.00</td>\n",
              "      <td>0.00</td>\n",
              "      <td>0.00</td>\n",
              "      <td>0.00</td>\n",
              "      <td>0.00</td>\n",
              "      <td>0.00</td>\n",
              "      <td>0.00</td>\n",
              "      <td>0.00</td>\n",
              "      <td>2015.00</td>\n",
              "      <td>9.00</td>\n",
              "      <td>0.00</td>\n",
              "      <td>0.00</td>\n",
              "      <td>0.00</td>\n",
              "      <td>0.00</td>\n",
              "      <td>0.00</td>\n",
              "      <td>0.00</td>\n",
              "      <td>0.00</td>\n",
              "      <td>0.00</td>\n",
              "      <td>0.00</td>\n",
              "      <td>0.00</td>\n",
              "      <td>0.00</td>\n",
              "      <td>0.00</td>\n",
              "      <td>0.00</td>\n",
              "    </tr>\n",
              "  </tbody>\n",
              "</table>\n",
              "</div>"
            ],
            "text/plain": [
              "   shop_id  item_id  ...  item_cnt_shifted3  item_trend\n",
              "0        5     5037  ...               0.00        0.00\n",
              "1        5     5320  ...               0.00        0.00\n",
              "2        5     5233  ...               2.00       -1.25\n",
              "3        5     5232  ...               0.00        0.00\n",
              "4        5     5268  ...               0.00        0.00\n",
              "\n",
              "[5 rows x 27 columns]"
            ]
          },
          "metadata": {
            "tags": []
          },
          "execution_count": 6
        }
      ]
    },
    {
      "cell_type": "code",
      "metadata": {
        "id": "-OqA-tIVXAmp",
        "colab_type": "code",
        "colab": {}
      },
      "source": [
        "# Recreate our features subset\n",
        "features_subsets = [train_X.columns[i::3] for i in range(3)]"
      ],
      "execution_count": 0,
      "outputs": []
    },
    {
      "cell_type": "code",
      "metadata": {
        "id": "Nu2j76gs1XEF",
        "colab_type": "code",
        "outputId": "e7651d8f-c744-449f-95dc-970368b93adf",
        "colab": {
          "base_uri": "https://localhost:8080/",
          "height": 34
        }
      },
      "source": [
        "# Load first model (index starts from 0)\n",
        "MODEL_0 = pickle.load(open(os.path.join(model_dir, 'MODEL_0.pickle'), \"rb\"))"
      ],
      "execution_count": 8,
      "outputs": [
        {
          "output_type": "stream",
          "text": [
            "[12:29:33] WARNING: /workspace/src/objective/regression_obj.cu:152: reg:linear is now deprecated in favor of reg:squarederror.\n"
          ],
          "name": "stdout"
        }
      ]
    },
    {
      "cell_type": "code",
      "metadata": {
        "id": "rq-FxtZ_qOJ4",
        "colab_type": "code",
        "outputId": "9d3362af-7246-46b6-be06-3a71bc1fa258",
        "colab": {
          "base_uri": "https://localhost:8080/",
          "height": 404
        }
      },
      "source": [
        "# Plot feature importances for model 1 \n",
        "plot_features(MODEL_0, figsize=(15, 6))"
      ],
      "execution_count": 9,
      "outputs": [
        {
          "output_type": "display_data",
          "data": {
            "image/png": "[encoded data removed]",
            "text/plain": [
              "<Figure size 1080x432 with 1 Axes>"
            ]
          },
          "metadata": {
            "tags": [],
            "needs_background": "light"
          }
        }
      ]
    },
    {
      "cell_type": "markdown",
      "metadata": {
        "id": "UJBNEoCoqS_i",
        "colab_type": "text"
      },
      "source": [
        "It appears the most important feature by a large amount is item_cnt_mean, with a F-score of 1347. Far behind is item_cnt_shifted2 and price_decrease around 900. The least important is city_code. F-score combines precision and recall to gauge a model's overall performance. In this context, it is applied to our model's features.\n",
        "\n",
        "Ref: https://deepai.org/machine-learning-glossary-and-terms/f-score"
      ]
    },
    {
      "cell_type": "code",
      "metadata": {
        "id": "TaxV9H_et4dq",
        "colab_type": "code",
        "outputId": "fab82aff-be91-479c-99a1-2cab800ee0fd",
        "colab": {
          "base_uri": "https://localhost:8080/",
          "height": 34
        }
      },
      "source": [
        "# Make predictions on train set\n",
        "model_0_predictions_train = MODEL_0.predict(train_X[features_subsets[0]]).clip(0,50)\n",
        "\n",
        "print('Model 0 train rmse:', np.sqrt(mean_squared_error(train_Y, model_0_predictions_train)))"
      ],
      "execution_count": 10,
      "outputs": [
        {
          "output_type": "stream",
          "text": [
            "Model 0 train rmse: 0.7659338822546984\n"
          ],
          "name": "stdout"
        }
      ]
    },
    {
      "cell_type": "code",
      "metadata": {
        "id": "BQPQIoPLuVDK",
        "colab_type": "code",
        "outputId": "9abfb559-4998-434b-97af-876f5fc00d1a",
        "colab": {
          "base_uri": "https://localhost:8080/",
          "height": 34
        }
      },
      "source": [
        "# Make predictions on validation set\n",
        "model_0_predictions_validation = MODEL_0.predict(validation_X[features_subsets[0]]).clip(0,50)\n",
        "\n",
        "print('Model 0 validation rmse:', np.sqrt(mean_squared_error(validation_Y, model_0_predictions_validation)))"
      ],
      "execution_count": 11,
      "outputs": [
        {
          "output_type": "stream",
          "text": [
            "Model 0 validation rmse: 0.46040532943767487\n"
          ],
          "name": "stdout"
        }
      ]
    },
    {
      "cell_type": "markdown",
      "metadata": {
        "id": "-_13WWLevSGs",
        "colab_type": "text"
      },
      "source": [
        "Validation RMSE is lower than train RMSE, questionable. Worried we have overfit our model. However, performance for both train and validation datset are less than 1 which . Evaluate other models now."
      ]
    },
    {
      "cell_type": "code",
      "metadata": {
        "id": "i7xWaGf-pHsl",
        "colab_type": "code",
        "outputId": "d8be2eb0-3a1d-4edc-a8f5-cb40dd9de2a5",
        "colab": {
          "base_uri": "https://localhost:8080/",
          "height": 527
        }
      },
      "source": [
        "# Plot validation data to see performance\n",
        "model_performance_sc_plot(model_0_predictions_validation, validation_Y[\"sum_item_cnt_next_month\"], 'Model 0 Validation Scatterplot')"
      ],
      "execution_count": 12,
      "outputs": [
        {
          "output_type": "display_data",
          "data": {
            "image/png": "[encoded data removed]",
            "text/plain": [
              "<Figure size 504x504 with 3 Axes>"
            ]
          },
          "metadata": {
            "tags": [],
            "needs_background": "light"
          }
        }
      ]
    },
    {
      "cell_type": "markdown",
      "metadata": {
        "id": "pYz5LbI3wUAv",
        "colab_type": "text"
      },
      "source": [
        "Seems like many points are close to linear trend, however there is a huge spike for predictions at 20. This could be something to investigate regarding our model producing lower predictions. Also, there are a line of plots with label 0 and predictions are in the range of 0 to 30. This would be something to look into."
      ]
    },
    {
      "cell_type": "code",
      "metadata": {
        "id": "_4hPZgcbw0F-",
        "colab_type": "code",
        "outputId": "0d5910c5-e810-4371-b3b5-580bc64f9ddc",
        "colab": {
          "base_uri": "https://localhost:8080/",
          "height": 34
        }
      },
      "source": [
        "# Load second model\n",
        "MODEL_1 = pickle.load(open(os.path.join(model_dir, 'MODEL_1.pickle'), \"rb\"))"
      ],
      "execution_count": 13,
      "outputs": [
        {
          "output_type": "stream",
          "text": [
            "[12:30:50] WARNING: /workspace/src/objective/regression_obj.cu:152: reg:linear is now deprecated in favor of reg:squarederror.\n"
          ],
          "name": "stdout"
        }
      ]
    },
    {
      "cell_type": "code",
      "metadata": {
        "id": "9pF7G5k3w30W",
        "colab_type": "code",
        "outputId": "3d583dd5-18c2-425a-d983-395c78ec9584",
        "colab": {
          "base_uri": "https://localhost:8080/",
          "height": 404
        }
      },
      "source": [
        "# Plot feature importances for second model\n",
        "plot_features(MODEL_1, figsize=(15, 6))"
      ],
      "execution_count": 14,
      "outputs": [
        {
          "output_type": "display_data",
          "data": {
            "image/png": "[encoded data removed]",
            "text/plain": [
              "<Figure size 1080x432 with 1 Axes>"
            ]
          },
          "metadata": {
            "tags": [],
            "needs_background": "light"
          }
        }
      ]
    },
    {
      "cell_type": "markdown",
      "metadata": {
        "id": "hvu58rm2xEfF",
        "colab_type": "text"
      },
      "source": [
        "It appears for our second model, the most important feature is item_category_subtype, with an F-score of 634. At 541 and 521 are hist_max_item_price and item_cnt_min respectivelly. The weakest feature is shop_id."
      ]
    },
    {
      "cell_type": "code",
      "metadata": {
        "id": "aOkpVqwBxRVP",
        "colab_type": "code",
        "outputId": "87140a51-db18-4540-f8a1-377e97e2f437",
        "colab": {
          "base_uri": "https://localhost:8080/",
          "height": 34
        }
      },
      "source": [
        "# Make predictions on train set\n",
        "model_1_predictions_train = MODEL_1.predict(train_X[features_subsets[1]]).clip(0,50)\n",
        "\n",
        "print('Model 1 train rmse:', np.sqrt(mean_squared_error(train_Y, model_1_predictions_train)))"
      ],
      "execution_count": 15,
      "outputs": [
        {
          "output_type": "stream",
          "text": [
            "Model 1 train rmse: 0.857144992920556\n"
          ],
          "name": "stdout"
        }
      ]
    },
    {
      "cell_type": "code",
      "metadata": {
        "id": "uou_9UjQxVCy",
        "colab_type": "code",
        "outputId": "8b1380a7-fec6-4ace-f61f-e5042499de72",
        "colab": {
          "base_uri": "https://localhost:8080/",
          "height": 34
        }
      },
      "source": [
        "# Make predictions on validation set\n",
        "model_1_predictions_validation = MODEL_1.predict(validation_X[features_subsets[1]]).clip(0,50)\n",
        "\n",
        "print('Model 1 validation rmse:', np.sqrt(mean_squared_error(validation_Y, model_1_predictions_validation)))"
      ],
      "execution_count": 16,
      "outputs": [
        {
          "output_type": "stream",
          "text": [
            "Model 1 validation rmse: 0.5421107639925716\n"
          ],
          "name": "stdout"
        }
      ]
    },
    {
      "cell_type": "markdown",
      "metadata": {
        "id": "mi9QF-zlxehQ",
        "colab_type": "text"
      },
      "source": [
        "Again, for model 1, the validation RMSE is lower than our train RMSE. Our model seems optimised to perform well on our validation set, which could be a great thing. Also, the values are consistent with the first model, although slightly worse in performance with train RMSE at 0.857 and validation RMSE at 0.542. This could indicate the features used to train model 1 are less important to predict the item sales for the next month than those in model 0. This could perhaps also be inferred by the lower maximum F-score for the features in model 1."
      ]
    },
    {
      "cell_type": "code",
      "metadata": {
        "id": "_urfUF2W3Bok",
        "colab_type": "code",
        "outputId": "23496ea5-dedc-4386-c164-6adb27c10231",
        "colab": {
          "base_uri": "https://localhost:8080/",
          "height": 527
        }
      },
      "source": [
        "# Plot validattion data to see performance\n",
        "model_performance_sc_plot(model_1_predictions_validation, validation_Y[\"sum_item_cnt_next_month\"], 'Model 1 Validation Scatterplot')"
      ],
      "execution_count": 17,
      "outputs": [
        {
          "output_type": "display_data",
          "data": {
            "image/png": "[encoded data removed]",
            "text/plain": [
              "<Figure size 504x504 with 3 Axes>"
            ]
          },
          "metadata": {
            "tags": [],
            "needs_background": "light"
          }
        }
      ]
    },
    {
      "cell_type": "markdown",
      "metadata": {
        "id": "IVrNih9t4sN1",
        "colab_type": "text"
      },
      "source": [
        "Here we can see points having a larger vertical spread, than the prior validation graph and less linear correlation which is expected as this model performs worse than the first model. This time we see more dramatic rise at prediction=20, with labels going up to 80 for values."
      ]
    },
    {
      "cell_type": "code",
      "metadata": {
        "id": "BzL6dUKn3KTR",
        "colab_type": "code",
        "outputId": "fbb854c5-bb66-407e-e29c-7e91e6e7e644",
        "colab": {
          "base_uri": "https://localhost:8080/",
          "height": 34
        }
      },
      "source": [
        "# Load third model \n",
        "MODEL_2 = pickle.load(open(os.path.join(model_dir, 'MODEL_2.pickle'), \"rb\"))"
      ],
      "execution_count": 18,
      "outputs": [
        {
          "output_type": "stream",
          "text": [
            "[12:32:07] WARNING: /workspace/src/objective/regression_obj.cu:152: reg:linear is now deprecated in favor of reg:squarederror.\n"
          ],
          "name": "stdout"
        }
      ]
    },
    {
      "cell_type": "code",
      "metadata": {
        "id": "h2DwMcRx5yOX",
        "colab_type": "code",
        "outputId": "425269ff-6c31-4cf0-f913-39d8987b90aa",
        "colab": {
          "base_uri": "https://localhost:8080/",
          "height": 404
        }
      },
      "source": [
        "# Plot feature importances for model 2\n",
        "plot_features(MODEL_2, figsize=(15, 6))"
      ],
      "execution_count": 19,
      "outputs": [
        {
          "output_type": "display_data",
          "data": {
            "image/png": "[encoded data removed]",
            "text/plain": [
              "<Figure size 1080x432 with 1 Axes>"
            ]
          },
          "metadata": {
            "tags": [],
            "needs_background": "light"
          }
        }
      ]
    },
    {
      "cell_type": "markdown",
      "metadata": {
        "id": "_6GDckxe6WN_",
        "colab_type": "text"
      },
      "source": [
        "Most important feature is item_cnt_max with an F-score of 752, followed by item_price_unit with 456. The weakest feature is item_name_code with an F-score of 89, the lowests F-score of the three models."
      ]
    },
    {
      "cell_type": "code",
      "metadata": {
        "id": "VKeVNJWePuUp",
        "colab_type": "code",
        "outputId": "65486e05-3478-4dc4-f276-54ddd1f65422",
        "colab": {
          "base_uri": "https://localhost:8080/",
          "height": 34
        }
      },
      "source": [
        "# Make predictions on train set\n",
        "model_2_predictions_train = MODEL_2.predict(train_X[features_subsets[2]]).clip(0,50)\n",
        "\n",
        "print('Model 2 train rmse:', np.sqrt(mean_squared_error(train_Y, model_2_predictions_train)))"
      ],
      "execution_count": 20,
      "outputs": [
        {
          "output_type": "stream",
          "text": [
            "Model 2 train rmse: 0.8014202960858962\n"
          ],
          "name": "stdout"
        }
      ]
    },
    {
      "cell_type": "code",
      "metadata": {
        "id": "2f8E8pQYQAWe",
        "colab_type": "code",
        "outputId": "6a33e168-cb55-4d92-9107-7d5964115058",
        "colab": {
          "base_uri": "https://localhost:8080/",
          "height": 34
        }
      },
      "source": [
        "# Make predictions on validation set\n",
        "model_2_predictions_validation = MODEL_2.predict(validation_X[features_subsets[2]]).clip(0,50)\n",
        "\n",
        "print('Model 2 validation rmse:', np.sqrt(mean_squared_error(validation_Y, model_2_predictions_validation)))"
      ],
      "execution_count": 22,
      "outputs": [
        {
          "output_type": "stream",
          "text": [
            "Model 2 validation rmse: 0.49780744328025783\n"
          ],
          "name": "stdout"
        }
      ]
    },
    {
      "cell_type": "markdown",
      "metadata": {
        "id": "wCjit4UTfBW9",
        "colab_type": "text"
      },
      "source": [
        "The train rmse is the second lowest of the three models with a value of 0.80. The validation rmse is also the second lowst of the three models."
      ]
    },
    {
      "cell_type": "code",
      "metadata": {
        "id": "g9Qx_vVSo1h5",
        "colab_type": "code",
        "colab": {
          "base_uri": "https://localhost:8080/",
          "height": 136
        },
        "outputId": "66ac7708-0b05-40ac-9d5c-a1ad6bc891d2"
      },
      "source": [
        "# See all model rmse values for train and validation sets\n",
        "print('Model 0 train rmse:', np.sqrt(mean_squared_error(train_Y, model_0_predictions_train)))\n",
        "print('Model 1 train rmse:', np.sqrt(mean_squared_error(train_Y, model_1_predictions_train)))\n",
        "print('Model 2 train rmse:', np.sqrt(mean_squared_error(train_Y, model_2_predictions_train)))\n",
        "print(\"\")\n",
        "print('Model 0 validation rmse:', np.sqrt(mean_squared_error(validation_Y, model_0_predictions_validation)))\n",
        "print('Model 1 validation rmse:', np.sqrt(mean_squared_error(validation_Y, model_1_predictions_validation)))\n",
        "print('Model 2 validation rmse:', np.sqrt(mean_squared_error(validation_Y, model_2_predictions_validation)))"
      ],
      "execution_count": 24,
      "outputs": [
        {
          "output_type": "stream",
          "text": [
            "Model 0 train rmse: 0.7659338822546984\n",
            "Model 1 train rmse: 0.857144992920556\n",
            "Model 2 train rmse: 0.8014202960858962\n",
            "\n",
            "Model 0 validation rmse: 0.46040532943767487\n",
            "Model 1 validation rmse: 0.5421107639925716\n",
            "Model 2 validation rmse: 0.49780744328025783\n"
          ],
          "name": "stdout"
        }
      ]
    },
    {
      "cell_type": "markdown",
      "metadata": {
        "id": "2WMQvg7UpWE6",
        "colab_type": "text"
      },
      "source": [
        "So we can see the best performing model is model 0 for both train and validation data, and the worst performing model is model 1. We will now stack our predicted outputs and apply linear regression. The hope is the stacked model leads to better results."
      ]
    },
    {
      "cell_type": "code",
      "metadata": {
        "id": "mHQXgRazVaIO",
        "colab_type": "code",
        "outputId": "fa935295-e3a5-48c8-f02a-7697387fc262",
        "colab": {
          "base_uri": "https://localhost:8080/",
          "height": 204
        }
      },
      "source": [
        "# Build stacked training df\n",
        "stacked_train_df = pd.DataFrame(model_0_predictions_train, columns=['model_0'])\n",
        "stacked_train_df['model_1'] = model_1_predictions_train\n",
        "stacked_train_df['model_2'] = model_2_predictions_train\n",
        "stacked_train_df['target'] = train_Y.values\n",
        "\n",
        "stacked_train_df.head()"
      ],
      "execution_count": 25,
      "outputs": [
        {
          "output_type": "execute_result",
          "data": {
            "text/html": [
              "<div>\n",
              "<style scoped>\n",
              "    .dataframe tbody tr th:only-of-type {\n",
              "        vertical-align: middle;\n",
              "    }\n",
              "\n",
              "    .dataframe tbody tr th {\n",
              "        vertical-align: top;\n",
              "    }\n",
              "\n",
              "    .dataframe thead th {\n",
              "        text-align: right;\n",
              "    }\n",
              "</style>\n",
              "<table border=\"1\" class=\"dataframe\">\n",
              "  <thead>\n",
              "    <tr style=\"text-align: right;\">\n",
              "      <th></th>\n",
              "      <th>model_0</th>\n",
              "      <th>model_1</th>\n",
              "      <th>model_2</th>\n",
              "      <th>target</th>\n",
              "    </tr>\n",
              "  </thead>\n",
              "  <tbody>\n",
              "    <tr>\n",
              "      <th>0</th>\n",
              "      <td>1.76</td>\n",
              "      <td>1.96</td>\n",
              "      <td>1.67</td>\n",
              "      <td>2.00</td>\n",
              "    </tr>\n",
              "    <tr>\n",
              "      <th>1</th>\n",
              "      <td>2.79</td>\n",
              "      <td>1.78</td>\n",
              "      <td>2.67</td>\n",
              "      <td>3.00</td>\n",
              "    </tr>\n",
              "    <tr>\n",
              "      <th>2</th>\n",
              "      <td>1.06</td>\n",
              "      <td>1.17</td>\n",
              "      <td>1.05</td>\n",
              "      <td>1.00</td>\n",
              "    </tr>\n",
              "    <tr>\n",
              "      <th>3</th>\n",
              "      <td>1.02</td>\n",
              "      <td>1.17</td>\n",
              "      <td>1.03</td>\n",
              "      <td>1.00</td>\n",
              "    </tr>\n",
              "    <tr>\n",
              "      <th>4</th>\n",
              "      <td>1.06</td>\n",
              "      <td>1.26</td>\n",
              "      <td>0.95</td>\n",
              "      <td>1.00</td>\n",
              "    </tr>\n",
              "  </tbody>\n",
              "</table>\n",
              "</div>"
            ],
            "text/plain": [
              "   model_0  model_1  model_2  target\n",
              "0     1.76     1.96     1.67    2.00\n",
              "1     2.79     1.78     2.67    3.00\n",
              "2     1.06     1.17     1.05    1.00\n",
              "3     1.02     1.17     1.03    1.00\n",
              "4     1.06     1.26     0.95    1.00"
            ]
          },
          "metadata": {
            "tags": []
          },
          "execution_count": 25
        }
      ]
    },
    {
      "cell_type": "code",
      "metadata": {
        "id": "CmymkbCrWyy8",
        "colab_type": "code",
        "outputId": "897a1ffa-83f8-4463-e622-2cbf5e322405",
        "colab": {
          "base_uri": "https://localhost:8080/",
          "height": 204
        }
      },
      "source": [
        "# Build stacked validation df\n",
        "stacked_validation_df = pd.DataFrame(model_0_predictions_validation, columns=['model_0'])\n",
        "stacked_validation_df['model_1'] = model_1_predictions_validation\n",
        "stacked_validation_df['model_2'] = model_2_predictions_validation\n",
        "stacked_validation_df['target'] = validation_Y.values\n",
        "\n",
        "stacked_validation_df.head()"
      ],
      "execution_count": 26,
      "outputs": [
        {
          "output_type": "execute_result",
          "data": {
            "text/html": [
              "<div>\n",
              "<style scoped>\n",
              "    .dataframe tbody tr th:only-of-type {\n",
              "        vertical-align: middle;\n",
              "    }\n",
              "\n",
              "    .dataframe tbody tr th {\n",
              "        vertical-align: top;\n",
              "    }\n",
              "\n",
              "    .dataframe thead th {\n",
              "        text-align: right;\n",
              "    }\n",
              "</style>\n",
              "<table border=\"1\" class=\"dataframe\">\n",
              "  <thead>\n",
              "    <tr style=\"text-align: right;\">\n",
              "      <th></th>\n",
              "      <th>model_0</th>\n",
              "      <th>model_1</th>\n",
              "      <th>model_2</th>\n",
              "      <th>target</th>\n",
              "    </tr>\n",
              "  </thead>\n",
              "  <tbody>\n",
              "    <tr>\n",
              "      <th>0</th>\n",
              "      <td>0.87</td>\n",
              "      <td>0.92</td>\n",
              "      <td>0.94</td>\n",
              "      <td>1.00</td>\n",
              "    </tr>\n",
              "    <tr>\n",
              "      <th>1</th>\n",
              "      <td>0.97</td>\n",
              "      <td>0.92</td>\n",
              "      <td>0.94</td>\n",
              "      <td>1.00</td>\n",
              "    </tr>\n",
              "    <tr>\n",
              "      <th>2</th>\n",
              "      <td>0.97</td>\n",
              "      <td>0.92</td>\n",
              "      <td>0.93</td>\n",
              "      <td>1.00</td>\n",
              "    </tr>\n",
              "    <tr>\n",
              "      <th>3</th>\n",
              "      <td>0.97</td>\n",
              "      <td>0.92</td>\n",
              "      <td>0.94</td>\n",
              "      <td>1.00</td>\n",
              "    </tr>\n",
              "    <tr>\n",
              "      <th>4</th>\n",
              "      <td>1.01</td>\n",
              "      <td>1.24</td>\n",
              "      <td>0.97</td>\n",
              "      <td>1.00</td>\n",
              "    </tr>\n",
              "  </tbody>\n",
              "</table>\n",
              "</div>"
            ],
            "text/plain": [
              "   model_0  model_1  model_2  target\n",
              "0     0.87     0.92     0.94    1.00\n",
              "1     0.97     0.92     0.94    1.00\n",
              "2     0.97     0.92     0.93    1.00\n",
              "3     0.97     0.92     0.94    1.00\n",
              "4     1.01     1.24     0.97    1.00"
            ]
          },
          "metadata": {
            "tags": []
          },
          "execution_count": 26
        }
      ]
    },
    {
      "cell_type": "code",
      "metadata": {
        "id": "o5kqaeDJW7i1",
        "colab_type": "code",
        "outputId": "6eb172cc-c240-4489-d464-d24d87da0d4d",
        "colab": {
          "base_uri": "https://localhost:8080/",
          "height": 204
        }
      },
      "source": [
        "# For each model, make predictions on test data and build stacked test df\n",
        "model_0_predictions_test = MODEL_0.predict(test_X[features_subsets[0]]).clip(0,50)\n",
        "model_1_predictions_test = MODEL_1.predict(test_X[features_subsets[1]]).clip(0,50)\n",
        "model_2_predictions_test = MODEL_2.predict(test_X[features_subsets[2]]).clip(0,50)\n",
        "\n",
        "# Build stacked test df\n",
        "stacked_test_df = pd.DataFrame(model_0_predictions_test, columns=['model_0'])\n",
        "stacked_test_df['model_1'] = model_1_predictions_test\n",
        "stacked_test_df['model_2'] = model_2_predictions_test\n",
        "\n",
        "stacked_test_df.head()"
      ],
      "execution_count": 27,
      "outputs": [
        {
          "output_type": "execute_result",
          "data": {
            "text/html": [
              "<div>\n",
              "<style scoped>\n",
              "    .dataframe tbody tr th:only-of-type {\n",
              "        vertical-align: middle;\n",
              "    }\n",
              "\n",
              "    .dataframe tbody tr th {\n",
              "        vertical-align: top;\n",
              "    }\n",
              "\n",
              "    .dataframe thead th {\n",
              "        text-align: right;\n",
              "    }\n",
              "</style>\n",
              "<table border=\"1\" class=\"dataframe\">\n",
              "  <thead>\n",
              "    <tr style=\"text-align: right;\">\n",
              "      <th></th>\n",
              "      <th>model_0</th>\n",
              "      <th>model_1</th>\n",
              "      <th>model_2</th>\n",
              "    </tr>\n",
              "  </thead>\n",
              "  <tbody>\n",
              "    <tr>\n",
              "      <th>0</th>\n",
              "      <td>0.03</td>\n",
              "      <td>0.09</td>\n",
              "      <td>0.06</td>\n",
              "    </tr>\n",
              "    <tr>\n",
              "      <th>1</th>\n",
              "      <td>0.03</td>\n",
              "      <td>0.09</td>\n",
              "      <td>0.06</td>\n",
              "    </tr>\n",
              "    <tr>\n",
              "      <th>2</th>\n",
              "      <td>1.05</td>\n",
              "      <td>1.39</td>\n",
              "      <td>1.13</td>\n",
              "    </tr>\n",
              "    <tr>\n",
              "      <th>3</th>\n",
              "      <td>0.03</td>\n",
              "      <td>0.09</td>\n",
              "      <td>0.06</td>\n",
              "    </tr>\n",
              "    <tr>\n",
              "      <th>4</th>\n",
              "      <td>0.03</td>\n",
              "      <td>0.09</td>\n",
              "      <td>0.06</td>\n",
              "    </tr>\n",
              "  </tbody>\n",
              "</table>\n",
              "</div>"
            ],
            "text/plain": [
              "   model_0  model_1  model_2\n",
              "0     0.03     0.09     0.06\n",
              "1     0.03     0.09     0.06\n",
              "2     1.05     1.39     1.13\n",
              "3     0.03     0.09     0.06\n",
              "4     0.03     0.09     0.06"
            ]
          },
          "metadata": {
            "tags": []
          },
          "execution_count": 27
        }
      ]
    },
    {
      "cell_type": "markdown",
      "metadata": {
        "id": "olPD3Yh_Z99a",
        "colab_type": "text"
      },
      "source": [
        "Great! We are all set for training our linear regression model. Whilst a more complicated model can be applied, we have opted for a simple model as we only have 3 features which are numerical in value. An option is to play around with the type of model and generally experiment with the possibilities.\n",
        "\n",
        "Our training approach here will be to first fit a linear regression to train data predictions from our first layer of models, then further fit the linear regression model with the validation data predictions from our first layer of models. This may be considered a very basic form of fine-tuning and hoping to squeeze better performance for ultimately making predictions on our test set."
      ]
    },
    {
      "cell_type": "code",
      "metadata": {
        "id": "rjtlW0hpa-_x",
        "colab_type": "code",
        "colab": {}
      },
      "source": [
        "# Import libraries for linear regression\n",
        "from sklearn.linear_model import LinearRegression\n",
        "\n",
        "# Ref: https://scikit-learn.org/stable/modules/generated/sklearn.linear_model.LinearRegression.html"
      ],
      "execution_count": 0,
      "outputs": []
    },
    {
      "cell_type": "code",
      "metadata": {
        "id": "xkJs-jaKhdIG",
        "colab_type": "code",
        "colab": {}
      },
      "source": [
        "# Initialise LinearRegression model, use all processors available.\n",
        "stacked_model = LinearRegression(n_jobs=-1) "
      ],
      "execution_count": 0,
      "outputs": []
    },
    {
      "cell_type": "code",
      "metadata": {
        "id": "kZff0YPxk9l1",
        "colab_type": "code",
        "outputId": "c1bbb430-f4de-42da-dd69-c281be50fcb1",
        "colab": {
          "base_uri": "https://localhost:8080/",
          "height": 34
        }
      },
      "source": [
        "stacked_train_df.columns"
      ],
      "execution_count": 31,
      "outputs": [
        {
          "output_type": "execute_result",
          "data": {
            "text/plain": [
              "Index(['model_0', 'model_1', 'model_2', 'target'], dtype='object')"
            ]
          },
          "metadata": {
            "tags": []
          },
          "execution_count": 31
        }
      ]
    },
    {
      "cell_type": "code",
      "metadata": {
        "id": "ZY1oIn5bjvWf",
        "colab_type": "code",
        "colab": {}
      },
      "source": [
        "# Get training and test features for our training set\n",
        "stacked_train_df_X = stacked_train_df[['model_0', 'model_1', 'model_2']]\n",
        "stacked_train_df_Y = stacked_train_df.target\n",
        "\n",
        "# As well as our validation set\n",
        "stacked_validation_df_X = stacked_validation_df[['model_0', 'model_1', 'model_2']]\n",
        "stacked_validation_df_Y = stacked_validation_df.target"
      ],
      "execution_count": 0,
      "outputs": []
    },
    {
      "cell_type": "code",
      "metadata": {
        "id": "n6TASdHovpiF",
        "colab_type": "code",
        "outputId": "e4ac060e-fbb1-453e-a318-0f9a7bf1429f",
        "colab": {
          "base_uri": "https://localhost:8080/",
          "height": 204
        }
      },
      "source": [
        "stacked_train_df_X.head(), stacked_train_df_Y.head()"
      ],
      "execution_count": 37,
      "outputs": [
        {
          "output_type": "execute_result",
          "data": {
            "text/plain": [
              "(   model_0  model_1  model_2\n",
              " 0     1.76     1.96     1.67\n",
              " 1     2.79     1.78     2.67\n",
              " 2     1.06     1.17     1.05\n",
              " 3     1.02     1.17     1.03\n",
              " 4     1.06     1.26     0.95, 0   2.00\n",
              " 1   3.00\n",
              " 2   1.00\n",
              " 3   1.00\n",
              " 4   1.00\n",
              " Name: target, dtype: float64)"
            ]
          },
          "metadata": {
            "tags": []
          },
          "execution_count": 37
        }
      ]
    },
    {
      "cell_type": "code",
      "metadata": {
        "id": "RGolAN11wMAY",
        "colab_type": "code",
        "colab": {
          "base_uri": "https://localhost:8080/",
          "height": 204
        },
        "outputId": "913404e3-d1b9-4244-d6d7-859d0e232ce7"
      },
      "source": [
        "stacked_validation_df_X.head(), stacked_validation_df_Y.head()"
      ],
      "execution_count": 38,
      "outputs": [
        {
          "output_type": "execute_result",
          "data": {
            "text/plain": [
              "(   model_0  model_1  model_2\n",
              " 0     0.87     0.92     0.94\n",
              " 1     0.97     0.92     0.94\n",
              " 2     0.97     0.92     0.93\n",
              " 3     0.97     0.92     0.94\n",
              " 4     1.01     1.24     0.97, 0   1.00\n",
              " 1   1.00\n",
              " 2   1.00\n",
              " 3   1.00\n",
              " 4   1.00\n",
              " Name: target, dtype: float64)"
            ]
          },
          "metadata": {
            "tags": []
          },
          "execution_count": 38
        }
      ]
    },
    {
      "cell_type": "code",
      "metadata": {
        "id": "oDrbiJpZkDdz",
        "colab_type": "code",
        "outputId": "93333738-4d6b-4795-80cc-1b6ad5fd0526",
        "colab": {
          "base_uri": "https://localhost:8080/",
          "height": 34
        }
      },
      "source": [
        "# Fit linear regression to outputs of XGBoost on train predictions\n",
        "stacked_model.fit(stacked_train_df_X, stacked_train_df_Y)"
      ],
      "execution_count": 35,
      "outputs": [
        {
          "output_type": "execute_result",
          "data": {
            "text/plain": [
              "LinearRegression(copy_X=True, fit_intercept=True, n_jobs=-1, normalize=False)"
            ]
          },
          "metadata": {
            "tags": []
          },
          "execution_count": 35
        }
      ]
    },
    {
      "cell_type": "code",
      "metadata": {
        "id": "pyVDsBUD2yE7",
        "colab_type": "code",
        "outputId": "3969b013-026a-40e3-fb32-b1f7475b2997",
        "colab": {
          "base_uri": "https://localhost:8080/",
          "height": 68
        }
      },
      "source": [
        "# See how model performs on train and val data\n",
        "stacked_model_train_pred = stacked_model.predict(stacked_train_df_X)\n",
        "stacked_model_validation_pred =stacked_model.predict(stacked_validation_df_X) \n",
        "\n",
        "print('Linear model trained on train outputs from first layer models.')\n",
        "print('Train rmse:', np.sqrt(mean_squared_error(stacked_model_train_pred, stacked_train_df_Y)))\n",
        "print('Validation rmse:', np.sqrt(mean_squared_error(stacked_model_validation_pred, stacked_validation_df_Y)))"
      ],
      "execution_count": 43,
      "outputs": [
        {
          "output_type": "stream",
          "text": [
            "Linear model trained on train outputs from first layer models.\n",
            "Train rmse: 0.7609417347558269\n",
            "Validation rmse: 0.4674036923399024\n"
          ],
          "name": "stdout"
        }
      ]
    },
    {
      "cell_type": "markdown",
      "metadata": {
        "id": "9O4nGFLXzNhL",
        "colab_type": "text"
      },
      "source": [
        "The train performance is better than all of the initial models. Validation performance is 0.007 rmse value greater than the best xgboost model (model 1). This shows promise for a stacked model."
      ]
    },
    {
      "cell_type": "code",
      "metadata": {
        "id": "9T43l5n8zjDl",
        "colab_type": "code",
        "colab": {
          "base_uri": "https://localhost:8080/",
          "height": 34
        },
        "outputId": "33c7ced8-dac9-407c-fa69-5d31ce8b79b9"
      },
      "source": [
        "# Now further fit on validation outputs of XGBoost (fine-tune)\n",
        "stacked_model.fit(stacked_validation_df_X, stacked_validation_df_Y)"
      ],
      "execution_count": 44,
      "outputs": [
        {
          "output_type": "execute_result",
          "data": {
            "text/plain": [
              "LinearRegression(copy_X=True, fit_intercept=True, n_jobs=-1, normalize=False)"
            ]
          },
          "metadata": {
            "tags": []
          },
          "execution_count": 44
        }
      ]
    },
    {
      "cell_type": "code",
      "metadata": {
        "id": "skUId-umzr4D",
        "colab_type": "code",
        "colab": {
          "base_uri": "https://localhost:8080/",
          "height": 68
        },
        "outputId": "38f2e9db-24f1-4bbb-e8e7-99f95ffac43f"
      },
      "source": [
        "# And again, assess performance\n",
        "stacked_model_train_pred = stacked_model.predict(stacked_train_df_X)\n",
        "stacked_model_validation_pred =stacked_model.predict(stacked_validation_df_X) \n",
        "\n",
        "print('Linear model trained on train outputs from first layer models.')\n",
        "print('Train rmse:', np.sqrt(mean_squared_error(stacked_model_train_pred, stacked_train_df_Y)))\n",
        "print('Validation rmse:', np.sqrt(mean_squared_error(stacked_model_validation_pred, stacked_validation_df_Y)))"
      ],
      "execution_count": 45,
      "outputs": [
        {
          "output_type": "stream",
          "text": [
            "Linear model trained on train outputs from first layer models.\n",
            "Train rmse: 0.7667652457410442\n",
            "Validation rmse: 0.45888806686050015\n"
          ],
          "name": "stdout"
        }
      ]
    },
    {
      "cell_type": "markdown",
      "metadata": {
        "id": "3LsGMFSyzySd",
        "colab_type": "text"
      },
      "source": [
        "Great! The validation rmse went down to 0.4588 and outperforms first layer models. The train rmse increased slightly as expected. Another thing to try is perhaps train a linear model only on the validation outputs. However, moving forward, we will make predictions for our test set and create a submission file."
      ]
    },
    {
      "cell_type": "code",
      "metadata": {
        "id": "Pt0Jbmk90WCP",
        "colab_type": "code",
        "colab": {
          "base_uri": "https://localhost:8080/",
          "height": 34
        },
        "outputId": "d14f16e1-b2e7-4155-caff-f57f4592a212"
      },
      "source": [
        "# Make predicitons on test set\n",
        "stacked_model_test_pred = stacked_model.predict(stacked_test_df).clip(0, 50)\n",
        "\n",
        "min(stacked_model_test_pred), max(stacked_model_test_pred), len(stacked_model_test_pred)"
      ],
      "execution_count": 53,
      "outputs": [
        {
          "output_type": "execute_result",
          "data": {
            "text/plain": [
              "(0.0, 22.58459, 214200)"
            ]
          },
          "metadata": {
            "tags": []
          },
          "execution_count": 53
        }
      ]
    },
    {
      "cell_type": "code",
      "metadata": {
        "id": "5x_6XyXnXGV8",
        "colab_type": "code",
        "colab": {}
      },
      "source": [
        "# Load the template, set predictions and save!\n",
        "submission_test = pd.read_csv(os.path.join('./data/competition_files/sample_submission.csv'), index_col='ID')\n",
        "submission_test['item_cnt_month'] = stacked_model_test_pred\n",
        "pd.DataFrame(submission_test).to_csv(os.path.join(data_dir, 'submission.csv'), header=True, index=True)"
      ],
      "execution_count": 0,
      "outputs": []
    },
    {
      "cell_type": "code",
      "metadata": {
        "id": "IPrCILDmhv_C",
        "colab_type": "code",
        "colab": {}
      },
      "source": [
        ""
      ],
      "execution_count": 0,
      "outputs": []
    }
  ]
}