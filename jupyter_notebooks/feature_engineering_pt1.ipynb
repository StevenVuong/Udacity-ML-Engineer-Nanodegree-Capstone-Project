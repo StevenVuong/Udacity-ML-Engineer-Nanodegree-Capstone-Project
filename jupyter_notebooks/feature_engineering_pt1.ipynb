{
  "nbformat": 4,
  "nbformat_minor": 0,
  "metadata": {
    "kernelspec": {
      "display_name": "conda_pytorch_p36",
      "language": "python",
      "name": "conda_pytorch_p36"
    },
    "language_info": {
      "codemirror_mode": {
        "name": "ipython",
        "version": 3
      },
      "file_extension": ".py",
      "mimetype": "text/x-python",
      "name": "python",
      "nbconvert_exporter": "python",
      "pygments_lexer": "ipython3",
      "version": "3.6.5"
    },
    "colab": {
      "name": "feature-engineering-pt1.ipynb",
      "provenance": [],
      "collapsed_sections": []
    }
  },
  "cells": [
    {
      "cell_type": "markdown",
      "metadata": {
        "id": "hTtGzoCtenkM",
        "colab_type": "text"
      },
      "source": [
        "The Goal of this Notebook is to predict Future Sales given historical data (daily granularity). This is a part of the kaggle competition \"Predict Future Sales\": https://www.kaggle.com/c/competitive-data-science-predict-future-sales/data Where more information about the problem, dataset and other solutions can be found.\n",
        "\n",
        "For my own usage, this is a part of the Capstone Project as part of the Udacity Machine Learning Engineer Nanodegree program and so am running this on AWS Sagemaker, with a conda_pytorch_36 shell.\n",
        "\n",
        "Author: Steven Vuong. <br>\n",
        "Most recent update: 25/05/2020"
      ]
    },
    {
      "cell_type": "code",
      "metadata": {
        "id": "GnyxABAKfZMW",
        "colab_type": "code",
        "outputId": "03498aa8-7535-454c-805d-a12459a31c78",
        "colab": {
          "base_uri": "https://localhost:8080/",
          "height": 34
        }
      },
      "source": [
        "# mount gdrive\n",
        "from google.colab import drive\n",
        "drive.mount('/gdrive')"
      ],
      "execution_count": 1,
      "outputs": [
        {
          "output_type": "stream",
          "text": [
            "Drive already mounted at /gdrive; to attempt to forcibly remount, call drive.mount(\"/gdrive\", force_remount=True).\n"
          ],
          "name": "stdout"
        }
      ]
    },
    {
      "cell_type": "code",
      "metadata": {
        "id": "uEzkFUtDfa7Y",
        "colab_type": "code",
        "outputId": "7a6355e8-6735-4cc6-fb6b-ddb85d30e7e3",
        "colab": {
          "base_uri": "https://localhost:8080/",
          "height": 34
        }
      },
      "source": [
        "# cd to dir\n",
        "% cd '../gdrive/My Drive/self_teach/udacity_ml_eng_nanodegree'"
      ],
      "execution_count": 2,
      "outputs": [
        {
          "output_type": "stream",
          "text": [
            "/gdrive/My Drive/self_teach/udacity_ml_eng_nanodegree\n"
          ],
          "name": "stdout"
        }
      ]
    },
    {
      "cell_type": "code",
      "metadata": {
        "id": "RG9ucN8XenkN",
        "colab_type": "code",
        "outputId": "ca7efbf4-36bb-42d7-89fa-b7f09991e69b",
        "colab": {
          "base_uri": "https://localhost:8080/",
          "height": 51
        }
      },
      "source": [
        "# Import Libraries\n",
        "import pandas as pd\n",
        "import numpy as np\n",
        "import warnings\n",
        "from sklearn.preprocessing import LabelEncoder\n",
        "\n",
        "# Visualisation Libraries\n",
        "import seaborn as sns\n",
        "import matplotlib.pyplot as plt\n",
        "\n",
        "# Styling Preferences\n",
        "%matplotlib inline\n",
        "sns.set(style=\"darkgrid\")\n",
        "pd.set_option('display.float_format', lambda x: '%.2f' % x)\n",
        "warnings.filterwarnings(\"ignore\")"
      ],
      "execution_count": 3,
      "outputs": [
        {
          "output_type": "stream",
          "text": [
            "/usr/local/lib/python3.6/dist-packages/statsmodels/tools/_testing.py:19: FutureWarning: pandas.util.testing is deprecated. Use the functions in the public API at pandas.testing instead.\n",
            "  import pandas.util.testing as tm\n"
          ],
          "name": "stderr"
        }
      ]
    },
    {
      "cell_type": "markdown",
      "metadata": {
        "id": "Tm-K5Ln5enkR",
        "colab_type": "text"
      },
      "source": [
        "Before we begin, Thanks to the following notebooks who I gained some ideas from in feature engineering/visualisations (and took code snippets from). I would suggest having a look at their notebooks and work also, and if you like it, give them a thumbs up on Kaggle to support their work :)):\n",
        "-  https://www.kaggle.com/dlarionov/feature-engineering-xgboost\n",
        "-  https://www.kaggle.com/kyakovlev/1st-place-solution-part-1-hands-on-data\n",
        "-  https://www.kaggle.com/dimitreoliveira/model-stacking-feature-engineering-and-eda"
      ]
    },
    {
      "cell_type": "code",
      "metadata": {
        "id": "l7tWeIHJenkR",
        "colab_type": "code",
        "colab": {}
      },
      "source": [
        "# Load in dataset (cast float64 -> float32 and int32 -> int16 to save memory)\n",
        "items = pd.read_csv('./data/competition_files/items.csv', \n",
        "                    dtype={'item_name': 'str', 'item_id': 'int16', 'item_category_id': 'int16'}\n",
        "                   )\n",
        "shops = pd.read_csv('./data/competition_files/shops.csv',\n",
        "                    dtype={'shop_name': 'str', 'shop_id': 'int16'}\n",
        "                   )\n",
        "categories = pd.read_csv('./data/competition_files/item_categories.csv', \n",
        "                         dtype={'item_category_name': 'str', 'item_category_id': 'int16'}\n",
        "                        )\n",
        "train = pd.read_csv('./data/competition_files/sales_train.csv', \n",
        "                    dtype={\n",
        "                        'date': 'str', \n",
        "                        'date_block_num': 'int16', \n",
        "                        'shop_id': 'int16', \n",
        "                        'item_id': 'int16', \n",
        "                        'item_price': 'float32', \n",
        "                        'item_cnt_day': 'int16'}\n",
        "                   )\n",
        "# set index to ID to avoid dropping it later\n",
        "test  = pd.read_csv('./data/competition_files/test.csv', \n",
        "                    dtype={'ID': 'int16', 'shop_id': 'int16', 'item_id': 'int16'}\n",
        "                   ).set_index('ID')"
      ],
      "execution_count": 0,
      "outputs": []
    },
    {
      "cell_type": "code",
      "metadata": {
        "id": "yp-zT1taenkU",
        "colab_type": "code",
        "colab": {}
      },
      "source": [
        "# Cast train date from string to datetime data type\n",
        "train.date = train.date.str.replace(\".\", \"/\")\n",
        "train.date = pd.to_datetime(train.date)"
      ],
      "execution_count": 0,
      "outputs": []
    },
    {
      "cell_type": "markdown",
      "metadata": {
        "id": "AGe0RSvbenkW",
        "colab_type": "text"
      },
      "source": [
        "Join the different data sets; merge onto train df"
      ]
    },
    {
      "cell_type": "code",
      "metadata": {
        "id": "GcL9o0UfenkX",
        "colab_type": "code",
        "colab": {}
      },
      "source": [
        "train = train.join(\n",
        "    items, on='item_id', rsuffix='_').join(\n",
        "    shops, on='shop_id', rsuffix='_').join(\n",
        "    categories, on='item_category_id', rsuffix='_').drop(\n",
        "    ['item_id_', 'shop_id_', 'item_category_id_'], axis=1\n",
        ")"
      ],
      "execution_count": 0,
      "outputs": []
    },
    {
      "cell_type": "markdown",
      "metadata": {
        "id": "rV2Ie6uoenkZ",
        "colab_type": "text"
      },
      "source": [
        "Probe the train data, it appears that there are no nan data, or missing data, which is quite good."
      ]
    },
    {
      "cell_type": "code",
      "metadata": {
        "id": "QWh08D3uenka",
        "colab_type": "code",
        "outputId": "1a11dcb6-dbdc-4305-a66f-dd2609a4b26d",
        "colab": {
          "base_uri": "https://localhost:8080/",
          "height": 1000
        }
      },
      "source": [
        "print(\"----------Top-5- Record----------\")\n",
        "print(train.head(5))\n",
        "print(\"-----------Information-----------\")\n",
        "print(train.info())\n",
        "print(\"-----------Data Types-----------\")\n",
        "print(train.dtypes)\n",
        "print(\"----------Missing value-----------\")\n",
        "print(train.isnull().sum())\n",
        "print(\"----------Null value-----------\")\n",
        "print(train.isna().sum())\n",
        "print(\"----------Shape of Data----------\")\n",
        "print(\"Number of rows = {}, Number of columns = {}\".format(len(train), len(train.columns)))\n",
        "print(\"----------Data Description----------\")\n",
        "print(train.describe())"
      ],
      "execution_count": 7,
      "outputs": [
        {
          "output_type": "stream",
          "text": [
            "----------Top-5- Record----------\n",
            "        date  ...                   item_category_name\n",
            "0 2013-02-01  ...                       Кино - Blu-Ray\n",
            "1 2013-03-01  ...                       Музыка - Винил\n",
            "2 2013-05-01  ...                       Музыка - Винил\n",
            "3 2013-06-01  ...                       Музыка - Винил\n",
            "4 2013-01-15  ...  Музыка - CD фирменного производства\n",
            "\n",
            "[5 rows x 10 columns]\n",
            "-----------Information-----------\n",
            "<class 'pandas.core.frame.DataFrame'>\n",
            "RangeIndex: 2935849 entries, 0 to 2935848\n",
            "Data columns (total 10 columns):\n",
            " #   Column              Dtype         \n",
            "---  ------              -----         \n",
            " 0   date                datetime64[ns]\n",
            " 1   date_block_num      int16         \n",
            " 2   shop_id             int16         \n",
            " 3   item_id             int16         \n",
            " 4   item_price          float32       \n",
            " 5   item_cnt_day        int16         \n",
            " 6   item_name           object        \n",
            " 7   item_category_id    int16         \n",
            " 8   shop_name           object        \n",
            " 9   item_category_name  object        \n",
            "dtypes: datetime64[ns](1), float32(1), int16(5), object(3)\n",
            "memory usage: 128.8+ MB\n",
            "None\n",
            "-----------Data Types-----------\n",
            "date                  datetime64[ns]\n",
            "date_block_num                 int16\n",
            "shop_id                        int16\n",
            "item_id                        int16\n",
            "item_price                   float32\n",
            "item_cnt_day                   int16\n",
            "item_name                     object\n",
            "item_category_id               int16\n",
            "shop_name                     object\n",
            "item_category_name            object\n",
            "dtype: object\n",
            "----------Missing value-----------\n",
            "date                  0\n",
            "date_block_num        0\n",
            "shop_id               0\n",
            "item_id               0\n",
            "item_price            0\n",
            "item_cnt_day          0\n",
            "item_name             0\n",
            "item_category_id      0\n",
            "shop_name             0\n",
            "item_category_name    0\n",
            "dtype: int64\n",
            "----------Null value-----------\n",
            "date                  0\n",
            "date_block_num        0\n",
            "shop_id               0\n",
            "item_id               0\n",
            "item_price            0\n",
            "item_cnt_day          0\n",
            "item_name             0\n",
            "item_category_id      0\n",
            "shop_name             0\n",
            "item_category_name    0\n",
            "dtype: int64\n",
            "----------Shape of Data----------\n",
            "Number of rows = 2935849, Number of columns = 10\n",
            "----------Data Description----------\n",
            "       date_block_num    shop_id  ...  item_cnt_day  item_category_id\n",
            "count      2935849.00 2935849.00  ...    2935849.00        2935849.00\n",
            "mean            14.57      33.00  ...          1.24             40.00\n",
            "std              9.42      16.23  ...          2.62             17.10\n",
            "min              0.00       0.00  ...        -22.00              0.00\n",
            "25%              7.00      22.00  ...          1.00             28.00\n",
            "50%             14.00      31.00  ...          1.00             40.00\n",
            "75%             23.00      47.00  ...          1.00             55.00\n",
            "max             33.00      59.00  ...       2169.00             83.00\n",
            "\n",
            "[8 rows x 6 columns]\n"
          ],
          "name": "stdout"
        }
      ]
    },
    {
      "cell_type": "code",
      "metadata": {
        "id": "NCv9spbienkd",
        "colab_type": "code",
        "outputId": "2a94014a-2768-4a8e-e02d-5faf25467c66",
        "colab": {
          "base_uri": "https://localhost:8080/",
          "height": 51
        }
      },
      "source": [
        "# look at time period of data\n",
        "print('Min date from train set: %s' % train['date'].min().date())\n",
        "print('Max date from train set: %s' % train['date'].max().date())"
      ],
      "execution_count": 8,
      "outputs": [
        {
          "output_type": "stream",
          "text": [
            "Min date from train set: 2013-01-01\n",
            "Max date from train set: 2015-12-10\n"
          ],
          "name": "stdout"
        }
      ]
    },
    {
      "cell_type": "markdown",
      "metadata": {
        "id": "Ih0VW7LBenkj",
        "colab_type": "text"
      },
      "source": [
        "Data is from 1st January 2013 to 10th Decemer 2015, as we expect"
      ]
    },
    {
      "cell_type": "markdown",
      "metadata": {
        "id": "BK6kWJCGenkj",
        "colab_type": "text"
      },
      "source": [
        "So it turns out that a lot of data in the training set for columns \"shop_id\" and \"item_id\" does not appear in the test set. This could be perhaps because the item is no longer on sale as time goes on or shops have closed down or moved addresses. As we want to predict data in the test set, we will focus on only using \"shop_id\" and \"item_id\" that appears in the test set. \n",
        "\n",
        "These rows may contain information so could be worth keeping as an extra column (commented out) indicating whether or not the train_id or shop_id is in the test set. Unfortunately however, we are tight on memory and so will not be doing that in this notebook.\n",
        "\n",
        "To make this more future proof where the \"shop_id\" and \"item_id\" might change over time (in a production environment, let's say), one may want to consider a data pipeline to constantly train and update our model with the latest information regarding shop_id and item_id's etc.. "
      ]
    },
    {
      "cell_type": "code",
      "metadata": {
        "id": "r_7rq-XOenkk",
        "colab_type": "code",
        "colab": {}
      },
      "source": [
        "test_shop_ids = test['shop_id'].unique()\n",
        "test_item_ids = test['item_id'].unique()\n",
        "\n",
        "# Only shops that exist in test set.\n",
        "corrlate_train = train[train['shop_id'].isin(test_shop_ids)]\n",
        "# Only items that exist in test set.\n",
        "correlate_train = corrlate_train[corrlate_train['item_id'].isin(test_item_ids)]"
      ],
      "execution_count": 0,
      "outputs": []
    },
    {
      "cell_type": "code",
      "metadata": {
        "id": "oOltlBOMenkm",
        "colab_type": "code",
        "outputId": "0546ec9e-1a81-4ab2-c6a1-0ae18474cb28",
        "colab": {
          "base_uri": "https://localhost:8080/",
          "height": 51
        }
      },
      "source": [
        "print('Initial data set size :', train.shape[0])\n",
        "print('Data set size after matching crossovers between train and test:', correlate_train.shape[0])"
      ],
      "execution_count": 10,
      "outputs": [
        {
          "output_type": "stream",
          "text": [
            "Initial data set size : 2935849\n",
            "Data set size after matching crossovers between train and test: 1224439\n"
          ],
          "name": "stdout"
        }
      ]
    },
    {
      "cell_type": "code",
      "metadata": {
        "id": "yid7eGzHenko",
        "colab_type": "code",
        "colab": {}
      },
      "source": [
        "# Make separate column to indicate whether or not the train_id and shop_id is in test\n",
        "# train['is_in_test'] = train.index.isin(correlate_train.index)\n",
        "# train.head()"
      ],
      "execution_count": 0,
      "outputs": []
    },
    {
      "cell_type": "code",
      "metadata": {
        "id": "DCDAcGjtenkq",
        "colab_type": "code",
        "colab": {
          "base_uri": "https://localhost:8080/",
          "height": 34
        },
        "outputId": "7242f749-5271-4a8e-a291-09103dba0978"
      },
      "source": [
        "# Reduce train set to just match ones in test set regarding train_id and shop_id\n",
        "train = correlate_train\n",
        "len(train)"
      ],
      "execution_count": 12,
      "outputs": [
        {
          "output_type": "execute_result",
          "data": {
            "text/plain": [
              "1224439"
            ]
          },
          "metadata": {
            "tags": []
          },
          "execution_count": 12
        }
      ]
    },
    {
      "cell_type": "markdown",
      "metadata": {
        "id": "c5ZRauCfenku",
        "colab_type": "text"
      },
      "source": [
        "It appears we have 5 duplicated rows, let's look into these"
      ]
    },
    {
      "cell_type": "code",
      "metadata": {
        "id": "fMI6YxGJenku",
        "colab_type": "code",
        "outputId": "8b6b0908-b007-4c40-bb7a-1beed69d2a66",
        "colab": {
          "base_uri": "https://localhost:8080/",
          "height": 34
        }
      },
      "source": [
        "print('Number of duplicates:', len(train[train.duplicated()]))"
      ],
      "execution_count": 13,
      "outputs": [
        {
          "output_type": "stream",
          "text": [
            "Number of duplicates: 5\n"
          ],
          "name": "stdout"
        }
      ]
    },
    {
      "cell_type": "markdown",
      "metadata": {
        "id": "5AuGqIRpenkw",
        "colab_type": "text"
      },
      "source": [
        "The Itetm ID's are all the same, as well as the price for a number of them; other columns such as date, date_block_num look different. So this appears not to be a mistake. As there are only 5 duplicated rows, we will leave these in for now and deal with these later."
      ]
    },
    {
      "cell_type": "code",
      "metadata": {
        "id": "9o8j5KI0enkx",
        "colab_type": "code",
        "outputId": "3a793d1e-c23d-4e5b-a3af-39b153c70009",
        "colab": {
          "base_uri": "https://localhost:8080/",
          "height": 204
        }
      },
      "source": [
        "train[train.duplicated()]"
      ],
      "execution_count": 14,
      "outputs": [
        {
          "output_type": "execute_result",
          "data": {
            "text/html": [
              "<div>\n",
              "<style scoped>\n",
              "    .dataframe tbody tr th:only-of-type {\n",
              "        vertical-align: middle;\n",
              "    }\n",
              "\n",
              "    .dataframe tbody tr th {\n",
              "        vertical-align: top;\n",
              "    }\n",
              "\n",
              "    .dataframe thead th {\n",
              "        text-align: right;\n",
              "    }\n",
              "</style>\n",
              "<table border=\"1\" class=\"dataframe\">\n",
              "  <thead>\n",
              "    <tr style=\"text-align: right;\">\n",
              "      <th></th>\n",
              "      <th>date</th>\n",
              "      <th>date_block_num</th>\n",
              "      <th>shop_id</th>\n",
              "      <th>item_id</th>\n",
              "      <th>item_price</th>\n",
              "      <th>item_cnt_day</th>\n",
              "      <th>item_name</th>\n",
              "      <th>item_category_id</th>\n",
              "      <th>shop_name</th>\n",
              "      <th>item_category_name</th>\n",
              "    </tr>\n",
              "  </thead>\n",
              "  <tbody>\n",
              "    <tr>\n",
              "      <th>1435367</th>\n",
              "      <td>2014-02-23</td>\n",
              "      <td>13</td>\n",
              "      <td>50</td>\n",
              "      <td>3423</td>\n",
              "      <td>999.00</td>\n",
              "      <td>1</td>\n",
              "      <td>Far Cry 3 (Classics) [Xbox 360, русская версия]</td>\n",
              "      <td>23</td>\n",
              "      <td>Тюмень ТЦ \"Гудвин\"</td>\n",
              "      <td>Игры - XBOX 360</td>\n",
              "    </tr>\n",
              "    <tr>\n",
              "      <th>1496766</th>\n",
              "      <td>2014-03-23</td>\n",
              "      <td>14</td>\n",
              "      <td>21</td>\n",
              "      <td>3423</td>\n",
              "      <td>999.00</td>\n",
              "      <td>1</td>\n",
              "      <td>Far Cry 3 (Classics) [Xbox 360, русская версия]</td>\n",
              "      <td>23</td>\n",
              "      <td>Москва МТРЦ \"Афи Молл\"</td>\n",
              "      <td>Игры - XBOX 360</td>\n",
              "    </tr>\n",
              "    <tr>\n",
              "      <th>1671873</th>\n",
              "      <td>2014-01-05</td>\n",
              "      <td>16</td>\n",
              "      <td>50</td>\n",
              "      <td>3423</td>\n",
              "      <td>999.00</td>\n",
              "      <td>1</td>\n",
              "      <td>Far Cry 3 (Classics) [Xbox 360, русская версия]</td>\n",
              "      <td>23</td>\n",
              "      <td>Тюмень ТЦ \"Гудвин\"</td>\n",
              "      <td>Игры - XBOX 360</td>\n",
              "    </tr>\n",
              "    <tr>\n",
              "      <th>1866340</th>\n",
              "      <td>2014-12-07</td>\n",
              "      <td>18</td>\n",
              "      <td>25</td>\n",
              "      <td>3423</td>\n",
              "      <td>999.00</td>\n",
              "      <td>1</td>\n",
              "      <td>Far Cry 3 (Classics) [Xbox 360, русская версия]</td>\n",
              "      <td>23</td>\n",
              "      <td>Москва ТРК \"Атриум\"</td>\n",
              "      <td>Игры - XBOX 360</td>\n",
              "    </tr>\n",
              "    <tr>\n",
              "      <th>2198566</th>\n",
              "      <td>2014-12-31</td>\n",
              "      <td>23</td>\n",
              "      <td>42</td>\n",
              "      <td>21619</td>\n",
              "      <td>499.00</td>\n",
              "      <td>1</td>\n",
              "      <td>ЧЕЛОВЕК ДОЖДЯ (BD)</td>\n",
              "      <td>37</td>\n",
              "      <td>СПб ТК \"Невский Центр\"</td>\n",
              "      <td>Кино - Blu-Ray</td>\n",
              "    </tr>\n",
              "  </tbody>\n",
              "</table>\n",
              "</div>"
            ],
            "text/plain": [
              "              date  date_block_num  ...               shop_name  item_category_name\n",
              "1435367 2014-02-23              13  ...      Тюмень ТЦ \"Гудвин\"     Игры - XBOX 360\n",
              "1496766 2014-03-23              14  ...  Москва МТРЦ \"Афи Молл\"     Игры - XBOX 360\n",
              "1671873 2014-01-05              16  ...      Тюмень ТЦ \"Гудвин\"     Игры - XBOX 360\n",
              "1866340 2014-12-07              18  ...     Москва ТРК \"Атриум\"     Игры - XBOX 360\n",
              "2198566 2014-12-31              23  ...  СПб ТК \"Невский Центр\"      Кино - Blu-Ray\n",
              "\n",
              "[5 rows x 10 columns]"
            ]
          },
          "metadata": {
            "tags": []
          },
          "execution_count": 14
        }
      ]
    },
    {
      "cell_type": "markdown",
      "metadata": {
        "id": "G2I7SgcLenkz",
        "colab_type": "text"
      },
      "source": [
        "Plot the train data; look for outliers. It seems like there are a few with item price > 100000 and with item count per day > 1000. We will remove these from our training set."
      ]
    },
    {
      "cell_type": "code",
      "metadata": {
        "id": "gm1btQM_enkz",
        "colab_type": "code",
        "outputId": "96e7b27c-76df-45d7-a27b-bf23a13ac57b",
        "colab": {
          "base_uri": "https://localhost:8080/",
          "height": 570
        }
      },
      "source": [
        "plt.figure(figsize=(10,4))\n",
        "plt.xlim(-100, 3000)\n",
        "sns.boxplot(x=train.item_cnt_day)\n",
        "\n",
        "plt.figure(figsize=(10,4))\n",
        "plt.xlim(train.item_price.min(), train.item_price.max()*1.1)\n",
        "sns.boxplot(x=train.item_price)"
      ],
      "execution_count": 15,
      "outputs": [
        {
          "output_type": "execute_result",
          "data": {
            "text/plain": [
              "<matplotlib.axes._subplots.AxesSubplot at 0x7f34f3bc7e80>"
            ]
          },
          "metadata": {
            "tags": []
          },
          "execution_count": 15
        },
        {
          "output_type": "display_data",
          "data": {
            "image/png": "[encoded data removed]",
            "text/plain": [
              "<Figure size 720x288 with 1 Axes>"
            ]
          },
          "metadata": {
            "tags": []
          }
        },
        {
          "output_type": "display_data",
          "data": {
            "image/png": "[encoded data removed]",
            "text/plain": [
              "<Figure size 720x288 with 1 Axes>"
            ]
          },
          "metadata": {
            "tags": []
          }
        }
      ]
    },
    {
      "cell_type": "code",
      "metadata": {
        "id": "M4gn2ZqDenk1",
        "colab_type": "code",
        "colab": {}
      },
      "source": [
        "train = train[train.item_price<100000]\n",
        "train = train[train.item_cnt_day<1000]"
      ],
      "execution_count": 0,
      "outputs": []
    },
    {
      "cell_type": "code",
      "metadata": {
        "id": "MJFqVrZ3enk4",
        "colab_type": "code",
        "outputId": "d0968fc3-6c3c-4af5-aa80-648d8f3598bb",
        "colab": {
          "base_uri": "https://localhost:8080/",
          "height": 553
        }
      },
      "source": [
        "plt.figure(figsize=(10,4))\n",
        "plt.xlim(-100, 3000)\n",
        "sns.boxplot(x=train.item_cnt_day)\n",
        "\n",
        "plt.figure(figsize=(10,4))\n",
        "plt.xlim(train.item_price.min(), train.item_price.max()*1.1)\n",
        "sns.boxplot(x=train.item_price)\n",
        "\n",
        "plt.show()"
      ],
      "execution_count": 17,
      "outputs": [
        {
          "output_type": "display_data",
          "data": {
            "image/png": "[encoded data removed]",
            "text/plain": [
              "<Figure size 720x288 with 1 Axes>"
            ]
          },
          "metadata": {
            "tags": []
          }
        },
        {
          "output_type": "display_data",
          "data": {
            "image/png": "[encoded data removed]",
            "text/plain": [
              "<Figure size 720x288 with 1 Axes>"
            ]
          },
          "metadata": {
            "tags": []
          }
        }
      ]
    },
    {
      "cell_type": "markdown",
      "metadata": {
        "id": "JQaooSwtenk6",
        "colab_type": "text"
      },
      "source": [
        "Looking better after having removed outliers."
      ]
    },
    {
      "cell_type": "markdown",
      "metadata": {
        "id": "PIwMzPRgenk7",
        "colab_type": "text"
      },
      "source": [
        "Fill any item_price < 0 with the median item price median."
      ]
    },
    {
      "cell_type": "code",
      "metadata": {
        "id": "8wIg9esmenk9",
        "colab_type": "code",
        "outputId": "14631ead-7c5b-4190-a838-1588653d9c1e",
        "colab": {
          "base_uri": "https://localhost:8080/",
          "height": 34
        }
      },
      "source": [
        "# Calculate the item price median\n",
        "median = train.item_price.median()\n",
        "print(\"Item Price Median = {}\".format(median))\n",
        "train.loc[train.item_price<0, 'item_price'] = median"
      ],
      "execution_count": 18,
      "outputs": [
        {
          "output_type": "stream",
          "text": [
            "Item Price Median = 549.0\n"
          ],
          "name": "stdout"
        }
      ]
    },
    {
      "cell_type": "code",
      "metadata": {
        "id": "ZLbfKIh_enk_",
        "colab_type": "code",
        "outputId": "9085cb27-762a-460e-ffde-e5ea85fb192b",
        "colab": {
          "base_uri": "https://localhost:8080/",
          "height": 34
        }
      },
      "source": [
        "# Double there are no item price rows < 0\n",
        "train.loc[train.item_price<0, 'item_price'] "
      ],
      "execution_count": 19,
      "outputs": [
        {
          "output_type": "execute_result",
          "data": {
            "text/plain": [
              "Series([], Name: item_price, dtype: float32)"
            ]
          },
          "metadata": {
            "tags": []
          },
          "execution_count": 19
        }
      ]
    },
    {
      "cell_type": "markdown",
      "metadata": {
        "id": "CK1rRgOienlB",
        "colab_type": "text"
      },
      "source": [
        "Count number of rows with item_cnt_day < 0; seems too many to be anomalous and could be an important feature. We will leave this in our dataset."
      ]
    },
    {
      "cell_type": "code",
      "metadata": {
        "id": "F0uOBT0uenlC",
        "colab_type": "code",
        "outputId": "96a69f6f-0007-4330-d491-1cac1a086c0b",
        "colab": {
          "base_uri": "https://localhost:8080/",
          "height": 34
        }
      },
      "source": [
        "len(train.loc[train.item_cnt_day<0, 'item_cnt_day'])"
      ],
      "execution_count": 20,
      "outputs": [
        {
          "output_type": "execute_result",
          "data": {
            "text/plain": [
              "2941"
            ]
          },
          "metadata": {
            "tags": []
          },
          "execution_count": 20
        }
      ]
    },
    {
      "cell_type": "markdown",
      "metadata": {
        "id": "Pzv728F5enlE",
        "colab_type": "text"
      },
      "source": [
        "Some shops are duplicates of each other (according to name), we will fix these in our train and test set."
      ]
    },
    {
      "cell_type": "code",
      "metadata": {
        "id": "i1fJ7xauenlE",
        "colab_type": "code",
        "colab": {}
      },
      "source": [
        "# Якутск Орджоникидзе, 56\n",
        "train.loc[train.shop_id == 0, 'shop_id'] = 57\n",
        "test.loc[test.shop_id == 0, 'shop_id'] = 57\n",
        "\n",
        "# Якутск ТЦ \"Центральный\"\n",
        "train.loc[train.shop_id == 1, 'shop_id'] = 58\n",
        "test.loc[test.shop_id == 1, 'shop_id'] = 58\n",
        "\n",
        "# Жуковский ул. Чкалова 39м²\n",
        "train.loc[train.shop_id == 10, 'shop_id'] = 11\n",
        "test.loc[test.shop_id == 10, 'shop_id'] = 11"
      ],
      "execution_count": 0,
      "outputs": []
    },
    {
      "cell_type": "markdown",
      "metadata": {
        "id": "3c7rwjTzenlG",
        "colab_type": "text"
      },
      "source": [
        "Process \"Shop_name\" column -> shop name begins with city name."
      ]
    },
    {
      "cell_type": "code",
      "metadata": {
        "id": "2DRgW-P6enlG",
        "colab_type": "code",
        "colab": {}
      },
      "source": [
        "# Fix erroneous shop name title\n",
        "train.loc[train.shop_name == 'Сергиев Посад ТЦ \"7Я\"', 'shop_name'] = 'СергиевПосад ТЦ \"7Я\"'"
      ],
      "execution_count": 0,
      "outputs": []
    },
    {
      "cell_type": "code",
      "metadata": {
        "id": "HLvl3BoHenlI",
        "colab_type": "code",
        "outputId": "3b63e743-25d0-4e66-f056-4a96fdc83d4d",
        "colab": {
          "base_uri": "https://localhost:8080/",
          "height": 289
        }
      },
      "source": [
        "# Create a column for city\n",
        "train['city'] = train['shop_name'].str.split(' ').map(lambda x: x[0])\n",
        "train.head()"
      ],
      "execution_count": 23,
      "outputs": [
        {
          "output_type": "execute_result",
          "data": {
            "text/html": [
              "<div>\n",
              "<style scoped>\n",
              "    .dataframe tbody tr th:only-of-type {\n",
              "        vertical-align: middle;\n",
              "    }\n",
              "\n",
              "    .dataframe tbody tr th {\n",
              "        vertical-align: top;\n",
              "    }\n",
              "\n",
              "    .dataframe thead th {\n",
              "        text-align: right;\n",
              "    }\n",
              "</style>\n",
              "<table border=\"1\" class=\"dataframe\">\n",
              "  <thead>\n",
              "    <tr style=\"text-align: right;\">\n",
              "      <th></th>\n",
              "      <th>date</th>\n",
              "      <th>date_block_num</th>\n",
              "      <th>shop_id</th>\n",
              "      <th>item_id</th>\n",
              "      <th>item_price</th>\n",
              "      <th>item_cnt_day</th>\n",
              "      <th>item_name</th>\n",
              "      <th>item_category_id</th>\n",
              "      <th>shop_name</th>\n",
              "      <th>item_category_name</th>\n",
              "      <th>city</th>\n",
              "    </tr>\n",
              "  </thead>\n",
              "  <tbody>\n",
              "    <tr>\n",
              "      <th>0</th>\n",
              "      <td>2013-02-01</td>\n",
              "      <td>0</td>\n",
              "      <td>59</td>\n",
              "      <td>22154</td>\n",
              "      <td>999.00</td>\n",
              "      <td>1</td>\n",
              "      <td>ЯВЛЕНИЕ 2012 (BD)</td>\n",
              "      <td>37</td>\n",
              "      <td>Ярославль ТЦ \"Альтаир\"</td>\n",
              "      <td>Кино - Blu-Ray</td>\n",
              "      <td>Ярославль</td>\n",
              "    </tr>\n",
              "    <tr>\n",
              "      <th>10</th>\n",
              "      <td>2013-03-01</td>\n",
              "      <td>0</td>\n",
              "      <td>25</td>\n",
              "      <td>2574</td>\n",
              "      <td>399.00</td>\n",
              "      <td>2</td>\n",
              "      <td>DEL REY LANA  Born To Die  The Paradise Editio...</td>\n",
              "      <td>55</td>\n",
              "      <td>Москва ТРК \"Атриум\"</td>\n",
              "      <td>Музыка - CD локального производства</td>\n",
              "      <td>Москва</td>\n",
              "    </tr>\n",
              "    <tr>\n",
              "      <th>11</th>\n",
              "      <td>2013-05-01</td>\n",
              "      <td>0</td>\n",
              "      <td>25</td>\n",
              "      <td>2574</td>\n",
              "      <td>399.00</td>\n",
              "      <td>1</td>\n",
              "      <td>DEL REY LANA  Born To Die  The Paradise Editio...</td>\n",
              "      <td>55</td>\n",
              "      <td>Москва ТРК \"Атриум\"</td>\n",
              "      <td>Музыка - CD локального производства</td>\n",
              "      <td>Москва</td>\n",
              "    </tr>\n",
              "    <tr>\n",
              "      <th>12</th>\n",
              "      <td>2013-07-01</td>\n",
              "      <td>0</td>\n",
              "      <td>25</td>\n",
              "      <td>2574</td>\n",
              "      <td>399.00</td>\n",
              "      <td>1</td>\n",
              "      <td>DEL REY LANA  Born To Die  The Paradise Editio...</td>\n",
              "      <td>55</td>\n",
              "      <td>Москва ТРК \"Атриум\"</td>\n",
              "      <td>Музыка - CD локального производства</td>\n",
              "      <td>Москва</td>\n",
              "    </tr>\n",
              "    <tr>\n",
              "      <th>13</th>\n",
              "      <td>2013-08-01</td>\n",
              "      <td>0</td>\n",
              "      <td>25</td>\n",
              "      <td>2574</td>\n",
              "      <td>399.00</td>\n",
              "      <td>2</td>\n",
              "      <td>DEL REY LANA  Born To Die  The Paradise Editio...</td>\n",
              "      <td>55</td>\n",
              "      <td>Москва ТРК \"Атриум\"</td>\n",
              "      <td>Музыка - CD локального производства</td>\n",
              "      <td>Москва</td>\n",
              "    </tr>\n",
              "  </tbody>\n",
              "</table>\n",
              "</div>"
            ],
            "text/plain": [
              "         date  date_block_num  ...                   item_category_name       city\n",
              "0  2013-02-01               0  ...                       Кино - Blu-Ray  Ярославль\n",
              "10 2013-03-01               0  ...  Музыка - CD локального производства     Москва\n",
              "11 2013-05-01               0  ...  Музыка - CD локального производства     Москва\n",
              "12 2013-07-01               0  ...  Музыка - CD локального производства     Москва\n",
              "13 2013-08-01               0  ...  Музыка - CD локального производства     Москва\n",
              "\n",
              "[5 rows x 11 columns]"
            ]
          },
          "metadata": {
            "tags": []
          },
          "execution_count": 23
        }
      ]
    },
    {
      "cell_type": "code",
      "metadata": {
        "id": "h6iUWDZcenlK",
        "colab_type": "code",
        "colab": {}
      },
      "source": [
        "# Fix a city name (typo)\n",
        "train.loc[train.city == '!Якутск', 'city'] = 'Якутск'"
      ],
      "execution_count": 0,
      "outputs": []
    },
    {
      "cell_type": "code",
      "metadata": {
        "id": "08HAz5HTenlM",
        "colab_type": "code",
        "outputId": "47ddeae0-724a-4bd9-8569-2b8e0cf8f3df",
        "colab": {
          "base_uri": "https://localhost:8080/",
          "height": 289
        }
      },
      "source": [
        "# Encode the city name into a code column\n",
        "train['city_code'] = LabelEncoder().fit_transform(train['city'])\n",
        "train.head()"
      ],
      "execution_count": 25,
      "outputs": [
        {
          "output_type": "execute_result",
          "data": {
            "text/html": [
              "<div>\n",
              "<style scoped>\n",
              "    .dataframe tbody tr th:only-of-type {\n",
              "        vertical-align: middle;\n",
              "    }\n",
              "\n",
              "    .dataframe tbody tr th {\n",
              "        vertical-align: top;\n",
              "    }\n",
              "\n",
              "    .dataframe thead th {\n",
              "        text-align: right;\n",
              "    }\n",
              "</style>\n",
              "<table border=\"1\" class=\"dataframe\">\n",
              "  <thead>\n",
              "    <tr style=\"text-align: right;\">\n",
              "      <th></th>\n",
              "      <th>date</th>\n",
              "      <th>date_block_num</th>\n",
              "      <th>shop_id</th>\n",
              "      <th>item_id</th>\n",
              "      <th>item_price</th>\n",
              "      <th>item_cnt_day</th>\n",
              "      <th>item_name</th>\n",
              "      <th>item_category_id</th>\n",
              "      <th>shop_name</th>\n",
              "      <th>item_category_name</th>\n",
              "      <th>city</th>\n",
              "      <th>city_code</th>\n",
              "    </tr>\n",
              "  </thead>\n",
              "  <tbody>\n",
              "    <tr>\n",
              "      <th>0</th>\n",
              "      <td>2013-02-01</td>\n",
              "      <td>0</td>\n",
              "      <td>59</td>\n",
              "      <td>22154</td>\n",
              "      <td>999.00</td>\n",
              "      <td>1</td>\n",
              "      <td>ЯВЛЕНИЕ 2012 (BD)</td>\n",
              "      <td>37</td>\n",
              "      <td>Ярославль ТЦ \"Альтаир\"</td>\n",
              "      <td>Кино - Blu-Ray</td>\n",
              "      <td>Ярославль</td>\n",
              "      <td>27</td>\n",
              "    </tr>\n",
              "    <tr>\n",
              "      <th>10</th>\n",
              "      <td>2013-03-01</td>\n",
              "      <td>0</td>\n",
              "      <td>25</td>\n",
              "      <td>2574</td>\n",
              "      <td>399.00</td>\n",
              "      <td>2</td>\n",
              "      <td>DEL REY LANA  Born To Die  The Paradise Editio...</td>\n",
              "      <td>55</td>\n",
              "      <td>Москва ТРК \"Атриум\"</td>\n",
              "      <td>Музыка - CD локального производства</td>\n",
              "      <td>Москва</td>\n",
              "      <td>12</td>\n",
              "    </tr>\n",
              "    <tr>\n",
              "      <th>11</th>\n",
              "      <td>2013-05-01</td>\n",
              "      <td>0</td>\n",
              "      <td>25</td>\n",
              "      <td>2574</td>\n",
              "      <td>399.00</td>\n",
              "      <td>1</td>\n",
              "      <td>DEL REY LANA  Born To Die  The Paradise Editio...</td>\n",
              "      <td>55</td>\n",
              "      <td>Москва ТРК \"Атриум\"</td>\n",
              "      <td>Музыка - CD локального производства</td>\n",
              "      <td>Москва</td>\n",
              "      <td>12</td>\n",
              "    </tr>\n",
              "    <tr>\n",
              "      <th>12</th>\n",
              "      <td>2013-07-01</td>\n",
              "      <td>0</td>\n",
              "      <td>25</td>\n",
              "      <td>2574</td>\n",
              "      <td>399.00</td>\n",
              "      <td>1</td>\n",
              "      <td>DEL REY LANA  Born To Die  The Paradise Editio...</td>\n",
              "      <td>55</td>\n",
              "      <td>Москва ТРК \"Атриум\"</td>\n",
              "      <td>Музыка - CD локального производства</td>\n",
              "      <td>Москва</td>\n",
              "      <td>12</td>\n",
              "    </tr>\n",
              "    <tr>\n",
              "      <th>13</th>\n",
              "      <td>2013-08-01</td>\n",
              "      <td>0</td>\n",
              "      <td>25</td>\n",
              "      <td>2574</td>\n",
              "      <td>399.00</td>\n",
              "      <td>2</td>\n",
              "      <td>DEL REY LANA  Born To Die  The Paradise Editio...</td>\n",
              "      <td>55</td>\n",
              "      <td>Москва ТРК \"Атриум\"</td>\n",
              "      <td>Музыка - CD локального производства</td>\n",
              "      <td>Москва</td>\n",
              "      <td>12</td>\n",
              "    </tr>\n",
              "  </tbody>\n",
              "</table>\n",
              "</div>"
            ],
            "text/plain": [
              "         date  date_block_num  ...       city  city_code\n",
              "0  2013-02-01               0  ...  Ярославль         27\n",
              "10 2013-03-01               0  ...     Москва         12\n",
              "11 2013-05-01               0  ...     Москва         12\n",
              "12 2013-07-01               0  ...     Москва         12\n",
              "13 2013-08-01               0  ...     Москва         12\n",
              "\n",
              "[5 rows x 12 columns]"
            ]
          },
          "metadata": {
            "tags": []
          },
          "execution_count": 25
        }
      ]
    },
    {
      "cell_type": "markdown",
      "metadata": {
        "id": "ZM6ac9GnenlP",
        "colab_type": "text"
      },
      "source": [
        "Each category name contains type and subtype in its name. Treat this similarly as to how we treated shop name, split into separate columns and encode into labels (one hot encoding)."
      ]
    },
    {
      "cell_type": "code",
      "metadata": {
        "id": "uJ-M3bn3enlP",
        "colab_type": "code",
        "outputId": "e9b58908-3c8a-4c02-9f2b-54af8c69e564",
        "colab": {
          "base_uri": "https://localhost:8080/",
          "height": 357
        }
      },
      "source": [
        "# Create separate column with split category name\n",
        "train['split_category_name'] = train['item_category_name'].str.split('-')\n",
        "train.head()"
      ],
      "execution_count": 26,
      "outputs": [
        {
          "output_type": "execute_result",
          "data": {
            "text/html": [
              "<div>\n",
              "<style scoped>\n",
              "    .dataframe tbody tr th:only-of-type {\n",
              "        vertical-align: middle;\n",
              "    }\n",
              "\n",
              "    .dataframe tbody tr th {\n",
              "        vertical-align: top;\n",
              "    }\n",
              "\n",
              "    .dataframe thead th {\n",
              "        text-align: right;\n",
              "    }\n",
              "</style>\n",
              "<table border=\"1\" class=\"dataframe\">\n",
              "  <thead>\n",
              "    <tr style=\"text-align: right;\">\n",
              "      <th></th>\n",
              "      <th>date</th>\n",
              "      <th>date_block_num</th>\n",
              "      <th>shop_id</th>\n",
              "      <th>item_id</th>\n",
              "      <th>item_price</th>\n",
              "      <th>item_cnt_day</th>\n",
              "      <th>item_name</th>\n",
              "      <th>item_category_id</th>\n",
              "      <th>shop_name</th>\n",
              "      <th>item_category_name</th>\n",
              "      <th>city</th>\n",
              "      <th>city_code</th>\n",
              "      <th>split_category_name</th>\n",
              "    </tr>\n",
              "  </thead>\n",
              "  <tbody>\n",
              "    <tr>\n",
              "      <th>0</th>\n",
              "      <td>2013-02-01</td>\n",
              "      <td>0</td>\n",
              "      <td>59</td>\n",
              "      <td>22154</td>\n",
              "      <td>999.00</td>\n",
              "      <td>1</td>\n",
              "      <td>ЯВЛЕНИЕ 2012 (BD)</td>\n",
              "      <td>37</td>\n",
              "      <td>Ярославль ТЦ \"Альтаир\"</td>\n",
              "      <td>Кино - Blu-Ray</td>\n",
              "      <td>Ярославль</td>\n",
              "      <td>27</td>\n",
              "      <td>[Кино ,  Blu, Ray]</td>\n",
              "    </tr>\n",
              "    <tr>\n",
              "      <th>10</th>\n",
              "      <td>2013-03-01</td>\n",
              "      <td>0</td>\n",
              "      <td>25</td>\n",
              "      <td>2574</td>\n",
              "      <td>399.00</td>\n",
              "      <td>2</td>\n",
              "      <td>DEL REY LANA  Born To Die  The Paradise Editio...</td>\n",
              "      <td>55</td>\n",
              "      <td>Москва ТРК \"Атриум\"</td>\n",
              "      <td>Музыка - CD локального производства</td>\n",
              "      <td>Москва</td>\n",
              "      <td>12</td>\n",
              "      <td>[Музыка ,  CD локального производства]</td>\n",
              "    </tr>\n",
              "    <tr>\n",
              "      <th>11</th>\n",
              "      <td>2013-05-01</td>\n",
              "      <td>0</td>\n",
              "      <td>25</td>\n",
              "      <td>2574</td>\n",
              "      <td>399.00</td>\n",
              "      <td>1</td>\n",
              "      <td>DEL REY LANA  Born To Die  The Paradise Editio...</td>\n",
              "      <td>55</td>\n",
              "      <td>Москва ТРК \"Атриум\"</td>\n",
              "      <td>Музыка - CD локального производства</td>\n",
              "      <td>Москва</td>\n",
              "      <td>12</td>\n",
              "      <td>[Музыка ,  CD локального производства]</td>\n",
              "    </tr>\n",
              "    <tr>\n",
              "      <th>12</th>\n",
              "      <td>2013-07-01</td>\n",
              "      <td>0</td>\n",
              "      <td>25</td>\n",
              "      <td>2574</td>\n",
              "      <td>399.00</td>\n",
              "      <td>1</td>\n",
              "      <td>DEL REY LANA  Born To Die  The Paradise Editio...</td>\n",
              "      <td>55</td>\n",
              "      <td>Москва ТРК \"Атриум\"</td>\n",
              "      <td>Музыка - CD локального производства</td>\n",
              "      <td>Москва</td>\n",
              "      <td>12</td>\n",
              "      <td>[Музыка ,  CD локального производства]</td>\n",
              "    </tr>\n",
              "    <tr>\n",
              "      <th>13</th>\n",
              "      <td>2013-08-01</td>\n",
              "      <td>0</td>\n",
              "      <td>25</td>\n",
              "      <td>2574</td>\n",
              "      <td>399.00</td>\n",
              "      <td>2</td>\n",
              "      <td>DEL REY LANA  Born To Die  The Paradise Editio...</td>\n",
              "      <td>55</td>\n",
              "      <td>Москва ТРК \"Атриум\"</td>\n",
              "      <td>Музыка - CD локального производства</td>\n",
              "      <td>Москва</td>\n",
              "      <td>12</td>\n",
              "      <td>[Музыка ,  CD локального производства]</td>\n",
              "    </tr>\n",
              "  </tbody>\n",
              "</table>\n",
              "</div>"
            ],
            "text/plain": [
              "         date  ...                     split_category_name\n",
              "0  2013-02-01  ...                      [Кино ,  Blu, Ray]\n",
              "10 2013-03-01  ...  [Музыка ,  CD локального производства]\n",
              "11 2013-05-01  ...  [Музыка ,  CD локального производства]\n",
              "12 2013-07-01  ...  [Музыка ,  CD локального производства]\n",
              "13 2013-08-01  ...  [Музыка ,  CD локального производства]\n",
              "\n",
              "[5 rows x 13 columns]"
            ]
          },
          "metadata": {
            "tags": []
          },
          "execution_count": 26
        }
      ]
    },
    {
      "cell_type": "code",
      "metadata": {
        "id": "T17MuJ-jenlR",
        "colab_type": "code",
        "outputId": "89e1db3a-87a6-4fad-bb0c-99bfb7d265a9",
        "colab": {
          "base_uri": "https://localhost:8080/",
          "height": 530
        }
      },
      "source": [
        "# Make column for category type and encode\n",
        "train['item_category_type'] = train['split_category_name'].map(lambda x : x[0].strip())\n",
        "train['item_category_type_code'] = LabelEncoder().fit_transform(train['item_category_type'])\n",
        "\n",
        "train.head()"
      ],
      "execution_count": 27,
      "outputs": [
        {
          "output_type": "execute_result",
          "data": {
            "text/html": [
              "<div>\n",
              "<style scoped>\n",
              "    .dataframe tbody tr th:only-of-type {\n",
              "        vertical-align: middle;\n",
              "    }\n",
              "\n",
              "    .dataframe tbody tr th {\n",
              "        vertical-align: top;\n",
              "    }\n",
              "\n",
              "    .dataframe thead th {\n",
              "        text-align: right;\n",
              "    }\n",
              "</style>\n",
              "<table border=\"1\" class=\"dataframe\">\n",
              "  <thead>\n",
              "    <tr style=\"text-align: right;\">\n",
              "      <th></th>\n",
              "      <th>date</th>\n",
              "      <th>date_block_num</th>\n",
              "      <th>shop_id</th>\n",
              "      <th>item_id</th>\n",
              "      <th>item_price</th>\n",
              "      <th>item_cnt_day</th>\n",
              "      <th>item_name</th>\n",
              "      <th>item_category_id</th>\n",
              "      <th>shop_name</th>\n",
              "      <th>item_category_name</th>\n",
              "      <th>city</th>\n",
              "      <th>city_code</th>\n",
              "      <th>split_category_name</th>\n",
              "      <th>item_category_type</th>\n",
              "      <th>item_category_type_code</th>\n",
              "    </tr>\n",
              "  </thead>\n",
              "  <tbody>\n",
              "    <tr>\n",
              "      <th>0</th>\n",
              "      <td>2013-02-01</td>\n",
              "      <td>0</td>\n",
              "      <td>59</td>\n",
              "      <td>22154</td>\n",
              "      <td>999.00</td>\n",
              "      <td>1</td>\n",
              "      <td>ЯВЛЕНИЕ 2012 (BD)</td>\n",
              "      <td>37</td>\n",
              "      <td>Ярославль ТЦ \"Альтаир\"</td>\n",
              "      <td>Кино - Blu-Ray</td>\n",
              "      <td>Ярославль</td>\n",
              "      <td>27</td>\n",
              "      <td>[Кино ,  Blu, Ray]</td>\n",
              "      <td>Кино</td>\n",
              "      <td>7</td>\n",
              "    </tr>\n",
              "    <tr>\n",
              "      <th>10</th>\n",
              "      <td>2013-03-01</td>\n",
              "      <td>0</td>\n",
              "      <td>25</td>\n",
              "      <td>2574</td>\n",
              "      <td>399.00</td>\n",
              "      <td>2</td>\n",
              "      <td>DEL REY LANA  Born To Die  The Paradise Editio...</td>\n",
              "      <td>55</td>\n",
              "      <td>Москва ТРК \"Атриум\"</td>\n",
              "      <td>Музыка - CD локального производства</td>\n",
              "      <td>Москва</td>\n",
              "      <td>12</td>\n",
              "      <td>[Музыка ,  CD локального производства]</td>\n",
              "      <td>Музыка</td>\n",
              "      <td>9</td>\n",
              "    </tr>\n",
              "    <tr>\n",
              "      <th>11</th>\n",
              "      <td>2013-05-01</td>\n",
              "      <td>0</td>\n",
              "      <td>25</td>\n",
              "      <td>2574</td>\n",
              "      <td>399.00</td>\n",
              "      <td>1</td>\n",
              "      <td>DEL REY LANA  Born To Die  The Paradise Editio...</td>\n",
              "      <td>55</td>\n",
              "      <td>Москва ТРК \"Атриум\"</td>\n",
              "      <td>Музыка - CD локального производства</td>\n",
              "      <td>Москва</td>\n",
              "      <td>12</td>\n",
              "      <td>[Музыка ,  CD локального производства]</td>\n",
              "      <td>Музыка</td>\n",
              "      <td>9</td>\n",
              "    </tr>\n",
              "    <tr>\n",
              "      <th>12</th>\n",
              "      <td>2013-07-01</td>\n",
              "      <td>0</td>\n",
              "      <td>25</td>\n",
              "      <td>2574</td>\n",
              "      <td>399.00</td>\n",
              "      <td>1</td>\n",
              "      <td>DEL REY LANA  Born To Die  The Paradise Editio...</td>\n",
              "      <td>55</td>\n",
              "      <td>Москва ТРК \"Атриум\"</td>\n",
              "      <td>Музыка - CD локального производства</td>\n",
              "      <td>Москва</td>\n",
              "      <td>12</td>\n",
              "      <td>[Музыка ,  CD локального производства]</td>\n",
              "      <td>Музыка</td>\n",
              "      <td>9</td>\n",
              "    </tr>\n",
              "    <tr>\n",
              "      <th>13</th>\n",
              "      <td>2013-08-01</td>\n",
              "      <td>0</td>\n",
              "      <td>25</td>\n",
              "      <td>2574</td>\n",
              "      <td>399.00</td>\n",
              "      <td>2</td>\n",
              "      <td>DEL REY LANA  Born To Die  The Paradise Editio...</td>\n",
              "      <td>55</td>\n",
              "      <td>Москва ТРК \"Атриум\"</td>\n",
              "      <td>Музыка - CD локального производства</td>\n",
              "      <td>Москва</td>\n",
              "      <td>12</td>\n",
              "      <td>[Музыка ,  CD локального производства]</td>\n",
              "      <td>Музыка</td>\n",
              "      <td>9</td>\n",
              "    </tr>\n",
              "  </tbody>\n",
              "</table>\n",
              "</div>"
            ],
            "text/plain": [
              "         date  date_block_num  ...  item_category_type  item_category_type_code\n",
              "0  2013-02-01               0  ...                Кино                        7\n",
              "10 2013-03-01               0  ...              Музыка                        9\n",
              "11 2013-05-01               0  ...              Музыка                        9\n",
              "12 2013-07-01               0  ...              Музыка                        9\n",
              "13 2013-08-01               0  ...              Музыка                        9\n",
              "\n",
              "[5 rows x 15 columns]"
            ]
          },
          "metadata": {
            "tags": []
          },
          "execution_count": 27
        }
      ]
    },
    {
      "cell_type": "code",
      "metadata": {
        "id": "GXAAuRPIenlT",
        "colab_type": "code",
        "outputId": "b8cadda5-7cef-41fe-ec8c-782c9d95cdb9",
        "colab": {
          "base_uri": "https://localhost:8080/",
          "height": 530
        }
      },
      "source": [
        "# Do the same for subtype, make column wiht name if nan then set to the type\n",
        "train['item_category_subtype'] = train['split_category_name'].map(\n",
        "    lambda x: x[1].strip() if len(x) > 1 else x[0].strip()\n",
        ")\n",
        "# Make separate encoded column\n",
        "train['item_category_subtype_code'] = LabelEncoder().fit_transform(train['item_category_subtype'])\n",
        "train.head()"
      ],
      "execution_count": 28,
      "outputs": [
        {
          "output_type": "execute_result",
          "data": {
            "text/html": [
              "<div>\n",
              "<style scoped>\n",
              "    .dataframe tbody tr th:only-of-type {\n",
              "        vertical-align: middle;\n",
              "    }\n",
              "\n",
              "    .dataframe tbody tr th {\n",
              "        vertical-align: top;\n",
              "    }\n",
              "\n",
              "    .dataframe thead th {\n",
              "        text-align: right;\n",
              "    }\n",
              "</style>\n",
              "<table border=\"1\" class=\"dataframe\">\n",
              "  <thead>\n",
              "    <tr style=\"text-align: right;\">\n",
              "      <th></th>\n",
              "      <th>date</th>\n",
              "      <th>date_block_num</th>\n",
              "      <th>shop_id</th>\n",
              "      <th>item_id</th>\n",
              "      <th>item_price</th>\n",
              "      <th>item_cnt_day</th>\n",
              "      <th>item_name</th>\n",
              "      <th>item_category_id</th>\n",
              "      <th>shop_name</th>\n",
              "      <th>item_category_name</th>\n",
              "      <th>city</th>\n",
              "      <th>city_code</th>\n",
              "      <th>split_category_name</th>\n",
              "      <th>item_category_type</th>\n",
              "      <th>item_category_type_code</th>\n",
              "      <th>item_category_subtype</th>\n",
              "      <th>item_category_subtype_code</th>\n",
              "    </tr>\n",
              "  </thead>\n",
              "  <tbody>\n",
              "    <tr>\n",
              "      <th>0</th>\n",
              "      <td>2013-02-01</td>\n",
              "      <td>0</td>\n",
              "      <td>59</td>\n",
              "      <td>22154</td>\n",
              "      <td>999.00</td>\n",
              "      <td>1</td>\n",
              "      <td>ЯВЛЕНИЕ 2012 (BD)</td>\n",
              "      <td>37</td>\n",
              "      <td>Ярославль ТЦ \"Альтаир\"</td>\n",
              "      <td>Кино - Blu-Ray</td>\n",
              "      <td>Ярославль</td>\n",
              "      <td>27</td>\n",
              "      <td>[Кино ,  Blu, Ray]</td>\n",
              "      <td>Кино</td>\n",
              "      <td>7</td>\n",
              "      <td>Blu</td>\n",
              "      <td>1</td>\n",
              "    </tr>\n",
              "    <tr>\n",
              "      <th>10</th>\n",
              "      <td>2013-03-01</td>\n",
              "      <td>0</td>\n",
              "      <td>25</td>\n",
              "      <td>2574</td>\n",
              "      <td>399.00</td>\n",
              "      <td>2</td>\n",
              "      <td>DEL REY LANA  Born To Die  The Paradise Editio...</td>\n",
              "      <td>55</td>\n",
              "      <td>Москва ТРК \"Атриум\"</td>\n",
              "      <td>Музыка - CD локального производства</td>\n",
              "      <td>Москва</td>\n",
              "      <td>12</td>\n",
              "      <td>[Музыка ,  CD локального производства]</td>\n",
              "      <td>Музыка</td>\n",
              "      <td>9</td>\n",
              "      <td>CD локального производства</td>\n",
              "      <td>2</td>\n",
              "    </tr>\n",
              "    <tr>\n",
              "      <th>11</th>\n",
              "      <td>2013-05-01</td>\n",
              "      <td>0</td>\n",
              "      <td>25</td>\n",
              "      <td>2574</td>\n",
              "      <td>399.00</td>\n",
              "      <td>1</td>\n",
              "      <td>DEL REY LANA  Born To Die  The Paradise Editio...</td>\n",
              "      <td>55</td>\n",
              "      <td>Москва ТРК \"Атриум\"</td>\n",
              "      <td>Музыка - CD локального производства</td>\n",
              "      <td>Москва</td>\n",
              "      <td>12</td>\n",
              "      <td>[Музыка ,  CD локального производства]</td>\n",
              "      <td>Музыка</td>\n",
              "      <td>9</td>\n",
              "      <td>CD локального производства</td>\n",
              "      <td>2</td>\n",
              "    </tr>\n",
              "    <tr>\n",
              "      <th>12</th>\n",
              "      <td>2013-07-01</td>\n",
              "      <td>0</td>\n",
              "      <td>25</td>\n",
              "      <td>2574</td>\n",
              "      <td>399.00</td>\n",
              "      <td>1</td>\n",
              "      <td>DEL REY LANA  Born To Die  The Paradise Editio...</td>\n",
              "      <td>55</td>\n",
              "      <td>Москва ТРК \"Атриум\"</td>\n",
              "      <td>Музыка - CD локального производства</td>\n",
              "      <td>Москва</td>\n",
              "      <td>12</td>\n",
              "      <td>[Музыка ,  CD локального производства]</td>\n",
              "      <td>Музыка</td>\n",
              "      <td>9</td>\n",
              "      <td>CD локального производства</td>\n",
              "      <td>2</td>\n",
              "    </tr>\n",
              "    <tr>\n",
              "      <th>13</th>\n",
              "      <td>2013-08-01</td>\n",
              "      <td>0</td>\n",
              "      <td>25</td>\n",
              "      <td>2574</td>\n",
              "      <td>399.00</td>\n",
              "      <td>2</td>\n",
              "      <td>DEL REY LANA  Born To Die  The Paradise Editio...</td>\n",
              "      <td>55</td>\n",
              "      <td>Москва ТРК \"Атриум\"</td>\n",
              "      <td>Музыка - CD локального производства</td>\n",
              "      <td>Москва</td>\n",
              "      <td>12</td>\n",
              "      <td>[Музыка ,  CD локального производства]</td>\n",
              "      <td>Музыка</td>\n",
              "      <td>9</td>\n",
              "      <td>CD локального производства</td>\n",
              "      <td>2</td>\n",
              "    </tr>\n",
              "  </tbody>\n",
              "</table>\n",
              "</div>"
            ],
            "text/plain": [
              "         date  ...  item_category_subtype_code\n",
              "0  2013-02-01  ...                           1\n",
              "10 2013-03-01  ...                           2\n",
              "11 2013-05-01  ...                           2\n",
              "12 2013-07-01  ...                           2\n",
              "13 2013-08-01  ...                           2\n",
              "\n",
              "[5 rows x 17 columns]"
            ]
          },
          "metadata": {
            "tags": []
          },
          "execution_count": 28
        }
      ]
    },
    {
      "cell_type": "markdown",
      "metadata": {
        "id": "ONDMRNnuenlW",
        "colab_type": "text"
      },
      "source": [
        "We can now drop the following columns, having captured and encoded the necessary information from them:\n",
        "-  shop_name\n",
        "-  item_category_name\n",
        "-  split_category_name\n",
        "-  item_category_type\n",
        "-  item_category_subtype"
      ]
    },
    {
      "cell_type": "code",
      "metadata": {
        "id": "cHSW8gZPenlW",
        "colab_type": "code",
        "outputId": "decab69c-468c-442a-c619-d429b29ccb6e",
        "colab": {
          "base_uri": "https://localhost:8080/",
          "height": 289
        }
      },
      "source": [
        "train = train.drop(['shop_name', \n",
        "                    'item_category_name', \n",
        "                    'split_category_name', \n",
        "                    'item_category_type', \n",
        "                    'item_category_subtype',\n",
        "                   ], axis = 1)\n",
        "train.head()"
      ],
      "execution_count": 29,
      "outputs": [
        {
          "output_type": "execute_result",
          "data": {
            "text/html": [
              "<div>\n",
              "<style scoped>\n",
              "    .dataframe tbody tr th:only-of-type {\n",
              "        vertical-align: middle;\n",
              "    }\n",
              "\n",
              "    .dataframe tbody tr th {\n",
              "        vertical-align: top;\n",
              "    }\n",
              "\n",
              "    .dataframe thead th {\n",
              "        text-align: right;\n",
              "    }\n",
              "</style>\n",
              "<table border=\"1\" class=\"dataframe\">\n",
              "  <thead>\n",
              "    <tr style=\"text-align: right;\">\n",
              "      <th></th>\n",
              "      <th>date</th>\n",
              "      <th>date_block_num</th>\n",
              "      <th>shop_id</th>\n",
              "      <th>item_id</th>\n",
              "      <th>item_price</th>\n",
              "      <th>item_cnt_day</th>\n",
              "      <th>item_name</th>\n",
              "      <th>item_category_id</th>\n",
              "      <th>city</th>\n",
              "      <th>city_code</th>\n",
              "      <th>item_category_type_code</th>\n",
              "      <th>item_category_subtype_code</th>\n",
              "    </tr>\n",
              "  </thead>\n",
              "  <tbody>\n",
              "    <tr>\n",
              "      <th>0</th>\n",
              "      <td>2013-02-01</td>\n",
              "      <td>0</td>\n",
              "      <td>59</td>\n",
              "      <td>22154</td>\n",
              "      <td>999.00</td>\n",
              "      <td>1</td>\n",
              "      <td>ЯВЛЕНИЕ 2012 (BD)</td>\n",
              "      <td>37</td>\n",
              "      <td>Ярославль</td>\n",
              "      <td>27</td>\n",
              "      <td>7</td>\n",
              "      <td>1</td>\n",
              "    </tr>\n",
              "    <tr>\n",
              "      <th>10</th>\n",
              "      <td>2013-03-01</td>\n",
              "      <td>0</td>\n",
              "      <td>25</td>\n",
              "      <td>2574</td>\n",
              "      <td>399.00</td>\n",
              "      <td>2</td>\n",
              "      <td>DEL REY LANA  Born To Die  The Paradise Editio...</td>\n",
              "      <td>55</td>\n",
              "      <td>Москва</td>\n",
              "      <td>12</td>\n",
              "      <td>9</td>\n",
              "      <td>2</td>\n",
              "    </tr>\n",
              "    <tr>\n",
              "      <th>11</th>\n",
              "      <td>2013-05-01</td>\n",
              "      <td>0</td>\n",
              "      <td>25</td>\n",
              "      <td>2574</td>\n",
              "      <td>399.00</td>\n",
              "      <td>1</td>\n",
              "      <td>DEL REY LANA  Born To Die  The Paradise Editio...</td>\n",
              "      <td>55</td>\n",
              "      <td>Москва</td>\n",
              "      <td>12</td>\n",
              "      <td>9</td>\n",
              "      <td>2</td>\n",
              "    </tr>\n",
              "    <tr>\n",
              "      <th>12</th>\n",
              "      <td>2013-07-01</td>\n",
              "      <td>0</td>\n",
              "      <td>25</td>\n",
              "      <td>2574</td>\n",
              "      <td>399.00</td>\n",
              "      <td>1</td>\n",
              "      <td>DEL REY LANA  Born To Die  The Paradise Editio...</td>\n",
              "      <td>55</td>\n",
              "      <td>Москва</td>\n",
              "      <td>12</td>\n",
              "      <td>9</td>\n",
              "      <td>2</td>\n",
              "    </tr>\n",
              "    <tr>\n",
              "      <th>13</th>\n",
              "      <td>2013-08-01</td>\n",
              "      <td>0</td>\n",
              "      <td>25</td>\n",
              "      <td>2574</td>\n",
              "      <td>399.00</td>\n",
              "      <td>2</td>\n",
              "      <td>DEL REY LANA  Born To Die  The Paradise Editio...</td>\n",
              "      <td>55</td>\n",
              "      <td>Москва</td>\n",
              "      <td>12</td>\n",
              "      <td>9</td>\n",
              "      <td>2</td>\n",
              "    </tr>\n",
              "  </tbody>\n",
              "</table>\n",
              "</div>"
            ],
            "text/plain": [
              "         date  ...  item_category_subtype_code\n",
              "0  2013-02-01  ...                           1\n",
              "10 2013-03-01  ...                           2\n",
              "11 2013-05-01  ...                           2\n",
              "12 2013-07-01  ...                           2\n",
              "13 2013-08-01  ...                           2\n",
              "\n",
              "[5 rows x 12 columns]"
            ]
          },
          "metadata": {
            "tags": []
          },
          "execution_count": 29
        }
      ]
    },
    {
      "cell_type": "markdown",
      "metadata": {
        "id": "2grzfRgBenlY",
        "colab_type": "text"
      },
      "source": [
        "Looking at item name, perhaps we can reduce the number of unique types, as there are too many at the moment which our model might struggle with, so we will try to categorise some of these by just taking the first part of an item name and encoding this."
      ]
    },
    {
      "cell_type": "code",
      "metadata": {
        "id": "9pHmZZRFenlY",
        "colab_type": "code",
        "outputId": "70578cbe-496d-4118-f838-498c85a3578d",
        "colab": {
          "base_uri": "https://localhost:8080/",
          "height": 34
        }
      },
      "source": [
        "print(\"Number of unique Item names = {}\".format(len(train.item_name.unique())))"
      ],
      "execution_count": 30,
      "outputs": [
        {
          "output_type": "stream",
          "text": [
            "Number of unique Item names = 4716\n"
          ],
          "name": "stdout"
        }
      ]
    },
    {
      "cell_type": "code",
      "metadata": {
        "id": "gj1ZhMhYenlb",
        "colab_type": "code",
        "outputId": "86398fe4-72e0-4962-ce76-d2d9d199862b",
        "colab": {
          "base_uri": "https://localhost:8080/",
          "height": 513
        }
      },
      "source": [
        "# Split item name, extracting first word of the string\n",
        "train['item_name_split'] = train['item_name'].str.split(' ').map(lambda x : x[0].strip())\n",
        "train.head()"
      ],
      "execution_count": 31,
      "outputs": [
        {
          "output_type": "execute_result",
          "data": {
            "text/html": [
              "<div>\n",
              "<style scoped>\n",
              "    .dataframe tbody tr th:only-of-type {\n",
              "        vertical-align: middle;\n",
              "    }\n",
              "\n",
              "    .dataframe tbody tr th {\n",
              "        vertical-align: top;\n",
              "    }\n",
              "\n",
              "    .dataframe thead th {\n",
              "        text-align: right;\n",
              "    }\n",
              "</style>\n",
              "<table border=\"1\" class=\"dataframe\">\n",
              "  <thead>\n",
              "    <tr style=\"text-align: right;\">\n",
              "      <th></th>\n",
              "      <th>date</th>\n",
              "      <th>date_block_num</th>\n",
              "      <th>shop_id</th>\n",
              "      <th>item_id</th>\n",
              "      <th>item_price</th>\n",
              "      <th>item_cnt_day</th>\n",
              "      <th>item_name</th>\n",
              "      <th>item_category_id</th>\n",
              "      <th>city</th>\n",
              "      <th>city_code</th>\n",
              "      <th>item_category_type_code</th>\n",
              "      <th>item_category_subtype_code</th>\n",
              "      <th>item_name_split</th>\n",
              "    </tr>\n",
              "  </thead>\n",
              "  <tbody>\n",
              "    <tr>\n",
              "      <th>0</th>\n",
              "      <td>2013-02-01</td>\n",
              "      <td>0</td>\n",
              "      <td>59</td>\n",
              "      <td>22154</td>\n",
              "      <td>999.00</td>\n",
              "      <td>1</td>\n",
              "      <td>ЯВЛЕНИЕ 2012 (BD)</td>\n",
              "      <td>37</td>\n",
              "      <td>Ярославль</td>\n",
              "      <td>27</td>\n",
              "      <td>7</td>\n",
              "      <td>1</td>\n",
              "      <td>ЯВЛЕНИЕ</td>\n",
              "    </tr>\n",
              "    <tr>\n",
              "      <th>10</th>\n",
              "      <td>2013-03-01</td>\n",
              "      <td>0</td>\n",
              "      <td>25</td>\n",
              "      <td>2574</td>\n",
              "      <td>399.00</td>\n",
              "      <td>2</td>\n",
              "      <td>DEL REY LANA  Born To Die  The Paradise Editio...</td>\n",
              "      <td>55</td>\n",
              "      <td>Москва</td>\n",
              "      <td>12</td>\n",
              "      <td>9</td>\n",
              "      <td>2</td>\n",
              "      <td>DEL</td>\n",
              "    </tr>\n",
              "    <tr>\n",
              "      <th>11</th>\n",
              "      <td>2013-05-01</td>\n",
              "      <td>0</td>\n",
              "      <td>25</td>\n",
              "      <td>2574</td>\n",
              "      <td>399.00</td>\n",
              "      <td>1</td>\n",
              "      <td>DEL REY LANA  Born To Die  The Paradise Editio...</td>\n",
              "      <td>55</td>\n",
              "      <td>Москва</td>\n",
              "      <td>12</td>\n",
              "      <td>9</td>\n",
              "      <td>2</td>\n",
              "      <td>DEL</td>\n",
              "    </tr>\n",
              "    <tr>\n",
              "      <th>12</th>\n",
              "      <td>2013-07-01</td>\n",
              "      <td>0</td>\n",
              "      <td>25</td>\n",
              "      <td>2574</td>\n",
              "      <td>399.00</td>\n",
              "      <td>1</td>\n",
              "      <td>DEL REY LANA  Born To Die  The Paradise Editio...</td>\n",
              "      <td>55</td>\n",
              "      <td>Москва</td>\n",
              "      <td>12</td>\n",
              "      <td>9</td>\n",
              "      <td>2</td>\n",
              "      <td>DEL</td>\n",
              "    </tr>\n",
              "    <tr>\n",
              "      <th>13</th>\n",
              "      <td>2013-08-01</td>\n",
              "      <td>0</td>\n",
              "      <td>25</td>\n",
              "      <td>2574</td>\n",
              "      <td>399.00</td>\n",
              "      <td>2</td>\n",
              "      <td>DEL REY LANA  Born To Die  The Paradise Editio...</td>\n",
              "      <td>55</td>\n",
              "      <td>Москва</td>\n",
              "      <td>12</td>\n",
              "      <td>9</td>\n",
              "      <td>2</td>\n",
              "      <td>DEL</td>\n",
              "    </tr>\n",
              "  </tbody>\n",
              "</table>\n",
              "</div>"
            ],
            "text/plain": [
              "         date  date_block_num  ...  item_category_subtype_code  item_name_split\n",
              "0  2013-02-01               0  ...                           1          ЯВЛЕНИЕ\n",
              "10 2013-03-01               0  ...                           2              DEL\n",
              "11 2013-05-01               0  ...                           2              DEL\n",
              "12 2013-07-01               0  ...                           2              DEL\n",
              "13 2013-08-01               0  ...                           2              DEL\n",
              "\n",
              "[5 rows x 13 columns]"
            ]
          },
          "metadata": {
            "tags": []
          },
          "execution_count": 31
        }
      ]
    },
    {
      "cell_type": "code",
      "metadata": {
        "id": "Ow2435aAenld",
        "colab_type": "code",
        "outputId": "1be65a5c-4ab2-4165-d85f-56cfebd5b142",
        "colab": {
          "base_uri": "https://localhost:8080/",
          "height": 34
        }
      },
      "source": [
        "print(\"Number of unique Item First Words = {}\".format(len(train['item_name_split'].unique())))"
      ],
      "execution_count": 32,
      "outputs": [
        {
          "output_type": "stream",
          "text": [
            "Number of unique Item First Words = 1590\n"
          ],
          "name": "stdout"
        }
      ]
    },
    {
      "cell_type": "markdown",
      "metadata": {
        "id": "auRohaKEenlf",
        "colab_type": "text"
      },
      "source": [
        "This seems substantial enough, so we will encode this once again into another column."
      ]
    },
    {
      "cell_type": "code",
      "metadata": {
        "id": "3ex4C7fGenlg",
        "colab_type": "code",
        "outputId": "b41a2a7b-8a45-4a00-f3f2-be188d4275ff",
        "colab": {
          "base_uri": "https://localhost:8080/",
          "height": 513
        }
      },
      "source": [
        "train['item_name_code'] = LabelEncoder().fit_transform(train['item_name_split'])\n",
        "train.head()"
      ],
      "execution_count": 33,
      "outputs": [
        {
          "output_type": "execute_result",
          "data": {
            "text/html": [
              "<div>\n",
              "<style scoped>\n",
              "    .dataframe tbody tr th:only-of-type {\n",
              "        vertical-align: middle;\n",
              "    }\n",
              "\n",
              "    .dataframe tbody tr th {\n",
              "        vertical-align: top;\n",
              "    }\n",
              "\n",
              "    .dataframe thead th {\n",
              "        text-align: right;\n",
              "    }\n",
              "</style>\n",
              "<table border=\"1\" class=\"dataframe\">\n",
              "  <thead>\n",
              "    <tr style=\"text-align: right;\">\n",
              "      <th></th>\n",
              "      <th>date</th>\n",
              "      <th>date_block_num</th>\n",
              "      <th>shop_id</th>\n",
              "      <th>item_id</th>\n",
              "      <th>item_price</th>\n",
              "      <th>item_cnt_day</th>\n",
              "      <th>item_name</th>\n",
              "      <th>item_category_id</th>\n",
              "      <th>city</th>\n",
              "      <th>city_code</th>\n",
              "      <th>item_category_type_code</th>\n",
              "      <th>item_category_subtype_code</th>\n",
              "      <th>item_name_split</th>\n",
              "      <th>item_name_code</th>\n",
              "    </tr>\n",
              "  </thead>\n",
              "  <tbody>\n",
              "    <tr>\n",
              "      <th>0</th>\n",
              "      <td>2013-02-01</td>\n",
              "      <td>0</td>\n",
              "      <td>59</td>\n",
              "      <td>22154</td>\n",
              "      <td>999.00</td>\n",
              "      <td>1</td>\n",
              "      <td>ЯВЛЕНИЕ 2012 (BD)</td>\n",
              "      <td>37</td>\n",
              "      <td>Ярославль</td>\n",
              "      <td>27</td>\n",
              "      <td>7</td>\n",
              "      <td>1</td>\n",
              "      <td>ЯВЛЕНИЕ</td>\n",
              "      <td>1587</td>\n",
              "    </tr>\n",
              "    <tr>\n",
              "      <th>10</th>\n",
              "      <td>2013-03-01</td>\n",
              "      <td>0</td>\n",
              "      <td>25</td>\n",
              "      <td>2574</td>\n",
              "      <td>399.00</td>\n",
              "      <td>2</td>\n",
              "      <td>DEL REY LANA  Born To Die  The Paradise Editio...</td>\n",
              "      <td>55</td>\n",
              "      <td>Москва</td>\n",
              "      <td>12</td>\n",
              "      <td>9</td>\n",
              "      <td>2</td>\n",
              "      <td>DEL</td>\n",
              "      <td>145</td>\n",
              "    </tr>\n",
              "    <tr>\n",
              "      <th>11</th>\n",
              "      <td>2013-05-01</td>\n",
              "      <td>0</td>\n",
              "      <td>25</td>\n",
              "      <td>2574</td>\n",
              "      <td>399.00</td>\n",
              "      <td>1</td>\n",
              "      <td>DEL REY LANA  Born To Die  The Paradise Editio...</td>\n",
              "      <td>55</td>\n",
              "      <td>Москва</td>\n",
              "      <td>12</td>\n",
              "      <td>9</td>\n",
              "      <td>2</td>\n",
              "      <td>DEL</td>\n",
              "      <td>145</td>\n",
              "    </tr>\n",
              "    <tr>\n",
              "      <th>12</th>\n",
              "      <td>2013-07-01</td>\n",
              "      <td>0</td>\n",
              "      <td>25</td>\n",
              "      <td>2574</td>\n",
              "      <td>399.00</td>\n",
              "      <td>1</td>\n",
              "      <td>DEL REY LANA  Born To Die  The Paradise Editio...</td>\n",
              "      <td>55</td>\n",
              "      <td>Москва</td>\n",
              "      <td>12</td>\n",
              "      <td>9</td>\n",
              "      <td>2</td>\n",
              "      <td>DEL</td>\n",
              "      <td>145</td>\n",
              "    </tr>\n",
              "    <tr>\n",
              "      <th>13</th>\n",
              "      <td>2013-08-01</td>\n",
              "      <td>0</td>\n",
              "      <td>25</td>\n",
              "      <td>2574</td>\n",
              "      <td>399.00</td>\n",
              "      <td>2</td>\n",
              "      <td>DEL REY LANA  Born To Die  The Paradise Editio...</td>\n",
              "      <td>55</td>\n",
              "      <td>Москва</td>\n",
              "      <td>12</td>\n",
              "      <td>9</td>\n",
              "      <td>2</td>\n",
              "      <td>DEL</td>\n",
              "      <td>145</td>\n",
              "    </tr>\n",
              "  </tbody>\n",
              "</table>\n",
              "</div>"
            ],
            "text/plain": [
              "         date  date_block_num  ...  item_name_split  item_name_code\n",
              "0  2013-02-01               0  ...          ЯВЛЕНИЕ            1587\n",
              "10 2013-03-01               0  ...              DEL             145\n",
              "11 2013-05-01               0  ...              DEL             145\n",
              "12 2013-07-01               0  ...              DEL             145\n",
              "13 2013-08-01               0  ...              DEL             145\n",
              "\n",
              "[5 rows x 14 columns]"
            ]
          },
          "metadata": {
            "tags": []
          },
          "execution_count": 33
        }
      ]
    },
    {
      "cell_type": "markdown",
      "metadata": {
        "id": "szVI_BZ3enli",
        "colab_type": "text"
      },
      "source": [
        "And now we can drop the following columns:\n",
        "-  item_name\n",
        "-  item_name_split\n",
        "-  city (forgot to drop in last round)"
      ]
    },
    {
      "cell_type": "code",
      "metadata": {
        "id": "723moiOdenli",
        "colab_type": "code",
        "outputId": "e1a123ad-30e2-423e-925d-f01a8d20fea1",
        "colab": {
          "base_uri": "https://localhost:8080/",
          "height": 204
        }
      },
      "source": [
        "train = train.drop(['item_name', \n",
        "                    'item_name_split',\n",
        "                    'city'\n",
        "                   ], axis = 1)\n",
        "train.head()"
      ],
      "execution_count": 34,
      "outputs": [
        {
          "output_type": "execute_result",
          "data": {
            "text/html": [
              "<div>\n",
              "<style scoped>\n",
              "    .dataframe tbody tr th:only-of-type {\n",
              "        vertical-align: middle;\n",
              "    }\n",
              "\n",
              "    .dataframe tbody tr th {\n",
              "        vertical-align: top;\n",
              "    }\n",
              "\n",
              "    .dataframe thead th {\n",
              "        text-align: right;\n",
              "    }\n",
              "</style>\n",
              "<table border=\"1\" class=\"dataframe\">\n",
              "  <thead>\n",
              "    <tr style=\"text-align: right;\">\n",
              "      <th></th>\n",
              "      <th>date</th>\n",
              "      <th>date_block_num</th>\n",
              "      <th>shop_id</th>\n",
              "      <th>item_id</th>\n",
              "      <th>item_price</th>\n",
              "      <th>item_cnt_day</th>\n",
              "      <th>item_category_id</th>\n",
              "      <th>city_code</th>\n",
              "      <th>item_category_type_code</th>\n",
              "      <th>item_category_subtype_code</th>\n",
              "      <th>item_name_code</th>\n",
              "    </tr>\n",
              "  </thead>\n",
              "  <tbody>\n",
              "    <tr>\n",
              "      <th>0</th>\n",
              "      <td>2013-02-01</td>\n",
              "      <td>0</td>\n",
              "      <td>59</td>\n",
              "      <td>22154</td>\n",
              "      <td>999.00</td>\n",
              "      <td>1</td>\n",
              "      <td>37</td>\n",
              "      <td>27</td>\n",
              "      <td>7</td>\n",
              "      <td>1</td>\n",
              "      <td>1587</td>\n",
              "    </tr>\n",
              "    <tr>\n",
              "      <th>10</th>\n",
              "      <td>2013-03-01</td>\n",
              "      <td>0</td>\n",
              "      <td>25</td>\n",
              "      <td>2574</td>\n",
              "      <td>399.00</td>\n",
              "      <td>2</td>\n",
              "      <td>55</td>\n",
              "      <td>12</td>\n",
              "      <td>9</td>\n",
              "      <td>2</td>\n",
              "      <td>145</td>\n",
              "    </tr>\n",
              "    <tr>\n",
              "      <th>11</th>\n",
              "      <td>2013-05-01</td>\n",
              "      <td>0</td>\n",
              "      <td>25</td>\n",
              "      <td>2574</td>\n",
              "      <td>399.00</td>\n",
              "      <td>1</td>\n",
              "      <td>55</td>\n",
              "      <td>12</td>\n",
              "      <td>9</td>\n",
              "      <td>2</td>\n",
              "      <td>145</td>\n",
              "    </tr>\n",
              "    <tr>\n",
              "      <th>12</th>\n",
              "      <td>2013-07-01</td>\n",
              "      <td>0</td>\n",
              "      <td>25</td>\n",
              "      <td>2574</td>\n",
              "      <td>399.00</td>\n",
              "      <td>1</td>\n",
              "      <td>55</td>\n",
              "      <td>12</td>\n",
              "      <td>9</td>\n",
              "      <td>2</td>\n",
              "      <td>145</td>\n",
              "    </tr>\n",
              "    <tr>\n",
              "      <th>13</th>\n",
              "      <td>2013-08-01</td>\n",
              "      <td>0</td>\n",
              "      <td>25</td>\n",
              "      <td>2574</td>\n",
              "      <td>399.00</td>\n",
              "      <td>2</td>\n",
              "      <td>55</td>\n",
              "      <td>12</td>\n",
              "      <td>9</td>\n",
              "      <td>2</td>\n",
              "      <td>145</td>\n",
              "    </tr>\n",
              "  </tbody>\n",
              "</table>\n",
              "</div>"
            ],
            "text/plain": [
              "         date  date_block_num  ...  item_category_subtype_code  item_name_code\n",
              "0  2013-02-01               0  ...                           1            1587\n",
              "10 2013-03-01               0  ...                           2             145\n",
              "11 2013-05-01               0  ...                           2             145\n",
              "12 2013-07-01               0  ...                           2             145\n",
              "13 2013-08-01               0  ...                           2             145\n",
              "\n",
              "[5 rows x 11 columns]"
            ]
          },
          "metadata": {
            "tags": []
          },
          "execution_count": 34
        }
      ]
    },
    {
      "cell_type": "markdown",
      "metadata": {
        "id": "M5uMv7qvenlk",
        "colab_type": "text"
      },
      "source": [
        "So the features above are the ones so far deemed as useful and thus are kept on. We will group by month into dataframe; then by the other columns and then aggregate the item price and count, determining the mean average and sum per month."
      ]
    },
    {
      "cell_type": "code",
      "metadata": {
        "id": "eDdDLZZ9CMeC",
        "colab_type": "code",
        "colab": {
          "base_uri": "https://localhost:8080/",
          "height": 34
        },
        "outputId": "1b772b51-9be8-4874-89a5-00db5a377f1b"
      },
      "source": [
        "print(len(train))"
      ],
      "execution_count": 35,
      "outputs": [
        {
          "output_type": "stream",
          "text": [
            "1224437\n"
          ],
          "name": "stdout"
        }
      ]
    },
    {
      "cell_type": "code",
      "metadata": {
        "id": "AYt5DQEkenll",
        "colab_type": "code",
        "colab": {
          "base_uri": "https://localhost:8080/",
          "height": 238
        },
        "outputId": "4eeefc79-eed8-4649-8a41-7070ff91cb8d"
      },
      "source": [
        "# Group by month (date_block_num)\n",
        "# Could do more complex, just want something very basic to aggregate\n",
        "train_by_month = train.sort_values('date').groupby([\n",
        "                                                    'date_block_num', \n",
        "                                                    'item_category_type_code',\n",
        "                                                    'item_category_subtype_code',\n",
        "                                                    'item_name_code',\n",
        "                                                    'city_code',\n",
        "                                                    'shop_id', \n",
        "                                                    'item_category_id',\n",
        "                                                    'item_id',\n",
        "    # Keep simple; will just use the above columns \n",
        "], as_index=False)\n",
        "train_by_month.size()"
      ],
      "execution_count": 36,
      "outputs": [
        {
          "output_type": "execute_result",
          "data": {
            "text/plain": [
              "date_block_num  item_category_type_code  item_category_subtype_code  item_name_code  city_code  shop_id  item_category_id  item_id\n",
              "0               0                        9                           365             0          2        2                 5572       7\n",
              "                                                                                     1          3        2                 5572       3\n",
              "                                                                                     2          4        2                 5572       3\n",
              "                                                                                     4          6        2                 5572       7\n",
              "                                                                                                7        2                 5572       7\n",
              "                                                                                                                                     ..\n",
              "33              13                       47                          1579            26         58       83                22088      2\n",
              "                                                                                                                           22091      1\n",
              "                                                                                     27         59       83                22087      3\n",
              "                                                                                                                           22088      2\n",
              "                                                                                                                           22091      1\n",
              "Length: 600158, dtype: int64"
            ]
          },
          "metadata": {
            "tags": []
          },
          "execution_count": 36
        }
      ]
    },
    {
      "cell_type": "code",
      "metadata": {
        "id": "aVrYeAKWenln",
        "colab_type": "code",
        "outputId": "c40064d9-b3f7-40d9-a40d-74a73029035f",
        "colab": {
          "base_uri": "https://localhost:8080/",
          "height": 204
        }
      },
      "source": [
        "# everything is organised by date block num, great!\n",
        "train_by_month.head().head()"
      ],
      "execution_count": 37,
      "outputs": [
        {
          "output_type": "execute_result",
          "data": {
            "text/html": [
              "<div>\n",
              "<style scoped>\n",
              "    .dataframe tbody tr th:only-of-type {\n",
              "        vertical-align: middle;\n",
              "    }\n",
              "\n",
              "    .dataframe tbody tr th {\n",
              "        vertical-align: top;\n",
              "    }\n",
              "\n",
              "    .dataframe thead th {\n",
              "        text-align: right;\n",
              "    }\n",
              "</style>\n",
              "<table border=\"1\" class=\"dataframe\">\n",
              "  <thead>\n",
              "    <tr style=\"text-align: right;\">\n",
              "      <th></th>\n",
              "      <th>date</th>\n",
              "      <th>date_block_num</th>\n",
              "      <th>shop_id</th>\n",
              "      <th>item_id</th>\n",
              "      <th>item_price</th>\n",
              "      <th>item_cnt_day</th>\n",
              "      <th>item_category_id</th>\n",
              "      <th>city_code</th>\n",
              "      <th>item_category_type_code</th>\n",
              "      <th>item_category_subtype_code</th>\n",
              "      <th>item_name_code</th>\n",
              "    </tr>\n",
              "  </thead>\n",
              "  <tbody>\n",
              "    <tr>\n",
              "      <th>32043</th>\n",
              "      <td>2013-01-01</td>\n",
              "      <td>0</td>\n",
              "      <td>2</td>\n",
              "      <td>12134</td>\n",
              "      <td>299.00</td>\n",
              "      <td>1</td>\n",
              "      <td>30</td>\n",
              "      <td>0</td>\n",
              "      <td>5</td>\n",
              "      <td>41</td>\n",
              "      <td>888</td>\n",
              "    </tr>\n",
              "    <tr>\n",
              "      <th>107345</th>\n",
              "      <td>2013-01-01</td>\n",
              "      <td>0</td>\n",
              "      <td>38</td>\n",
              "      <td>32</td>\n",
              "      <td>349.00</td>\n",
              "      <td>1</td>\n",
              "      <td>40</td>\n",
              "      <td>15</td>\n",
              "      <td>7</td>\n",
              "      <td>4</td>\n",
              "      <td>1</td>\n",
              "    </tr>\n",
              "    <tr>\n",
              "      <th>107421</th>\n",
              "      <td>2013-01-01</td>\n",
              "      <td>0</td>\n",
              "      <td>37</td>\n",
              "      <td>22088</td>\n",
              "      <td>79.00</td>\n",
              "      <td>4</td>\n",
              "      <td>83</td>\n",
              "      <td>14</td>\n",
              "      <td>13</td>\n",
              "      <td>47</td>\n",
              "      <td>1579</td>\n",
              "    </tr>\n",
              "    <tr>\n",
              "      <th>107443</th>\n",
              "      <td>2013-01-01</td>\n",
              "      <td>0</td>\n",
              "      <td>37</td>\n",
              "      <td>22087</td>\n",
              "      <td>79.00</td>\n",
              "      <td>2</td>\n",
              "      <td>83</td>\n",
              "      <td>14</td>\n",
              "      <td>13</td>\n",
              "      <td>47</td>\n",
              "      <td>1579</td>\n",
              "    </tr>\n",
              "    <tr>\n",
              "      <th>107472</th>\n",
              "      <td>2013-01-01</td>\n",
              "      <td>0</td>\n",
              "      <td>38</td>\n",
              "      <td>4885</td>\n",
              "      <td>1499.00</td>\n",
              "      <td>1</td>\n",
              "      <td>23</td>\n",
              "      <td>15</td>\n",
              "      <td>3</td>\n",
              "      <td>15</td>\n",
              "      <td>332</td>\n",
              "    </tr>\n",
              "  </tbody>\n",
              "</table>\n",
              "</div>"
            ],
            "text/plain": [
              "             date  date_block_num  ...  item_category_subtype_code  item_name_code\n",
              "32043  2013-01-01               0  ...                          41             888\n",
              "107345 2013-01-01               0  ...                           4               1\n",
              "107421 2013-01-01               0  ...                          47            1579\n",
              "107443 2013-01-01               0  ...                          47            1579\n",
              "107472 2013-01-01               0  ...                          15             332\n",
              "\n",
              "[5 rows x 11 columns]"
            ]
          },
          "metadata": {
            "tags": []
          },
          "execution_count": 37
        }
      ]
    },
    {
      "cell_type": "code",
      "metadata": {
        "id": "3Nv0YQvyHX7d",
        "colab_type": "code",
        "colab": {
          "base_uri": "https://localhost:8080/",
          "height": 419
        },
        "outputId": "629ba422-effa-4e91-ad1f-3a197bcbab19"
      },
      "source": [
        "train_by_month.head()"
      ],
      "execution_count": 38,
      "outputs": [
        {
          "output_type": "execute_result",
          "data": {
            "text/html": [
              "<div>\n",
              "<style scoped>\n",
              "    .dataframe tbody tr th:only-of-type {\n",
              "        vertical-align: middle;\n",
              "    }\n",
              "\n",
              "    .dataframe tbody tr th {\n",
              "        vertical-align: top;\n",
              "    }\n",
              "\n",
              "    .dataframe thead th {\n",
              "        text-align: right;\n",
              "    }\n",
              "</style>\n",
              "<table border=\"1\" class=\"dataframe\">\n",
              "  <thead>\n",
              "    <tr style=\"text-align: right;\">\n",
              "      <th></th>\n",
              "      <th>date</th>\n",
              "      <th>date_block_num</th>\n",
              "      <th>shop_id</th>\n",
              "      <th>item_id</th>\n",
              "      <th>item_price</th>\n",
              "      <th>item_cnt_day</th>\n",
              "      <th>item_category_id</th>\n",
              "      <th>city_code</th>\n",
              "      <th>item_category_type_code</th>\n",
              "      <th>item_category_subtype_code</th>\n",
              "      <th>item_name_code</th>\n",
              "    </tr>\n",
              "  </thead>\n",
              "  <tbody>\n",
              "    <tr>\n",
              "      <th>32043</th>\n",
              "      <td>2013-01-01</td>\n",
              "      <td>0</td>\n",
              "      <td>2</td>\n",
              "      <td>12134</td>\n",
              "      <td>299.00</td>\n",
              "      <td>1</td>\n",
              "      <td>30</td>\n",
              "      <td>0</td>\n",
              "      <td>5</td>\n",
              "      <td>41</td>\n",
              "      <td>888</td>\n",
              "    </tr>\n",
              "    <tr>\n",
              "      <th>107345</th>\n",
              "      <td>2013-01-01</td>\n",
              "      <td>0</td>\n",
              "      <td>38</td>\n",
              "      <td>32</td>\n",
              "      <td>349.00</td>\n",
              "      <td>1</td>\n",
              "      <td>40</td>\n",
              "      <td>15</td>\n",
              "      <td>7</td>\n",
              "      <td>4</td>\n",
              "      <td>1</td>\n",
              "    </tr>\n",
              "    <tr>\n",
              "      <th>107421</th>\n",
              "      <td>2013-01-01</td>\n",
              "      <td>0</td>\n",
              "      <td>37</td>\n",
              "      <td>22088</td>\n",
              "      <td>79.00</td>\n",
              "      <td>4</td>\n",
              "      <td>83</td>\n",
              "      <td>14</td>\n",
              "      <td>13</td>\n",
              "      <td>47</td>\n",
              "      <td>1579</td>\n",
              "    </tr>\n",
              "    <tr>\n",
              "      <th>107443</th>\n",
              "      <td>2013-01-01</td>\n",
              "      <td>0</td>\n",
              "      <td>37</td>\n",
              "      <td>22087</td>\n",
              "      <td>79.00</td>\n",
              "      <td>2</td>\n",
              "      <td>83</td>\n",
              "      <td>14</td>\n",
              "      <td>13</td>\n",
              "      <td>47</td>\n",
              "      <td>1579</td>\n",
              "    </tr>\n",
              "    <tr>\n",
              "      <th>107472</th>\n",
              "      <td>2013-01-01</td>\n",
              "      <td>0</td>\n",
              "      <td>38</td>\n",
              "      <td>4885</td>\n",
              "      <td>1499.00</td>\n",
              "      <td>1</td>\n",
              "      <td>23</td>\n",
              "      <td>15</td>\n",
              "      <td>3</td>\n",
              "      <td>15</td>\n",
              "      <td>332</td>\n",
              "    </tr>\n",
              "    <tr>\n",
              "      <th>...</th>\n",
              "      <td>...</td>\n",
              "      <td>...</td>\n",
              "      <td>...</td>\n",
              "      <td>...</td>\n",
              "      <td>...</td>\n",
              "      <td>...</td>\n",
              "      <td>...</td>\n",
              "      <td>...</td>\n",
              "      <td>...</td>\n",
              "      <td>...</td>\n",
              "      <td>...</td>\n",
              "    </tr>\n",
              "    <tr>\n",
              "      <th>2887817</th>\n",
              "      <td>2015-12-10</td>\n",
              "      <td>33</td>\n",
              "      <td>46</td>\n",
              "      <td>22102</td>\n",
              "      <td>1250.00</td>\n",
              "      <td>1</td>\n",
              "      <td>42</td>\n",
              "      <td>19</td>\n",
              "      <td>8</td>\n",
              "      <td>18</td>\n",
              "      <td>1580</td>\n",
              "    </tr>\n",
              "    <tr>\n",
              "      <th>2887766</th>\n",
              "      <td>2015-12-10</td>\n",
              "      <td>33</td>\n",
              "      <td>46</td>\n",
              "      <td>20801</td>\n",
              "      <td>7499.00</td>\n",
              "      <td>1</td>\n",
              "      <td>72</td>\n",
              "      <td>19</td>\n",
              "      <td>10</td>\n",
              "      <td>45</td>\n",
              "      <td>1509</td>\n",
              "    </tr>\n",
              "    <tr>\n",
              "      <th>2887761</th>\n",
              "      <td>2015-12-10</td>\n",
              "      <td>33</td>\n",
              "      <td>46</td>\n",
              "      <td>20629</td>\n",
              "      <td>2399.00</td>\n",
              "      <td>1</td>\n",
              "      <td>72</td>\n",
              "      <td>19</td>\n",
              "      <td>10</td>\n",
              "      <td>45</td>\n",
              "      <td>1509</td>\n",
              "    </tr>\n",
              "    <tr>\n",
              "      <th>2897403</th>\n",
              "      <td>2015-12-10</td>\n",
              "      <td>33</td>\n",
              "      <td>56</td>\n",
              "      <td>5232</td>\n",
              "      <td>1199.00</td>\n",
              "      <td>1</td>\n",
              "      <td>23</td>\n",
              "      <td>25</td>\n",
              "      <td>3</td>\n",
              "      <td>15</td>\n",
              "      <td>349</td>\n",
              "    </tr>\n",
              "    <tr>\n",
              "      <th>2922163</th>\n",
              "      <td>2015-12-10</td>\n",
              "      <td>33</td>\n",
              "      <td>26</td>\n",
              "      <td>18672</td>\n",
              "      <td>449.00</td>\n",
              "      <td>1</td>\n",
              "      <td>55</td>\n",
              "      <td>12</td>\n",
              "      <td>9</td>\n",
              "      <td>2</td>\n",
              "      <td>1353</td>\n",
              "    </tr>\n",
              "  </tbody>\n",
              "</table>\n",
              "<p>1075033 rows × 11 columns</p>\n",
              "</div>"
            ],
            "text/plain": [
              "              date  date_block_num  ...  item_category_subtype_code  item_name_code\n",
              "32043   2013-01-01               0  ...                          41             888\n",
              "107345  2013-01-01               0  ...                           4               1\n",
              "107421  2013-01-01               0  ...                          47            1579\n",
              "107443  2013-01-01               0  ...                          47            1579\n",
              "107472  2013-01-01               0  ...                          15             332\n",
              "...            ...             ...  ...                         ...             ...\n",
              "2887817 2015-12-10              33  ...                          18            1580\n",
              "2887766 2015-12-10              33  ...                          45            1509\n",
              "2887761 2015-12-10              33  ...                          45            1509\n",
              "2897403 2015-12-10              33  ...                          15             349\n",
              "2922163 2015-12-10              33  ...                           2            1353\n",
              "\n",
              "[1075033 rows x 11 columns]"
            ]
          },
          "metadata": {
            "tags": []
          },
          "execution_count": 38
        }
      ]
    },
    {
      "cell_type": "code",
      "metadata": {
        "id": "_4Ppe8Xpenlq",
        "colab_type": "code",
        "colab": {}
      },
      "source": [
        "# Aggregate item price and item count\n",
        "train_by_month = train_by_month.agg({'item_price':['sum', 'mean'], 'item_cnt_day':['sum', 'mean','count']})"
      ],
      "execution_count": 0,
      "outputs": []
    },
    {
      "cell_type": "code",
      "metadata": {
        "id": "RHWiaaFlenls",
        "colab_type": "code",
        "outputId": "bfc57de2-1a96-43c5-fc7e-094b9f9011a2",
        "colab": {
          "base_uri": "https://localhost:8080/",
          "height": 235
        }
      },
      "source": [
        "train_by_month.head()"
      ],
      "execution_count": 40,
      "outputs": [
        {
          "output_type": "execute_result",
          "data": {
            "text/html": [
              "<div>\n",
              "<style scoped>\n",
              "    .dataframe tbody tr th:only-of-type {\n",
              "        vertical-align: middle;\n",
              "    }\n",
              "\n",
              "    .dataframe tbody tr th {\n",
              "        vertical-align: top;\n",
              "    }\n",
              "\n",
              "    .dataframe thead tr th {\n",
              "        text-align: left;\n",
              "    }\n",
              "</style>\n",
              "<table border=\"1\" class=\"dataframe\">\n",
              "  <thead>\n",
              "    <tr>\n",
              "      <th></th>\n",
              "      <th>date_block_num</th>\n",
              "      <th>item_category_type_code</th>\n",
              "      <th>item_category_subtype_code</th>\n",
              "      <th>item_name_code</th>\n",
              "      <th>city_code</th>\n",
              "      <th>shop_id</th>\n",
              "      <th>item_category_id</th>\n",
              "      <th>item_id</th>\n",
              "      <th colspan=\"2\" halign=\"left\">item_price</th>\n",
              "      <th colspan=\"3\" halign=\"left\">item_cnt_day</th>\n",
              "    </tr>\n",
              "    <tr>\n",
              "      <th></th>\n",
              "      <th></th>\n",
              "      <th></th>\n",
              "      <th></th>\n",
              "      <th></th>\n",
              "      <th></th>\n",
              "      <th></th>\n",
              "      <th></th>\n",
              "      <th></th>\n",
              "      <th>sum</th>\n",
              "      <th>mean</th>\n",
              "      <th>sum</th>\n",
              "      <th>mean</th>\n",
              "      <th>count</th>\n",
              "    </tr>\n",
              "  </thead>\n",
              "  <tbody>\n",
              "    <tr>\n",
              "      <th>0</th>\n",
              "      <td>0</td>\n",
              "      <td>0</td>\n",
              "      <td>9</td>\n",
              "      <td>365</td>\n",
              "      <td>0</td>\n",
              "      <td>2</td>\n",
              "      <td>2</td>\n",
              "      <td>5572</td>\n",
              "      <td>10730.00</td>\n",
              "      <td>1532.86</td>\n",
              "      <td>9</td>\n",
              "      <td>1.29</td>\n",
              "      <td>7</td>\n",
              "    </tr>\n",
              "    <tr>\n",
              "      <th>1</th>\n",
              "      <td>0</td>\n",
              "      <td>0</td>\n",
              "      <td>9</td>\n",
              "      <td>365</td>\n",
              "      <td>1</td>\n",
              "      <td>3</td>\n",
              "      <td>2</td>\n",
              "      <td>5572</td>\n",
              "      <td>4770.00</td>\n",
              "      <td>1590.00</td>\n",
              "      <td>3</td>\n",
              "      <td>1.00</td>\n",
              "      <td>3</td>\n",
              "    </tr>\n",
              "    <tr>\n",
              "      <th>2</th>\n",
              "      <td>0</td>\n",
              "      <td>0</td>\n",
              "      <td>9</td>\n",
              "      <td>365</td>\n",
              "      <td>2</td>\n",
              "      <td>4</td>\n",
              "      <td>2</td>\n",
              "      <td>5572</td>\n",
              "      <td>4570.00</td>\n",
              "      <td>1523.33</td>\n",
              "      <td>3</td>\n",
              "      <td>1.00</td>\n",
              "      <td>3</td>\n",
              "    </tr>\n",
              "    <tr>\n",
              "      <th>3</th>\n",
              "      <td>0</td>\n",
              "      <td>0</td>\n",
              "      <td>9</td>\n",
              "      <td>365</td>\n",
              "      <td>4</td>\n",
              "      <td>6</td>\n",
              "      <td>2</td>\n",
              "      <td>5572</td>\n",
              "      <td>11130.00</td>\n",
              "      <td>1590.00</td>\n",
              "      <td>8</td>\n",
              "      <td>1.14</td>\n",
              "      <td>7</td>\n",
              "    </tr>\n",
              "    <tr>\n",
              "      <th>4</th>\n",
              "      <td>0</td>\n",
              "      <td>0</td>\n",
              "      <td>9</td>\n",
              "      <td>365</td>\n",
              "      <td>4</td>\n",
              "      <td>7</td>\n",
              "      <td>2</td>\n",
              "      <td>5572</td>\n",
              "      <td>11030.00</td>\n",
              "      <td>1575.71</td>\n",
              "      <td>8</td>\n",
              "      <td>1.14</td>\n",
              "      <td>7</td>\n",
              "    </tr>\n",
              "  </tbody>\n",
              "</table>\n",
              "</div>"
            ],
            "text/plain": [
              "  date_block_num item_category_type_code  ... item_cnt_day      \n",
              "                                          ...         mean count\n",
              "0              0                       0  ...         1.29     7\n",
              "1              0                       0  ...         1.00     3\n",
              "2              0                       0  ...         1.00     3\n",
              "3              0                       0  ...         1.14     7\n",
              "4              0                       0  ...         1.14     7\n",
              "\n",
              "[5 rows x 13 columns]"
            ]
          },
          "metadata": {
            "tags": []
          },
          "execution_count": 40
        }
      ]
    },
    {
      "cell_type": "code",
      "metadata": {
        "id": "pcf_iyhGenlu",
        "colab_type": "code",
        "outputId": "7a401480-2d75-445f-ee20-dcddc0bf207e",
        "colab": {
          "base_uri": "https://localhost:8080/",
          "height": 34
        }
      },
      "source": [
        "# See how many rows we now have\n",
        "len(train_by_month)"
      ],
      "execution_count": 41,
      "outputs": [
        {
          "output_type": "execute_result",
          "data": {
            "text/plain": [
              "600158"
            ]
          },
          "metadata": {
            "tags": []
          },
          "execution_count": 41
        }
      ]
    },
    {
      "cell_type": "code",
      "metadata": {
        "id": "MHZru2Vlenlw",
        "colab_type": "code",
        "outputId": "cf037570-5701-4600-e2aa-14f891b163db",
        "colab": {
          "base_uri": "https://localhost:8080/",
          "height": 51
        }
      },
      "source": [
        "# Sanity check on number of months\n",
        "train_by_month.date_block_num.unique()"
      ],
      "execution_count": 42,
      "outputs": [
        {
          "output_type": "execute_result",
          "data": {
            "text/plain": [
              "array([ 0,  1,  2,  3,  4,  5,  6,  7,  8,  9, 10, 11, 12, 13, 14, 15, 16,\n",
              "       17, 18, 19, 20, 21, 22, 23, 24, 25, 26, 27, 28, 29, 30, 31, 32, 33])"
            ]
          },
          "metadata": {
            "tags": []
          },
          "execution_count": 42
        }
      ]
    },
    {
      "cell_type": "code",
      "metadata": {
        "id": "5q15qzlKenly",
        "colab_type": "code",
        "outputId": "8e752394-3e8d-4bab-bd82-96e7b26e3808",
        "colab": {
          "base_uri": "https://localhost:8080/",
          "height": 224
        }
      },
      "source": [
        "# Rename columns\n",
        "train_by_month.columns = ['date_block_num', \n",
        "                         'item_category_type_code',\n",
        "                         'item_category_subtype_code',\n",
        "                         'item_name_code',\n",
        "                         'city_code',\n",
        "                         'shop_id', \n",
        "                         'item_category_id',\n",
        "                         'item_id',\n",
        "                         'sum_item_price',\n",
        "                         'mean_item_price',\n",
        "                         'sum_item_count',\n",
        "                         'mean_item_count',\n",
        "                         'transactions']\n",
        "train_by_month.head()"
      ],
      "execution_count": 43,
      "outputs": [
        {
          "output_type": "execute_result",
          "data": {
            "text/html": [
              "<div>\n",
              "<style scoped>\n",
              "    .dataframe tbody tr th:only-of-type {\n",
              "        vertical-align: middle;\n",
              "    }\n",
              "\n",
              "    .dataframe tbody tr th {\n",
              "        vertical-align: top;\n",
              "    }\n",
              "\n",
              "    .dataframe thead th {\n",
              "        text-align: right;\n",
              "    }\n",
              "</style>\n",
              "<table border=\"1\" class=\"dataframe\">\n",
              "  <thead>\n",
              "    <tr style=\"text-align: right;\">\n",
              "      <th></th>\n",
              "      <th>date_block_num</th>\n",
              "      <th>item_category_type_code</th>\n",
              "      <th>item_category_subtype_code</th>\n",
              "      <th>item_name_code</th>\n",
              "      <th>city_code</th>\n",
              "      <th>shop_id</th>\n",
              "      <th>item_category_id</th>\n",
              "      <th>item_id</th>\n",
              "      <th>sum_item_price</th>\n",
              "      <th>mean_item_price</th>\n",
              "      <th>sum_item_count</th>\n",
              "      <th>mean_item_count</th>\n",
              "      <th>transactions</th>\n",
              "    </tr>\n",
              "  </thead>\n",
              "  <tbody>\n",
              "    <tr>\n",
              "      <th>0</th>\n",
              "      <td>0</td>\n",
              "      <td>0</td>\n",
              "      <td>9</td>\n",
              "      <td>365</td>\n",
              "      <td>0</td>\n",
              "      <td>2</td>\n",
              "      <td>2</td>\n",
              "      <td>5572</td>\n",
              "      <td>10730.00</td>\n",
              "      <td>1532.86</td>\n",
              "      <td>9</td>\n",
              "      <td>1.29</td>\n",
              "      <td>7</td>\n",
              "    </tr>\n",
              "    <tr>\n",
              "      <th>1</th>\n",
              "      <td>0</td>\n",
              "      <td>0</td>\n",
              "      <td>9</td>\n",
              "      <td>365</td>\n",
              "      <td>1</td>\n",
              "      <td>3</td>\n",
              "      <td>2</td>\n",
              "      <td>5572</td>\n",
              "      <td>4770.00</td>\n",
              "      <td>1590.00</td>\n",
              "      <td>3</td>\n",
              "      <td>1.00</td>\n",
              "      <td>3</td>\n",
              "    </tr>\n",
              "    <tr>\n",
              "      <th>2</th>\n",
              "      <td>0</td>\n",
              "      <td>0</td>\n",
              "      <td>9</td>\n",
              "      <td>365</td>\n",
              "      <td>2</td>\n",
              "      <td>4</td>\n",
              "      <td>2</td>\n",
              "      <td>5572</td>\n",
              "      <td>4570.00</td>\n",
              "      <td>1523.33</td>\n",
              "      <td>3</td>\n",
              "      <td>1.00</td>\n",
              "      <td>3</td>\n",
              "    </tr>\n",
              "    <tr>\n",
              "      <th>3</th>\n",
              "      <td>0</td>\n",
              "      <td>0</td>\n",
              "      <td>9</td>\n",
              "      <td>365</td>\n",
              "      <td>4</td>\n",
              "      <td>6</td>\n",
              "      <td>2</td>\n",
              "      <td>5572</td>\n",
              "      <td>11130.00</td>\n",
              "      <td>1590.00</td>\n",
              "      <td>8</td>\n",
              "      <td>1.14</td>\n",
              "      <td>7</td>\n",
              "    </tr>\n",
              "    <tr>\n",
              "      <th>4</th>\n",
              "      <td>0</td>\n",
              "      <td>0</td>\n",
              "      <td>9</td>\n",
              "      <td>365</td>\n",
              "      <td>4</td>\n",
              "      <td>7</td>\n",
              "      <td>2</td>\n",
              "      <td>5572</td>\n",
              "      <td>11030.00</td>\n",
              "      <td>1575.71</td>\n",
              "      <td>8</td>\n",
              "      <td>1.14</td>\n",
              "      <td>7</td>\n",
              "    </tr>\n",
              "  </tbody>\n",
              "</table>\n",
              "</div>"
            ],
            "text/plain": [
              "   date_block_num  item_category_type_code  ...  mean_item_count  transactions\n",
              "0               0                        0  ...             1.29             7\n",
              "1               0                        0  ...             1.00             3\n",
              "2               0                        0  ...             1.00             3\n",
              "3               0                        0  ...             1.14             7\n",
              "4               0                        0  ...             1.14             7\n",
              "\n",
              "[5 rows x 13 columns]"
            ]
          },
          "metadata": {
            "tags": []
          },
          "execution_count": 43
        }
      ]
    },
    {
      "cell_type": "markdown",
      "metadata": {
        "id": "Jq-8rfahenl0",
        "colab_type": "text"
      },
      "source": [
        "As we have to apply predictions to the test set, we must ensure all possible combinations of \"shop_id\" and \"item_id\" are covered. \n",
        "\n",
        "To do this, we will loop through all possible combinations in our test set and append to an empty dataframe. Then we will merge that empty dataframe to our main dataframe and fill in missing na values with 0."
      ]
    },
    {
      "cell_type": "code",
      "metadata": {
        "id": "e1GDmjF0enl1",
        "colab_type": "code",
        "colab": {}
      },
      "source": [
        "# Get all unique shop id's and item id's\n",
        "shop_ids = test['shop_id'].unique()\n",
        "item_ids = test['item_id'].unique()\n",
        "# Initialise empty df\n",
        "empty_df = []\n",
        "# Loop through months and append to dataframe\n",
        "for i in range(34):\n",
        "    for item in item_ids:\n",
        "        for shop in shop_ids:\n",
        "          empty_df.append([i, shop, item])\n",
        "# Turn into dataframe\n",
        "empty_df = pd.DataFrame(empty_df, columns=['date_block_num','shop_id','item_id'])"
      ],
      "execution_count": 0,
      "outputs": []
    },
    {
      "cell_type": "code",
      "metadata": {
        "id": "Ub3_b_rpenl3",
        "colab_type": "code",
        "colab": {
          "base_uri": "https://localhost:8080/",
          "height": 34
        },
        "outputId": "7d403e3c-e128-44a1-8bf0-b3828ada89e0"
      },
      "source": [
        "# Merge monthly train set with the complete set (missing records will be filled with 0).\n",
        "train_by_month = pd.merge(train_by_month, empty_df, on=['date_block_num','shop_id','item_id'], how='outer')\n",
        "len(train_by_month)"
      ],
      "execution_count": 45,
      "outputs": [
        {
          "output_type": "execute_result",
          "data": {
            "text/plain": [
              "7282800"
            ]
          },
          "metadata": {
            "tags": []
          },
          "execution_count": 45
        }
      ]
    },
    {
      "cell_type": "code",
      "metadata": {
        "id": "4G1plnABenl5",
        "colab_type": "code",
        "outputId": "f9a43ebe-7070-4464-b51a-aa8c3a98463f",
        "colab": {
          "base_uri": "https://localhost:8080/",
          "height": 255
        }
      },
      "source": [
        "# Double check we have no na records\n",
        "train_by_month.isna().sum()"
      ],
      "execution_count": 46,
      "outputs": [
        {
          "output_type": "execute_result",
          "data": {
            "text/plain": [
              "date_block_num                      0\n",
              "item_category_type_code       6682642\n",
              "item_category_subtype_code    6682642\n",
              "item_name_code                6682642\n",
              "city_code                     6682642\n",
              "shop_id                             0\n",
              "item_category_id              6682642\n",
              "item_id                             0\n",
              "sum_item_price                6682642\n",
              "mean_item_price               6682642\n",
              "sum_item_count                6682642\n",
              "mean_item_count               6682642\n",
              "transactions                  6682642\n",
              "dtype: int64"
            ]
          },
          "metadata": {
            "tags": []
          },
          "execution_count": 46
        }
      ]
    },
    {
      "cell_type": "markdown",
      "metadata": {
        "id": "5YNZ-79KTzIU",
        "colab_type": "text"
      },
      "source": [
        "The fact we have so many na is quiet concerning. Perhaps many more item_id or shop_id values were added in the most recent month (test data) that is not included in the training data. Whilst there may be better ways of dealing with this, we will be fill the missing na records with 0 and progress."
      ]
    },
    {
      "cell_type": "code",
      "metadata": {
        "id": "Qn5qtHRbN_hX",
        "colab_type": "code",
        "colab": {}
      },
      "source": [
        "# Filll missing records with na\n",
        "train_by_month.fillna(0, inplace=True)"
      ],
      "execution_count": 0,
      "outputs": []
    },
    {
      "cell_type": "code",
      "metadata": {
        "id": "Dg6gWOXjUQH2",
        "colab_type": "code",
        "colab": {
          "base_uri": "https://localhost:8080/",
          "height": 255
        },
        "outputId": "c1b595e0-80a2-45b6-fa9a-cb4dcef591f9"
      },
      "source": [
        "train_by_month.isna().sum()"
      ],
      "execution_count": 48,
      "outputs": [
        {
          "output_type": "execute_result",
          "data": {
            "text/plain": [
              "date_block_num                0\n",
              "item_category_type_code       0\n",
              "item_category_subtype_code    0\n",
              "item_name_code                0\n",
              "city_code                     0\n",
              "shop_id                       0\n",
              "item_category_id              0\n",
              "item_id                       0\n",
              "sum_item_price                0\n",
              "mean_item_price               0\n",
              "sum_item_count                0\n",
              "mean_item_count               0\n",
              "transactions                  0\n",
              "dtype: int64"
            ]
          },
          "metadata": {
            "tags": []
          },
          "execution_count": 48
        }
      ]
    },
    {
      "cell_type": "code",
      "metadata": {
        "id": "dBb_vwt2enl7",
        "colab_type": "code",
        "outputId": "926e1d8e-8de6-4009-f188-929a825e574b",
        "colab": {
          "base_uri": "https://localhost:8080/",
          "height": 317
        }
      },
      "source": [
        "train_by_month.describe()"
      ],
      "execution_count": 49,
      "outputs": [
        {
          "output_type": "execute_result",
          "data": {
            "text/html": [
              "<div>\n",
              "<style scoped>\n",
              "    .dataframe tbody tr th:only-of-type {\n",
              "        vertical-align: middle;\n",
              "    }\n",
              "\n",
              "    .dataframe tbody tr th {\n",
              "        vertical-align: top;\n",
              "    }\n",
              "\n",
              "    .dataframe thead th {\n",
              "        text-align: right;\n",
              "    }\n",
              "</style>\n",
              "<table border=\"1\" class=\"dataframe\">\n",
              "  <thead>\n",
              "    <tr style=\"text-align: right;\">\n",
              "      <th></th>\n",
              "      <th>date_block_num</th>\n",
              "      <th>item_category_type_code</th>\n",
              "      <th>item_category_subtype_code</th>\n",
              "      <th>item_name_code</th>\n",
              "      <th>city_code</th>\n",
              "      <th>shop_id</th>\n",
              "      <th>item_category_id</th>\n",
              "      <th>item_id</th>\n",
              "      <th>sum_item_price</th>\n",
              "      <th>mean_item_price</th>\n",
              "      <th>sum_item_count</th>\n",
              "      <th>mean_item_count</th>\n",
              "      <th>transactions</th>\n",
              "    </tr>\n",
              "  </thead>\n",
              "  <tbody>\n",
              "    <tr>\n",
              "      <th>count</th>\n",
              "      <td>7282800.00</td>\n",
              "      <td>7282800.00</td>\n",
              "      <td>7282800.00</td>\n",
              "      <td>7282800.00</td>\n",
              "      <td>7282800.00</td>\n",
              "      <td>7282800.00</td>\n",
              "      <td>7282800.00</td>\n",
              "      <td>7282800.00</td>\n",
              "      <td>7282800.00</td>\n",
              "      <td>7282800.00</td>\n",
              "      <td>7282800.00</td>\n",
              "      <td>7282800.00</td>\n",
              "      <td>7282800.00</td>\n",
              "    </tr>\n",
              "    <tr>\n",
              "      <th>mean</th>\n",
              "      <td>16.50</td>\n",
              "      <td>0.56</td>\n",
              "      <td>1.34</td>\n",
              "      <td>58.02</td>\n",
              "      <td>1.17</td>\n",
              "      <td>31.67</td>\n",
              "      <td>3.50</td>\n",
              "      <td>11019.40</td>\n",
              "      <td>173.25</td>\n",
              "      <td>75.01</td>\n",
              "      <td>0.22</td>\n",
              "      <td>0.09</td>\n",
              "      <td>0.17</td>\n",
              "    </tr>\n",
              "    <tr>\n",
              "      <th>std</th>\n",
              "      <td>9.81</td>\n",
              "      <td>2.04</td>\n",
              "      <td>6.26</td>\n",
              "      <td>235.35</td>\n",
              "      <td>4.40</td>\n",
              "      <td>17.53</td>\n",
              "      <td>12.74</td>\n",
              "      <td>6252.63</td>\n",
              "      <td>2087.32</td>\n",
              "      <td>509.42</td>\n",
              "      <td>3.20</td>\n",
              "      <td>0.46</td>\n",
              "      <td>0.87</td>\n",
              "    </tr>\n",
              "    <tr>\n",
              "      <th>min</th>\n",
              "      <td>0.00</td>\n",
              "      <td>0.00</td>\n",
              "      <td>0.00</td>\n",
              "      <td>0.00</td>\n",
              "      <td>0.00</td>\n",
              "      <td>2.00</td>\n",
              "      <td>0.00</td>\n",
              "      <td>30.00</td>\n",
              "      <td>0.00</td>\n",
              "      <td>0.00</td>\n",
              "      <td>-4.00</td>\n",
              "      <td>-2.00</td>\n",
              "      <td>0.00</td>\n",
              "    </tr>\n",
              "    <tr>\n",
              "      <th>25%</th>\n",
              "      <td>8.00</td>\n",
              "      <td>0.00</td>\n",
              "      <td>0.00</td>\n",
              "      <td>0.00</td>\n",
              "      <td>0.00</td>\n",
              "      <td>16.00</td>\n",
              "      <td>0.00</td>\n",
              "      <td>5381.50</td>\n",
              "      <td>0.00</td>\n",
              "      <td>0.00</td>\n",
              "      <td>0.00</td>\n",
              "      <td>0.00</td>\n",
              "      <td>0.00</td>\n",
              "    </tr>\n",
              "    <tr>\n",
              "      <th>50%</th>\n",
              "      <td>16.50</td>\n",
              "      <td>0.00</td>\n",
              "      <td>0.00</td>\n",
              "      <td>0.00</td>\n",
              "      <td>0.00</td>\n",
              "      <td>34.50</td>\n",
              "      <td>0.00</td>\n",
              "      <td>11203.00</td>\n",
              "      <td>0.00</td>\n",
              "      <td>0.00</td>\n",
              "      <td>0.00</td>\n",
              "      <td>0.00</td>\n",
              "      <td>0.00</td>\n",
              "    </tr>\n",
              "    <tr>\n",
              "      <th>75%</th>\n",
              "      <td>25.00</td>\n",
              "      <td>0.00</td>\n",
              "      <td>0.00</td>\n",
              "      <td>0.00</td>\n",
              "      <td>0.00</td>\n",
              "      <td>47.00</td>\n",
              "      <td>0.00</td>\n",
              "      <td>16071.50</td>\n",
              "      <td>0.00</td>\n",
              "      <td>0.00</td>\n",
              "      <td>0.00</td>\n",
              "      <td>0.00</td>\n",
              "      <td>0.00</td>\n",
              "    </tr>\n",
              "    <tr>\n",
              "      <th>max</th>\n",
              "      <td>33.00</td>\n",
              "      <td>13.00</td>\n",
              "      <td>47.00</td>\n",
              "      <td>1589.00</td>\n",
              "      <td>27.00</td>\n",
              "      <td>59.00</td>\n",
              "      <td>83.00</td>\n",
              "      <td>22167.00</td>\n",
              "      <td>515573.59</td>\n",
              "      <td>42990.00</td>\n",
              "      <td>1305.00</td>\n",
              "      <td>500.00</td>\n",
              "      <td>31.00</td>\n",
              "    </tr>\n",
              "  </tbody>\n",
              "</table>\n",
              "</div>"
            ],
            "text/plain": [
              "       date_block_num  item_category_type_code  ...  mean_item_count  transactions\n",
              "count      7282800.00               7282800.00  ...       7282800.00    7282800.00\n",
              "mean            16.50                     0.56  ...             0.09          0.17\n",
              "std              9.81                     2.04  ...             0.46          0.87\n",
              "min              0.00                     0.00  ...            -2.00          0.00\n",
              "25%              8.00                     0.00  ...             0.00          0.00\n",
              "50%             16.50                     0.00  ...             0.00          0.00\n",
              "75%             25.00                     0.00  ...             0.00          0.00\n",
              "max             33.00                    13.00  ...           500.00         31.00\n",
              "\n",
              "[8 rows x 13 columns]"
            ]
          },
          "metadata": {
            "tags": []
          },
          "execution_count": 49
        }
      ]
    },
    {
      "cell_type": "markdown",
      "metadata": {
        "id": "Lk4ewL-penl8",
        "colab_type": "text"
      },
      "source": [
        "In this first feature-engineering notebook, we have inspected the data, removed outliers and identified features (as well as engineer others) we would like to use for further feature engineering to train our model with. \n",
        "\n",
        "As our feature-engineering steps are quite numerous, we will split it up into separate notebooks, more to come in part-2."
      ]
    },
    {
      "cell_type": "code",
      "metadata": {
        "id": "3SJi2JKeenl9",
        "colab_type": "code",
        "colab": {}
      },
      "source": [
        "# Save this as a csv \n",
        "train_by_month.to_csv('./data/output/processed_data_pt1.csv', index=False, header=True)"
      ],
      "execution_count": 0,
      "outputs": []
    },
    {
      "cell_type": "code",
      "metadata": {
        "id": "M_XKWT4JUZvy",
        "colab_type": "code",
        "colab": {}
      },
      "source": [
        ""
      ],
      "execution_count": 0,
      "outputs": []
    }
  ]
}