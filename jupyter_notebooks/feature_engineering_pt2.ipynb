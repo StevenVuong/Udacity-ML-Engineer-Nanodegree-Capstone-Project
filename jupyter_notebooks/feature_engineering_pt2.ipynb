{
  "cells": [
    {
      "cell_type": "markdown",
      "metadata": {
        "id": "QtumSA1RlB0Z",
        "colab_type": "text"
      },
      "source": [
        "In the first notebook, we accumulated useful features from multiple csv files into one training set and aggregated some functions, as well as remove some outliers from our dataset amongst other actions. In this notebook, we will try to visualise our big dataframe (time-series data) to see if we can infer some more information from it, as well as engineer further features and apply some more techniques typically applied to time series data that might help us infer information regarding the test set.\n",
        "\n",
        "Again, like in the previous notebook, I want to give kudos to a few of the following notebooks from whom I have used as blueprints to my own solution. I would recommend also checkiing out their notebooks and upvoting in Kaggle if you have found it useful as I have done.\n",
        "\n",
        "-  https://www.kaggle.com/dlarionov/feature-engineering-xgboost\n",
        "-  https://www.kaggle.com/kyakovlev/1st-place-solution-part-1-hands-on-data\n",
        "-  https://www.kaggle.com/dimitreoliveira/model-stacking-feature-engineering-and-eda\n",
        "\n",
        "Author: Steven Vuong <br>\n",
        "Last Updated: 25/04/2020"
      ]
    },
    {
      "cell_type": "code",
      "metadata": {
        "id": "c-gmxpNclg_r",
        "colab_type": "code",
        "outputId": "692aa195-c2c2-4f49-f892-755aae3194bd",
        "colab": {
          "base_uri": "https://localhost:8080/",
          "height": 34
        }
      },
      "source": [
        "from google.colab import drive\n",
        "drive.mount('/gdrive')"
      ],
      "execution_count": 1,
      "outputs": [
        {
          "output_type": "stream",
          "text": [
            "Drive already mounted at /gdrive; to attempt to forcibly remount, call drive.mount(\"/gdrive\", force_remount=True).\n"
          ],
          "name": "stdout"
        }
      ]
    },
    {
      "cell_type": "code",
      "metadata": {
        "id": "0LWsZ_iAlB0d",
        "colab_type": "code",
        "outputId": "60b02b50-3656-4aac-f88c-914e8c2ad2e2",
        "colab": {
          "base_uri": "https://localhost:8080/",
          "height": 51
        }
      },
      "source": [
        "# Import Libraries\n",
        "import pandas as pd\n",
        "import numpy as np\n",
        "import warnings\n",
        "\n",
        "# Visualisation Libraries\n",
        "import seaborn as sns\n",
        "import matplotlib.pyplot as plt\n",
        "\n",
        "# Styling Preferences\n",
        "%matplotlib inline\n",
        "sns.set(style=\"darkgrid\")\n",
        "pd.set_option('display.float_format', lambda x: '%.2f' % x)\n",
        "warnings.filterwarnings(\"ignore\")"
      ],
      "execution_count": 2,
      "outputs": [
        {
          "output_type": "stream",
          "text": [
            "/usr/local/lib/python3.6/dist-packages/statsmodels/tools/_testing.py:19: FutureWarning: pandas.util.testing is deprecated. Use the functions in the public API at pandas.testing instead.\n",
            "  import pandas.util.testing as tm\n"
          ],
          "name": "stderr"
        }
      ]
    },
    {
      "cell_type": "code",
      "metadata": {
        "id": "qBi4NlAPl1Tz",
        "colab_type": "code",
        "outputId": "66b67c24-d4f7-417a-ba6a-5a432e62284f",
        "colab": {
          "base_uri": "https://localhost:8080/",
          "height": 34
        }
      },
      "source": [
        "% cd '../gdrive/My Drive/self_teach/udacity_ml_eng_nanodegree'"
      ],
      "execution_count": 3,
      "outputs": [
        {
          "output_type": "stream",
          "text": [
            "/gdrive/My Drive/self_teach/udacity_ml_eng_nanodegree\n"
          ],
          "name": "stdout"
        }
      ]
    },
    {
      "cell_type": "code",
      "metadata": {
        "id": "7xr0YKI_lB0i",
        "colab_type": "code",
        "outputId": "eaa2b4ac-83b7-4255-987b-3ed6c0f219fe",
        "colab": {
          "base_uri": "https://localhost:8080/",
          "height": 241
        }
      },
      "source": [
        "# Load in dataset, picking up where we left off in pt-1.\n",
        "# Again, we will cast to int16 and float32 to save some memory which will be needed\n",
        "# further down in processing our dataset.\n",
        "train = pd.read_csv('./data/output/processed_data_pt1.csv',dtype={\n",
        "                        'date_block_num': 'int16', \n",
        "                        'city_code': 'int16', \n",
        "                        'item_name_code': 'int16', \n",
        "                        'item_category_type_code': 'int16', \n",
        "                        'item_category_subtype_code': 'int16', \n",
        "                        'shop_id': 'int16', \n",
        "                        'item_category_id': 'int16',\n",
        "                        'item_id': 'int16',\n",
        "                        'sum_item_price': 'float32',\n",
        "                        'mean_item_price': 'float32',\n",
        "                        'sum_item_count': 'int16',\n",
        "                        'mean_item_count': 'float32', \n",
        "                        'transactions': 'int16'}\n",
        "                   )\n",
        "\n",
        "# Deal with unnamed if exists (index)\n",
        "if \"Unnamed: 0\" in train.columns:\n",
        "    train = train.drop((\"Unnamed: 0\"), axis=1)\n",
        "    \n",
        "print(len(train))\n",
        "train.head()"
      ],
      "execution_count": 4,
      "outputs": [
        {
          "output_type": "stream",
          "text": [
            "7282800\n"
          ],
          "name": "stdout"
        },
        {
          "output_type": "execute_result",
          "data": {
            "text/html": [
              "<div>\n",
              "<style scoped>\n",
              "    .dataframe tbody tr th:only-of-type {\n",
              "        vertical-align: middle;\n",
              "    }\n",
              "\n",
              "    .dataframe tbody tr th {\n",
              "        vertical-align: top;\n",
              "    }\n",
              "\n",
              "    .dataframe thead th {\n",
              "        text-align: right;\n",
              "    }\n",
              "</style>\n",
              "<table border=\"1\" class=\"dataframe\">\n",
              "  <thead>\n",
              "    <tr style=\"text-align: right;\">\n",
              "      <th></th>\n",
              "      <th>date_block_num</th>\n",
              "      <th>item_category_type_code</th>\n",
              "      <th>item_category_subtype_code</th>\n",
              "      <th>item_name_code</th>\n",
              "      <th>city_code</th>\n",
              "      <th>shop_id</th>\n",
              "      <th>item_category_id</th>\n",
              "      <th>item_id</th>\n",
              "      <th>sum_item_price</th>\n",
              "      <th>mean_item_price</th>\n",
              "      <th>sum_item_count</th>\n",
              "      <th>mean_item_count</th>\n",
              "      <th>transactions</th>\n",
              "    </tr>\n",
              "  </thead>\n",
              "  <tbody>\n",
              "    <tr>\n",
              "      <th>0</th>\n",
              "      <td>0</td>\n",
              "      <td>0</td>\n",
              "      <td>9</td>\n",
              "      <td>365</td>\n",
              "      <td>0</td>\n",
              "      <td>2</td>\n",
              "      <td>2</td>\n",
              "      <td>5572</td>\n",
              "      <td>10730.00</td>\n",
              "      <td>1532.86</td>\n",
              "      <td>9</td>\n",
              "      <td>1.29</td>\n",
              "      <td>7</td>\n",
              "    </tr>\n",
              "    <tr>\n",
              "      <th>1</th>\n",
              "      <td>0</td>\n",
              "      <td>0</td>\n",
              "      <td>9</td>\n",
              "      <td>365</td>\n",
              "      <td>1</td>\n",
              "      <td>3</td>\n",
              "      <td>2</td>\n",
              "      <td>5572</td>\n",
              "      <td>4770.00</td>\n",
              "      <td>1590.00</td>\n",
              "      <td>3</td>\n",
              "      <td>1.00</td>\n",
              "      <td>3</td>\n",
              "    </tr>\n",
              "    <tr>\n",
              "      <th>2</th>\n",
              "      <td>0</td>\n",
              "      <td>0</td>\n",
              "      <td>9</td>\n",
              "      <td>365</td>\n",
              "      <td>2</td>\n",
              "      <td>4</td>\n",
              "      <td>2</td>\n",
              "      <td>5572</td>\n",
              "      <td>4570.00</td>\n",
              "      <td>1523.33</td>\n",
              "      <td>3</td>\n",
              "      <td>1.00</td>\n",
              "      <td>3</td>\n",
              "    </tr>\n",
              "    <tr>\n",
              "      <th>3</th>\n",
              "      <td>0</td>\n",
              "      <td>0</td>\n",
              "      <td>9</td>\n",
              "      <td>365</td>\n",
              "      <td>4</td>\n",
              "      <td>6</td>\n",
              "      <td>2</td>\n",
              "      <td>5572</td>\n",
              "      <td>11130.00</td>\n",
              "      <td>1590.00</td>\n",
              "      <td>8</td>\n",
              "      <td>1.14</td>\n",
              "      <td>7</td>\n",
              "    </tr>\n",
              "    <tr>\n",
              "      <th>4</th>\n",
              "      <td>0</td>\n",
              "      <td>0</td>\n",
              "      <td>9</td>\n",
              "      <td>365</td>\n",
              "      <td>4</td>\n",
              "      <td>7</td>\n",
              "      <td>2</td>\n",
              "      <td>5572</td>\n",
              "      <td>11030.00</td>\n",
              "      <td>1575.71</td>\n",
              "      <td>8</td>\n",
              "      <td>1.14</td>\n",
              "      <td>7</td>\n",
              "    </tr>\n",
              "  </tbody>\n",
              "</table>\n",
              "</div>"
            ],
            "text/plain": [
              "   date_block_num  item_category_type_code  ...  mean_item_count  transactions\n",
              "0               0                        0  ...             1.29             7\n",
              "1               0                        0  ...             1.00             3\n",
              "2               0                        0  ...             1.00             3\n",
              "3               0                        0  ...             1.14             7\n",
              "4               0                        0  ...             1.14             7\n",
              "\n",
              "[5 rows x 13 columns]"
            ]
          },
          "metadata": {
            "tags": []
          },
          "execution_count": 4
        }
      ]
    },
    {
      "cell_type": "code",
      "metadata": {
        "id": "EzXLC_1IlB0l",
        "colab_type": "code",
        "outputId": "8b0b8153-7265-47f6-958a-81f69351e053",
        "colab": {
          "base_uri": "https://localhost:8080/",
          "height": 224
        }
      },
      "source": [
        "# Extract time based features. Make a separate column for Year and Month\n",
        "train['year'] = train['date_block_num'].apply(lambda x: ((x//12) + 2013))\n",
        "train['month'] = train['date_block_num'].apply(lambda x: (x % 12))\n",
        "\n",
        "train.head()"
      ],
      "execution_count": 5,
      "outputs": [
        {
          "output_type": "execute_result",
          "data": {
            "text/html": [
              "<div>\n",
              "<style scoped>\n",
              "    .dataframe tbody tr th:only-of-type {\n",
              "        vertical-align: middle;\n",
              "    }\n",
              "\n",
              "    .dataframe tbody tr th {\n",
              "        vertical-align: top;\n",
              "    }\n",
              "\n",
              "    .dataframe thead th {\n",
              "        text-align: right;\n",
              "    }\n",
              "</style>\n",
              "<table border=\"1\" class=\"dataframe\">\n",
              "  <thead>\n",
              "    <tr style=\"text-align: right;\">\n",
              "      <th></th>\n",
              "      <th>date_block_num</th>\n",
              "      <th>item_category_type_code</th>\n",
              "      <th>item_category_subtype_code</th>\n",
              "      <th>item_name_code</th>\n",
              "      <th>city_code</th>\n",
              "      <th>shop_id</th>\n",
              "      <th>item_category_id</th>\n",
              "      <th>item_id</th>\n",
              "      <th>sum_item_price</th>\n",
              "      <th>mean_item_price</th>\n",
              "      <th>sum_item_count</th>\n",
              "      <th>mean_item_count</th>\n",
              "      <th>transactions</th>\n",
              "      <th>year</th>\n",
              "      <th>month</th>\n",
              "    </tr>\n",
              "  </thead>\n",
              "  <tbody>\n",
              "    <tr>\n",
              "      <th>0</th>\n",
              "      <td>0</td>\n",
              "      <td>0</td>\n",
              "      <td>9</td>\n",
              "      <td>365</td>\n",
              "      <td>0</td>\n",
              "      <td>2</td>\n",
              "      <td>2</td>\n",
              "      <td>5572</td>\n",
              "      <td>10730.00</td>\n",
              "      <td>1532.86</td>\n",
              "      <td>9</td>\n",
              "      <td>1.29</td>\n",
              "      <td>7</td>\n",
              "      <td>2013</td>\n",
              "      <td>0</td>\n",
              "    </tr>\n",
              "    <tr>\n",
              "      <th>1</th>\n",
              "      <td>0</td>\n",
              "      <td>0</td>\n",
              "      <td>9</td>\n",
              "      <td>365</td>\n",
              "      <td>1</td>\n",
              "      <td>3</td>\n",
              "      <td>2</td>\n",
              "      <td>5572</td>\n",
              "      <td>4770.00</td>\n",
              "      <td>1590.00</td>\n",
              "      <td>3</td>\n",
              "      <td>1.00</td>\n",
              "      <td>3</td>\n",
              "      <td>2013</td>\n",
              "      <td>0</td>\n",
              "    </tr>\n",
              "    <tr>\n",
              "      <th>2</th>\n",
              "      <td>0</td>\n",
              "      <td>0</td>\n",
              "      <td>9</td>\n",
              "      <td>365</td>\n",
              "      <td>2</td>\n",
              "      <td>4</td>\n",
              "      <td>2</td>\n",
              "      <td>5572</td>\n",
              "      <td>4570.00</td>\n",
              "      <td>1523.33</td>\n",
              "      <td>3</td>\n",
              "      <td>1.00</td>\n",
              "      <td>3</td>\n",
              "      <td>2013</td>\n",
              "      <td>0</td>\n",
              "    </tr>\n",
              "    <tr>\n",
              "      <th>3</th>\n",
              "      <td>0</td>\n",
              "      <td>0</td>\n",
              "      <td>9</td>\n",
              "      <td>365</td>\n",
              "      <td>4</td>\n",
              "      <td>6</td>\n",
              "      <td>2</td>\n",
              "      <td>5572</td>\n",
              "      <td>11130.00</td>\n",
              "      <td>1590.00</td>\n",
              "      <td>8</td>\n",
              "      <td>1.14</td>\n",
              "      <td>7</td>\n",
              "      <td>2013</td>\n",
              "      <td>0</td>\n",
              "    </tr>\n",
              "    <tr>\n",
              "      <th>4</th>\n",
              "      <td>0</td>\n",
              "      <td>0</td>\n",
              "      <td>9</td>\n",
              "      <td>365</td>\n",
              "      <td>4</td>\n",
              "      <td>7</td>\n",
              "      <td>2</td>\n",
              "      <td>5572</td>\n",
              "      <td>11030.00</td>\n",
              "      <td>1575.71</td>\n",
              "      <td>8</td>\n",
              "      <td>1.14</td>\n",
              "      <td>7</td>\n",
              "      <td>2013</td>\n",
              "      <td>0</td>\n",
              "    </tr>\n",
              "  </tbody>\n",
              "</table>\n",
              "</div>"
            ],
            "text/plain": [
              "   date_block_num  item_category_type_code  ...  year  month\n",
              "0               0                        0  ...  2013      0\n",
              "1               0                        0  ...  2013      0\n",
              "2               0                        0  ...  2013      0\n",
              "3               0                        0  ...  2013      0\n",
              "4               0                        0  ...  2013      0\n",
              "\n",
              "[5 rows x 15 columns]"
            ]
          },
          "metadata": {
            "tags": []
          },
          "execution_count": 5
        }
      ]
    },
    {
      "cell_type": "markdown",
      "metadata": {
        "id": "uw-kdxrblB0n",
        "colab_type": "text"
      },
      "source": [
        "We will try to visualise trends in our data, which may be seasonal or dependent on the yearr. Ultimately, we want to predict the \"sum_item_count\" for the following month within our data, which might vary by month, item category or shop id. Below we will look at how some some of our features perform by looking at monthly mean as well as monthly sum."
      ]
    },
    {
      "cell_type": "code",
      "metadata": {
        "id": "Ue7JF5fwlB0o",
        "colab_type": "code",
        "colab": {}
      },
      "source": [
        "# Grouping data to plot\n",
        "\n",
        "# Group by month\n",
        "gp_month_mean = train.groupby(['month'], as_index=False)['sum_item_count'].mean()\n",
        "gp_month_sum = train.groupby(['month'], as_index=False)['sum_item_count'].sum()\n",
        "\n",
        "# Group by item_category \n",
        "gp_category_mean = train.groupby(['item_category_id'], as_index=False)['sum_item_count'].mean()\n",
        "gp_category_sum = train.groupby(['item_category_id'], as_index=False)['sum_item_count'].sum()\n",
        "\n",
        "# Group by shop_id\n",
        "gp_shop_mean = train.groupby(['shop_id'], as_index=False)['sum_item_count'].mean()\n",
        "gp_shop_sum = train.groupby(['shop_id'], as_index=False)['sum_item_count'].sum()"
      ],
      "execution_count": 0,
      "outputs": []
    },
    {
      "cell_type": "code",
      "metadata": {
        "id": "ekmmb-scl6TP",
        "colab_type": "code",
        "colab": {}
      },
      "source": [
        "# Group by item name code\n",
        "gp_item_name_code_mean = train.groupby(['item_name_code'], as_index=False)['sum_item_count'].mean()\n",
        "gp_item_name_code_sum =  train.groupby(['item_name_code'], as_index=False)['sum_item_count'].sum()\n",
        "\n",
        "# Group by city code \n",
        "gp_city_code_mean = train.groupby(['city_code'], as_index=False)['sum_item_count'].mean()\n",
        "gp_city_code_sum =  train.groupby(['city_code'], as_index=False)['sum_item_count'].sum()"
      ],
      "execution_count": 0,
      "outputs": []
    },
    {
      "cell_type": "code",
      "metadata": {
        "id": "sLAWxc4NlB0t",
        "colab_type": "code",
        "outputId": "43afdfc5-4860-4269-f091-736764c66982",
        "colab": {
          "base_uri": "https://localhost:8080/",
          "height": 627
        }
      },
      "source": [
        "# Plot item count mean and sum against month\n",
        "f, axes = plt.subplots(2, 1, figsize=(22, 10), sharex=True)\n",
        "sns.lineplot(x=\"month\", y=\"sum_item_count\", data=gp_month_mean, ax=axes[0]).set_title(\"Monthly mean\")\n",
        "sns.lineplot(x=\"month\", y=\"sum_item_count\", data=gp_month_sum, ax=axes[1]).set_title(\"Monthly sum\")\n",
        "plt.show()"
      ],
      "execution_count": 8,
      "outputs": [
        {
          "output_type": "display_data",
          "data": {
            "image/png": "[encoded data removed]",
            "text/plain": [
              "<Figure size 1584x720 with 2 Axes>"
            ]
          },
          "metadata": {
            "tags": []
          }
        }
      ]
    },
    {
      "cell_type": "markdown",
      "metadata": {
        "id": "wjgk0SrElB0v",
        "colab_type": "text"
      },
      "source": [
        "It seems there is an increase in sales towards the end of the year, and a lull in the mid months frrom the monthly mean. From the monthly sum, there is a dip on the 10th montth and dip on the 3rd."
      ]
    },
    {
      "cell_type": "code",
      "metadata": {
        "id": "qTFPHGeMlB06",
        "colab_type": "code",
        "outputId": "71b7e48d-db8d-4c9a-e0ea-aed9ade99a1b",
        "colab": {
          "base_uri": "https://localhost:8080/",
          "height": 611
        }
      },
      "source": [
        "# Also plot the item counts by year\n",
        "f, axes = plt.subplots(1, 1, figsize=(22, 10), sharex=True)\n",
        "sns.lineplot(x=\"month\", y=\"sum_item_count\", hue=\"year\",data=train)\n",
        "plt.show()"
      ],
      "execution_count": 9,
      "outputs": [
        {
          "output_type": "display_data",
          "data": {
            "image/png": "[encoded data removed]",
            "text/plain": [
              "<Figure size 1584x720 with 1 Axes>"
            ]
          },
          "metadata": {
            "tags": []
          }
        }
      ]
    },
    {
      "cell_type": "markdown",
      "metadata": {
        "id": "RI0KIZxVlB08",
        "colab_type": "text"
      },
      "source": [
        "It seems sales are gettitng better year on year; with 2014 outperforming 2013 and 2015 outperforming 2014. We have 2012 in our key which is interesting. Here we can also see seasonal trends in our monthly data also, noticing dips in month 3, which does not occur for 2015. The data for 2015 is incomplete so stops at month 9, although we expect it to rise in accordance with trends in 2013 and 2014."
      ]
    },
    {
      "cell_type": "code",
      "metadata": {
        "id": "2og9GDsPlB0v",
        "colab_type": "code",
        "outputId": "a5453a65-f75f-4d0b-faff-8f9ed60dff6e",
        "colab": {
          "base_uri": "https://localhost:8080/",
          "height": 627
        }
      },
      "source": [
        "# We can also plot by item category id\n",
        "f, axes = plt.subplots(2, 1, figsize=(22, 10), sharex=True)\n",
        "sns.barplot(x=\"item_category_id\", y=\"sum_item_count\", data=gp_category_mean, ax=axes[0], palette=\"rocket\").set_title(\"Monthly mean\")\n",
        "sns.barplot(x=\"item_category_id\", y=\"sum_item_count\", data=gp_category_sum, ax=axes[1], palette=\"rocket\").set_title(\"Monthly sum\")\n",
        "plt.show()"
      ],
      "execution_count": 10,
      "outputs": [
        {
          "output_type": "display_data",
          "data": {
            "image/png": "[encoded data removed]",
            "text/plain": [
              "<Figure size 1584x720 with 2 Axes>"
            ]
          },
          "metadata": {
            "tags": []
          }
        }
      ]
    },
    {
      "cell_type": "markdown",
      "metadata": {
        "id": "KqIo0l1clB0x",
        "colab_type": "text"
      },
      "source": [
        "It appears only a few items sell very well in contrast to other items. The monthly sum values differ from monthly mean, other than category_id 71."
      ]
    },
    {
      "cell_type": "code",
      "metadata": {
        "id": "KjmVGhkQlB0x",
        "colab_type": "code",
        "outputId": "a20a601f-b2b9-4498-98c4-957d8e44401c",
        "colab": {
          "base_uri": "https://localhost:8080/",
          "height": 627
        }
      },
      "source": [
        "# We can also plot by shop id\n",
        "f, axes = plt.subplots(2, 1, figsize=(22, 10), sharex=True)\n",
        "sns.barplot(x=\"shop_id\", y=\"sum_item_count\", data=gp_shop_mean, ax=axes[0], palette=\"rocket\").set_title(\"Monthly mean\")\n",
        "sns.barplot(x=\"shop_id\", y=\"sum_item_count\", data=gp_shop_sum, ax=axes[1], palette=\"rocket\").set_title(\"Monthly sum\")\n",
        "plt.show()"
      ],
      "execution_count": 11,
      "outputs": [
        {
          "output_type": "display_data",
          "data": {
            "image/png": "[encoded data removed]",
            "text/plain": [
              "<Figure size 1584x720 with 2 Axes>"
            ]
          },
          "metadata": {
            "tags": []
          }
        }
      ]
    },
    {
      "cell_type": "markdown",
      "metadata": {
        "id": "OPt8gZMalB00",
        "colab_type": "text"
      },
      "source": [
        "There are about 4 shops that sell way above the others, which have a similar sell amount. There may be other reasons for this such as shop location or size which could be worth looking into."
      ]
    },
    {
      "cell_type": "code",
      "metadata": {
        "id": "irgK94OJbUtV",
        "colab_type": "code",
        "colab": {
          "base_uri": "https://localhost:8080/",
          "height": 285
        },
        "outputId": "f9ad9200-919e-4e67-99de-bc6247da21e8"
      },
      "source": [
        "# And now plot the sum item count against the sum item price\n",
        "\n",
        "sns.scatterplot(x=\"sum_item_price\", y=\"sum_item_count\", hue=\"year\", data=train)\n",
        "plt.show()"
      ],
      "execution_count": 12,
      "outputs": [
        {
          "output_type": "display_data",
          "data": {
            "image/png": "[encoded data removed]",
            "text/plain": [
              "<Figure size 432x288 with 1 Axes>"
            ]
          },
          "metadata": {
            "tags": []
          }
        }
      ]
    },
    {
      "cell_type": "code",
      "metadata": {
        "id": "4T71mbarlB09",
        "colab_type": "code",
        "outputId": "86299c83-4ed7-42e1-982a-64c4fefe75c6",
        "colab": {
          "base_uri": "https://localhost:8080/",
          "height": 394
        }
      },
      "source": [
        "# Also plot jointgrid to see density\n",
        "grid = sns.JointGrid(x=\"sum_item_price\", y=\"sum_item_count\", data=train, space=0, height=6, ratio=20)\n",
        "grid.plot_joint(sns.scatterplot, color=\"g\")\n",
        "grid.plot_marginals(sns.rugplot, height=1, color=\"g\")\n",
        "\n",
        "plt.show()"
      ],
      "execution_count": 13,
      "outputs": [
        {
          "output_type": "display_data",
          "data": {
            "image/png": "[encoded data removed]",
            "text/plain": [
              "<Figure size 432x432 with 3 Axes>"
            ]
          },
          "metadata": {
            "tags": []
          }
        }
      ]
    },
    {
      "cell_type": "markdown",
      "metadata": {
        "id": "ZKWPeKNulB0-",
        "colab_type": "text"
      },
      "source": [
        "The jointplot grid and scattterplot reveals (expectedly) that a high item price typically has a low number of item sales count and a low item price typically has a high item count sales. This is seen from the points hugging the x and y axis, with several points clustered around low item coount and low item price, thus indicating a negative correlation between item price and count as one might expect. This could be useful information in helping to target a particular item count or price discounts etc.. at a business level. For our model, the item price will be a feature in helping to determine the item count."
      ]
    },
    {
      "cell_type": "code",
      "metadata": {
        "id": "jerUG60imDHs",
        "colab_type": "code",
        "colab": {
          "base_uri": "https://localhost:8080/",
          "height": 627
        },
        "outputId": "73daa653-9560-47d2-ca50-92cf9f396115"
      },
      "source": [
        "# We can also plot by item name code\n",
        "f, axes = plt.subplots(2, 1, figsize=(22, 10), sharex=True)\n",
        "sns.barplot(x=\"item_name_code\", y=\"sum_item_count\", data=gp_item_name_code_mean, ax=axes[0], palette=\"rocket\").set_title(\"Monthly mean\")\n",
        "sns.barplot(x=\"item_name_code\", y=\"sum_item_count\", data=gp_item_name_code_sum, ax=axes[1], palette=\"rocket\").set_title(\"Monthly sum\")\n",
        "plt.show()"
      ],
      "execution_count": 14,
      "outputs": [
        {
          "output_type": "display_data",
          "data": {
            "image/png": "[encoded data removed]",
            "text/plain": [
              "<Figure size 1584x720 with 2 Axes>"
            ]
          },
          "metadata": {
            "tags": []
          }
        }
      ]
    },
    {
      "cell_type": "markdown",
      "metadata": {
        "id": "zmebz7lwmFrU",
        "colab_type": "text"
      },
      "source": [
        "It seems there are a only a few, perhaps 2 item name codes that certainly outstrips the rest and are very popular in sales."
      ]
    },
    {
      "cell_type": "code",
      "metadata": {
        "id": "ixrgppylmLdH",
        "colab_type": "code",
        "colab": {
          "base_uri": "https://localhost:8080/",
          "height": 627
        },
        "outputId": "678f0a1a-9a6d-48c5-db34-66081754fdbf"
      },
      "source": [
        "# Plot by the city code to see how this factor plays a part\n",
        "f, axes = plt.subplots(2, 1, figsize=(22, 10), sharex=True)\n",
        "sns.barplot(x=\"city_code\", y=\"sum_item_count\", data=gp_city_code_mean, ax=axes[0], palette=\"rocket\").set_title(\"Monthly mean\")\n",
        "sns.barplot(x=\"city_code\", y=\"sum_item_count\", data=gp_city_code_sum, ax=axes[1], palette=\"rocket\").set_title(\"Monthly sum\")\n",
        "plt.show()"
      ],
      "execution_count": 15,
      "outputs": [
        {
          "output_type": "display_data",
          "data": {
            "image/png": "[encoded data removed]",
            "text/plain": [
              "<Figure size 1584x720 with 2 Axes>"
            ]
          },
          "metadata": {
            "tags": []
          }
        }
      ]
    },
    {
      "cell_type": "markdown",
      "metadata": {
        "id": "TYz8YrtxmNPO",
        "colab_type": "text"
      },
      "source": [
        "This seems really interesting, it looks like there are two cities which really stand out and do well in terms of item count sales for the brand. Perhaps there is a correlation here with the shop id."
      ]
    },
    {
      "cell_type": "code",
      "metadata": {
        "id": "MPs0X1recYSh",
        "colab_type": "code",
        "colab": {
          "base_uri": "https://localhost:8080/",
          "height": 611
        },
        "outputId": "a4486594-aa06-497a-86a0-2ee620462ccb"
      },
      "source": [
        "# Mean item price vs transactions\n",
        "fig, ax = plt.subplots(1,1,figsize=(16,10))\n",
        "sns.barplot(x=\"transactions\", y=\"mean_item_price\", hue=\"year\", data=train)\n",
        "plt.show()"
      ],
      "execution_count": 16,
      "outputs": [
        {
          "output_type": "display_data",
          "data": {
            "image/png": "[encoded data removed]",
            "text/plain": [
              "<Figure size 1152x720 with 1 Axes>"
            ]
          },
          "metadata": {
            "tags": []
          }
        }
      ]
    },
    {
      "cell_type": "markdown",
      "metadata": {
        "id": "XQUmzPOWfPiS",
        "colab_type": "text"
      },
      "source": [
        "It appears a very large number of transactions occurred for 2013, whereas the rest of the year looks steady for the mean item price across each year."
      ]
    },
    {
      "cell_type": "markdown",
      "metadata": {
        "id": "2O2YTkWnlB0_",
        "colab_type": "text"
      },
      "source": [
        "As this is a forecasting problm, we will create our target (Y) column \"sum_item_cnt_next_month\" which is the item count of the next month for a given item. To reiterate, the goal is to predict the item count for the following month for items in the test set."
      ]
    },
    {
      "cell_type": "code",
      "metadata": {
        "id": "hS161yHXlB0_",
        "colab_type": "code",
        "outputId": "f2f931c1-590c-41dd-9c91-190c7050e42d",
        "colab": {
          "base_uri": "https://localhost:8080/",
          "height": 224
        }
      },
      "source": [
        "# Shift item count for next month\n",
        "train['sum_item_cnt_next_month'] = train.sort_values('date_block_num').groupby(['shop_id', 'sum_item_count'])['sum_item_count'].shift(-1)\n",
        "train.head()"
      ],
      "execution_count": 17,
      "outputs": [
        {
          "output_type": "execute_result",
          "data": {
            "text/html": [
              "<div>\n",
              "<style scoped>\n",
              "    .dataframe tbody tr th:only-of-type {\n",
              "        vertical-align: middle;\n",
              "    }\n",
              "\n",
              "    .dataframe tbody tr th {\n",
              "        vertical-align: top;\n",
              "    }\n",
              "\n",
              "    .dataframe thead th {\n",
              "        text-align: right;\n",
              "    }\n",
              "</style>\n",
              "<table border=\"1\" class=\"dataframe\">\n",
              "  <thead>\n",
              "    <tr style=\"text-align: right;\">\n",
              "      <th></th>\n",
              "      <th>date_block_num</th>\n",
              "      <th>item_category_type_code</th>\n",
              "      <th>item_category_subtype_code</th>\n",
              "      <th>item_name_code</th>\n",
              "      <th>city_code</th>\n",
              "      <th>shop_id</th>\n",
              "      <th>item_category_id</th>\n",
              "      <th>item_id</th>\n",
              "      <th>sum_item_price</th>\n",
              "      <th>mean_item_price</th>\n",
              "      <th>sum_item_count</th>\n",
              "      <th>mean_item_count</th>\n",
              "      <th>transactions</th>\n",
              "      <th>year</th>\n",
              "      <th>month</th>\n",
              "      <th>sum_item_cnt_next_month</th>\n",
              "    </tr>\n",
              "  </thead>\n",
              "  <tbody>\n",
              "    <tr>\n",
              "      <th>0</th>\n",
              "      <td>0</td>\n",
              "      <td>0</td>\n",
              "      <td>9</td>\n",
              "      <td>365</td>\n",
              "      <td>0</td>\n",
              "      <td>2</td>\n",
              "      <td>2</td>\n",
              "      <td>5572</td>\n",
              "      <td>10730.00</td>\n",
              "      <td>1532.86</td>\n",
              "      <td>9</td>\n",
              "      <td>1.29</td>\n",
              "      <td>7</td>\n",
              "      <td>2013</td>\n",
              "      <td>0</td>\n",
              "      <td>9.00</td>\n",
              "    </tr>\n",
              "    <tr>\n",
              "      <th>1</th>\n",
              "      <td>0</td>\n",
              "      <td>0</td>\n",
              "      <td>9</td>\n",
              "      <td>365</td>\n",
              "      <td>1</td>\n",
              "      <td>3</td>\n",
              "      <td>2</td>\n",
              "      <td>5572</td>\n",
              "      <td>4770.00</td>\n",
              "      <td>1590.00</td>\n",
              "      <td>3</td>\n",
              "      <td>1.00</td>\n",
              "      <td>3</td>\n",
              "      <td>2013</td>\n",
              "      <td>0</td>\n",
              "      <td>3.00</td>\n",
              "    </tr>\n",
              "    <tr>\n",
              "      <th>2</th>\n",
              "      <td>0</td>\n",
              "      <td>0</td>\n",
              "      <td>9</td>\n",
              "      <td>365</td>\n",
              "      <td>2</td>\n",
              "      <td>4</td>\n",
              "      <td>2</td>\n",
              "      <td>5572</td>\n",
              "      <td>4570.00</td>\n",
              "      <td>1523.33</td>\n",
              "      <td>3</td>\n",
              "      <td>1.00</td>\n",
              "      <td>3</td>\n",
              "      <td>2013</td>\n",
              "      <td>0</td>\n",
              "      <td>3.00</td>\n",
              "    </tr>\n",
              "    <tr>\n",
              "      <th>3</th>\n",
              "      <td>0</td>\n",
              "      <td>0</td>\n",
              "      <td>9</td>\n",
              "      <td>365</td>\n",
              "      <td>4</td>\n",
              "      <td>6</td>\n",
              "      <td>2</td>\n",
              "      <td>5572</td>\n",
              "      <td>11130.00</td>\n",
              "      <td>1590.00</td>\n",
              "      <td>8</td>\n",
              "      <td>1.14</td>\n",
              "      <td>7</td>\n",
              "      <td>2013</td>\n",
              "      <td>0</td>\n",
              "      <td>8.00</td>\n",
              "    </tr>\n",
              "    <tr>\n",
              "      <th>4</th>\n",
              "      <td>0</td>\n",
              "      <td>0</td>\n",
              "      <td>9</td>\n",
              "      <td>365</td>\n",
              "      <td>4</td>\n",
              "      <td>7</td>\n",
              "      <td>2</td>\n",
              "      <td>5572</td>\n",
              "      <td>11030.00</td>\n",
              "      <td>1575.71</td>\n",
              "      <td>8</td>\n",
              "      <td>1.14</td>\n",
              "      <td>7</td>\n",
              "      <td>2013</td>\n",
              "      <td>0</td>\n",
              "      <td>8.00</td>\n",
              "    </tr>\n",
              "  </tbody>\n",
              "</table>\n",
              "</div>"
            ],
            "text/plain": [
              "   date_block_num  item_category_type_code  ...  month  sum_item_cnt_next_month\n",
              "0               0                        0  ...      0                     9.00\n",
              "1               0                        0  ...      0                     3.00\n",
              "2               0                        0  ...      0                     3.00\n",
              "3               0                        0  ...      0                     8.00\n",
              "4               0                        0  ...      0                     8.00\n",
              "\n",
              "[5 rows x 16 columns]"
            ]
          },
          "metadata": {
            "tags": []
          },
          "execution_count": 17
        }
      ]
    },
    {
      "cell_type": "markdown",
      "metadata": {
        "id": "EebKeUHQlB1B",
        "colab_type": "text"
      },
      "source": [
        "What could also be interesting as a feature is the item price per unit, we will create a column for this and have it as another input feature to our model."
      ]
    },
    {
      "cell_type": "code",
      "metadata": {
        "id": "Rsl7O43OlB1C",
        "colab_type": "code",
        "outputId": "29d69086-8c69-4afb-bb78-fc8a7a20b9ef",
        "colab": {
          "base_uri": "https://localhost:8080/",
          "height": 241
        }
      },
      "source": [
        "# Create a column with item price per unit\n",
        "train['item_price_unit'] = train['sum_item_price'] // train['sum_item_count']\n",
        "\n",
        "# Replace inf with Nan (occurs when division by zero)\n",
        "train['item_price_unit'] = train['item_price_unit'].replace([np.inf, -np.inf], np.nan)\n",
        "# fillna witth 0\n",
        "train['item_price_unit'].fillna(0, inplace=True)\n",
        "\n",
        "print(train['item_price_unit'].max()) # Sanity check\n",
        "train.head()"
      ],
      "execution_count": 18,
      "outputs": [
        {
          "output_type": "stream",
          "text": [
            "94970.0\n"
          ],
          "name": "stdout"
        },
        {
          "output_type": "execute_result",
          "data": {
            "text/html": [
              "<div>\n",
              "<style scoped>\n",
              "    .dataframe tbody tr th:only-of-type {\n",
              "        vertical-align: middle;\n",
              "    }\n",
              "\n",
              "    .dataframe tbody tr th {\n",
              "        vertical-align: top;\n",
              "    }\n",
              "\n",
              "    .dataframe thead th {\n",
              "        text-align: right;\n",
              "    }\n",
              "</style>\n",
              "<table border=\"1\" class=\"dataframe\">\n",
              "  <thead>\n",
              "    <tr style=\"text-align: right;\">\n",
              "      <th></th>\n",
              "      <th>date_block_num</th>\n",
              "      <th>item_category_type_code</th>\n",
              "      <th>item_category_subtype_code</th>\n",
              "      <th>item_name_code</th>\n",
              "      <th>city_code</th>\n",
              "      <th>shop_id</th>\n",
              "      <th>item_category_id</th>\n",
              "      <th>item_id</th>\n",
              "      <th>sum_item_price</th>\n",
              "      <th>mean_item_price</th>\n",
              "      <th>sum_item_count</th>\n",
              "      <th>mean_item_count</th>\n",
              "      <th>transactions</th>\n",
              "      <th>year</th>\n",
              "      <th>month</th>\n",
              "      <th>sum_item_cnt_next_month</th>\n",
              "      <th>item_price_unit</th>\n",
              "    </tr>\n",
              "  </thead>\n",
              "  <tbody>\n",
              "    <tr>\n",
              "      <th>0</th>\n",
              "      <td>0</td>\n",
              "      <td>0</td>\n",
              "      <td>9</td>\n",
              "      <td>365</td>\n",
              "      <td>0</td>\n",
              "      <td>2</td>\n",
              "      <td>2</td>\n",
              "      <td>5572</td>\n",
              "      <td>10730.00</td>\n",
              "      <td>1532.86</td>\n",
              "      <td>9</td>\n",
              "      <td>1.29</td>\n",
              "      <td>7</td>\n",
              "      <td>2013</td>\n",
              "      <td>0</td>\n",
              "      <td>9.00</td>\n",
              "      <td>1192.00</td>\n",
              "    </tr>\n",
              "    <tr>\n",
              "      <th>1</th>\n",
              "      <td>0</td>\n",
              "      <td>0</td>\n",
              "      <td>9</td>\n",
              "      <td>365</td>\n",
              "      <td>1</td>\n",
              "      <td>3</td>\n",
              "      <td>2</td>\n",
              "      <td>5572</td>\n",
              "      <td>4770.00</td>\n",
              "      <td>1590.00</td>\n",
              "      <td>3</td>\n",
              "      <td>1.00</td>\n",
              "      <td>3</td>\n",
              "      <td>2013</td>\n",
              "      <td>0</td>\n",
              "      <td>3.00</td>\n",
              "      <td>1590.00</td>\n",
              "    </tr>\n",
              "    <tr>\n",
              "      <th>2</th>\n",
              "      <td>0</td>\n",
              "      <td>0</td>\n",
              "      <td>9</td>\n",
              "      <td>365</td>\n",
              "      <td>2</td>\n",
              "      <td>4</td>\n",
              "      <td>2</td>\n",
              "      <td>5572</td>\n",
              "      <td>4570.00</td>\n",
              "      <td>1523.33</td>\n",
              "      <td>3</td>\n",
              "      <td>1.00</td>\n",
              "      <td>3</td>\n",
              "      <td>2013</td>\n",
              "      <td>0</td>\n",
              "      <td>3.00</td>\n",
              "      <td>1523.00</td>\n",
              "    </tr>\n",
              "    <tr>\n",
              "      <th>3</th>\n",
              "      <td>0</td>\n",
              "      <td>0</td>\n",
              "      <td>9</td>\n",
              "      <td>365</td>\n",
              "      <td>4</td>\n",
              "      <td>6</td>\n",
              "      <td>2</td>\n",
              "      <td>5572</td>\n",
              "      <td>11130.00</td>\n",
              "      <td>1590.00</td>\n",
              "      <td>8</td>\n",
              "      <td>1.14</td>\n",
              "      <td>7</td>\n",
              "      <td>2013</td>\n",
              "      <td>0</td>\n",
              "      <td>8.00</td>\n",
              "      <td>1391.00</td>\n",
              "    </tr>\n",
              "    <tr>\n",
              "      <th>4</th>\n",
              "      <td>0</td>\n",
              "      <td>0</td>\n",
              "      <td>9</td>\n",
              "      <td>365</td>\n",
              "      <td>4</td>\n",
              "      <td>7</td>\n",
              "      <td>2</td>\n",
              "      <td>5572</td>\n",
              "      <td>11030.00</td>\n",
              "      <td>1575.71</td>\n",
              "      <td>8</td>\n",
              "      <td>1.14</td>\n",
              "      <td>7</td>\n",
              "      <td>2013</td>\n",
              "      <td>0</td>\n",
              "      <td>8.00</td>\n",
              "      <td>1378.00</td>\n",
              "    </tr>\n",
              "  </tbody>\n",
              "</table>\n",
              "</div>"
            ],
            "text/plain": [
              "   date_block_num  ...  item_price_unit\n",
              "0               0  ...          1192.00\n",
              "1               0  ...          1590.00\n",
              "2               0  ...          1523.00\n",
              "3               0  ...          1391.00\n",
              "4               0  ...          1378.00\n",
              "\n",
              "[5 rows x 17 columns]"
            ]
          },
          "metadata": {
            "tags": []
          },
          "execution_count": 18
        }
      ]
    },
    {
      "cell_type": "markdown",
      "metadata": {
        "id": "RFiFB2cblB1E",
        "colab_type": "text"
      },
      "source": [
        "For each item id, we can also investigate the maximum and minimum item price , making this a feature of our dataset also. This allows us to then see for each row, how much an item deviates from the maximum or minimum item price. Another possibly interesting feature our model may use."
      ]
    },
    {
      "cell_type": "code",
      "metadata": {
        "id": "9eMb2EMNlB1E",
        "colab_type": "code",
        "outputId": "b855c77c-8f05-4980-b1b3-d4953134fb06",
        "colab": {
          "base_uri": "https://localhost:8080/",
          "height": 204
        }
      },
      "source": [
        "# Group items and return minimum and maximum price for each item id\n",
        "gp_item_price = train.sort_values('date_block_num').groupby(['item_id'], as_index=False).agg({'sum_item_price':[np.min, np.max]})\n",
        "gp_item_price.columns = ['item_id', 'hist_min_item_price', 'hist_max_item_price']\n",
        "\n",
        "gp_item_price.head()"
      ],
      "execution_count": 19,
      "outputs": [
        {
          "output_type": "execute_result",
          "data": {
            "text/html": [
              "<div>\n",
              "<style scoped>\n",
              "    .dataframe tbody tr th:only-of-type {\n",
              "        vertical-align: middle;\n",
              "    }\n",
              "\n",
              "    .dataframe tbody tr th {\n",
              "        vertical-align: top;\n",
              "    }\n",
              "\n",
              "    .dataframe thead th {\n",
              "        text-align: right;\n",
              "    }\n",
              "</style>\n",
              "<table border=\"1\" class=\"dataframe\">\n",
              "  <thead>\n",
              "    <tr style=\"text-align: right;\">\n",
              "      <th></th>\n",
              "      <th>item_id</th>\n",
              "      <th>hist_min_item_price</th>\n",
              "      <th>hist_max_item_price</th>\n",
              "    </tr>\n",
              "  </thead>\n",
              "  <tbody>\n",
              "    <tr>\n",
              "      <th>0</th>\n",
              "      <td>30</td>\n",
              "      <td>0.00</td>\n",
              "      <td>9975.00</td>\n",
              "    </tr>\n",
              "    <tr>\n",
              "      <th>1</th>\n",
              "      <td>31</td>\n",
              "      <td>0.00</td>\n",
              "      <td>10938.33</td>\n",
              "    </tr>\n",
              "    <tr>\n",
              "      <th>2</th>\n",
              "      <td>32</td>\n",
              "      <td>0.00</td>\n",
              "      <td>8027.00</td>\n",
              "    </tr>\n",
              "    <tr>\n",
              "      <th>3</th>\n",
              "      <td>33</td>\n",
              "      <td>0.00</td>\n",
              "      <td>2994.00</td>\n",
              "    </tr>\n",
              "    <tr>\n",
              "      <th>4</th>\n",
              "      <td>38</td>\n",
              "      <td>0.00</td>\n",
              "      <td>4798.00</td>\n",
              "    </tr>\n",
              "  </tbody>\n",
              "</table>\n",
              "</div>"
            ],
            "text/plain": [
              "   item_id  hist_min_item_price  hist_max_item_price\n",
              "0       30                 0.00              9975.00\n",
              "1       31                 0.00             10938.33\n",
              "2       32                 0.00              8027.00\n",
              "3       33                 0.00              2994.00\n",
              "4       38                 0.00              4798.00"
            ]
          },
          "metadata": {
            "tags": []
          },
          "execution_count": 19
        }
      ]
    },
    {
      "cell_type": "code",
      "metadata": {
        "id": "lnoUAdNDlB1G",
        "colab_type": "code",
        "outputId": "02ce70bb-f2c7-484c-8de3-db83ac38744b",
        "colab": {
          "base_uri": "https://localhost:8080/",
          "height": 224
        }
      },
      "source": [
        "# Merge into main df\n",
        "train = pd.merge(train, gp_item_price, on='item_id', how='left')\n",
        "train.head()"
      ],
      "execution_count": 20,
      "outputs": [
        {
          "output_type": "execute_result",
          "data": {
            "text/html": [
              "<div>\n",
              "<style scoped>\n",
              "    .dataframe tbody tr th:only-of-type {\n",
              "        vertical-align: middle;\n",
              "    }\n",
              "\n",
              "    .dataframe tbody tr th {\n",
              "        vertical-align: top;\n",
              "    }\n",
              "\n",
              "    .dataframe thead th {\n",
              "        text-align: right;\n",
              "    }\n",
              "</style>\n",
              "<table border=\"1\" class=\"dataframe\">\n",
              "  <thead>\n",
              "    <tr style=\"text-align: right;\">\n",
              "      <th></th>\n",
              "      <th>date_block_num</th>\n",
              "      <th>item_category_type_code</th>\n",
              "      <th>item_category_subtype_code</th>\n",
              "      <th>item_name_code</th>\n",
              "      <th>city_code</th>\n",
              "      <th>shop_id</th>\n",
              "      <th>item_category_id</th>\n",
              "      <th>item_id</th>\n",
              "      <th>sum_item_price</th>\n",
              "      <th>mean_item_price</th>\n",
              "      <th>sum_item_count</th>\n",
              "      <th>mean_item_count</th>\n",
              "      <th>transactions</th>\n",
              "      <th>year</th>\n",
              "      <th>month</th>\n",
              "      <th>sum_item_cnt_next_month</th>\n",
              "      <th>item_price_unit</th>\n",
              "      <th>hist_min_item_price</th>\n",
              "      <th>hist_max_item_price</th>\n",
              "    </tr>\n",
              "  </thead>\n",
              "  <tbody>\n",
              "    <tr>\n",
              "      <th>0</th>\n",
              "      <td>0</td>\n",
              "      <td>0</td>\n",
              "      <td>9</td>\n",
              "      <td>365</td>\n",
              "      <td>0</td>\n",
              "      <td>2</td>\n",
              "      <td>2</td>\n",
              "      <td>5572</td>\n",
              "      <td>10730.00</td>\n",
              "      <td>1532.86</td>\n",
              "      <td>9</td>\n",
              "      <td>1.29</td>\n",
              "      <td>7</td>\n",
              "      <td>2013</td>\n",
              "      <td>0</td>\n",
              "      <td>9.00</td>\n",
              "      <td>1192.00</td>\n",
              "      <td>0.00</td>\n",
              "      <td>18979.50</td>\n",
              "    </tr>\n",
              "    <tr>\n",
              "      <th>1</th>\n",
              "      <td>0</td>\n",
              "      <td>0</td>\n",
              "      <td>9</td>\n",
              "      <td>365</td>\n",
              "      <td>1</td>\n",
              "      <td>3</td>\n",
              "      <td>2</td>\n",
              "      <td>5572</td>\n",
              "      <td>4770.00</td>\n",
              "      <td>1590.00</td>\n",
              "      <td>3</td>\n",
              "      <td>1.00</td>\n",
              "      <td>3</td>\n",
              "      <td>2013</td>\n",
              "      <td>0</td>\n",
              "      <td>3.00</td>\n",
              "      <td>1590.00</td>\n",
              "      <td>0.00</td>\n",
              "      <td>18979.50</td>\n",
              "    </tr>\n",
              "    <tr>\n",
              "      <th>2</th>\n",
              "      <td>0</td>\n",
              "      <td>0</td>\n",
              "      <td>9</td>\n",
              "      <td>365</td>\n",
              "      <td>2</td>\n",
              "      <td>4</td>\n",
              "      <td>2</td>\n",
              "      <td>5572</td>\n",
              "      <td>4570.00</td>\n",
              "      <td>1523.33</td>\n",
              "      <td>3</td>\n",
              "      <td>1.00</td>\n",
              "      <td>3</td>\n",
              "      <td>2013</td>\n",
              "      <td>0</td>\n",
              "      <td>3.00</td>\n",
              "      <td>1523.00</td>\n",
              "      <td>0.00</td>\n",
              "      <td>18979.50</td>\n",
              "    </tr>\n",
              "    <tr>\n",
              "      <th>3</th>\n",
              "      <td>0</td>\n",
              "      <td>0</td>\n",
              "      <td>9</td>\n",
              "      <td>365</td>\n",
              "      <td>4</td>\n",
              "      <td>6</td>\n",
              "      <td>2</td>\n",
              "      <td>5572</td>\n",
              "      <td>11130.00</td>\n",
              "      <td>1590.00</td>\n",
              "      <td>8</td>\n",
              "      <td>1.14</td>\n",
              "      <td>7</td>\n",
              "      <td>2013</td>\n",
              "      <td>0</td>\n",
              "      <td>8.00</td>\n",
              "      <td>1391.00</td>\n",
              "      <td>0.00</td>\n",
              "      <td>18979.50</td>\n",
              "    </tr>\n",
              "    <tr>\n",
              "      <th>4</th>\n",
              "      <td>0</td>\n",
              "      <td>0</td>\n",
              "      <td>9</td>\n",
              "      <td>365</td>\n",
              "      <td>4</td>\n",
              "      <td>7</td>\n",
              "      <td>2</td>\n",
              "      <td>5572</td>\n",
              "      <td>11030.00</td>\n",
              "      <td>1575.71</td>\n",
              "      <td>8</td>\n",
              "      <td>1.14</td>\n",
              "      <td>7</td>\n",
              "      <td>2013</td>\n",
              "      <td>0</td>\n",
              "      <td>8.00</td>\n",
              "      <td>1378.00</td>\n",
              "      <td>0.00</td>\n",
              "      <td>18979.50</td>\n",
              "    </tr>\n",
              "  </tbody>\n",
              "</table>\n",
              "</div>"
            ],
            "text/plain": [
              "   date_block_num  ...  hist_max_item_price\n",
              "0               0  ...             18979.50\n",
              "1               0  ...             18979.50\n",
              "2               0  ...             18979.50\n",
              "3               0  ...             18979.50\n",
              "4               0  ...             18979.50\n",
              "\n",
              "[5 rows x 19 columns]"
            ]
          },
          "metadata": {
            "tags": []
          },
          "execution_count": 20
        }
      ]
    },
    {
      "cell_type": "code",
      "metadata": {
        "id": "NLFQABaAlB1H",
        "colab_type": "code",
        "outputId": "64b43ed3-04dc-4098-ba92-20828417e13a",
        "colab": {
          "base_uri": "https://localhost:8080/",
          "height": 224
        }
      },
      "source": [
        "# Aggregate how a given item price has changed from it's minimum and maximum prices\n",
        "train['price_increase'] = train['sum_item_price'] - train['hist_min_item_price']\n",
        "train['price_decrease'] = train['hist_max_item_price'] - train['sum_item_price']\n",
        "train.head()"
      ],
      "execution_count": 21,
      "outputs": [
        {
          "output_type": "execute_result",
          "data": {
            "text/html": [
              "<div>\n",
              "<style scoped>\n",
              "    .dataframe tbody tr th:only-of-type {\n",
              "        vertical-align: middle;\n",
              "    }\n",
              "\n",
              "    .dataframe tbody tr th {\n",
              "        vertical-align: top;\n",
              "    }\n",
              "\n",
              "    .dataframe thead th {\n",
              "        text-align: right;\n",
              "    }\n",
              "</style>\n",
              "<table border=\"1\" class=\"dataframe\">\n",
              "  <thead>\n",
              "    <tr style=\"text-align: right;\">\n",
              "      <th></th>\n",
              "      <th>date_block_num</th>\n",
              "      <th>item_category_type_code</th>\n",
              "      <th>item_category_subtype_code</th>\n",
              "      <th>item_name_code</th>\n",
              "      <th>city_code</th>\n",
              "      <th>shop_id</th>\n",
              "      <th>item_category_id</th>\n",
              "      <th>item_id</th>\n",
              "      <th>sum_item_price</th>\n",
              "      <th>mean_item_price</th>\n",
              "      <th>sum_item_count</th>\n",
              "      <th>mean_item_count</th>\n",
              "      <th>transactions</th>\n",
              "      <th>year</th>\n",
              "      <th>month</th>\n",
              "      <th>sum_item_cnt_next_month</th>\n",
              "      <th>item_price_unit</th>\n",
              "      <th>hist_min_item_price</th>\n",
              "      <th>hist_max_item_price</th>\n",
              "      <th>price_increase</th>\n",
              "      <th>price_decrease</th>\n",
              "    </tr>\n",
              "  </thead>\n",
              "  <tbody>\n",
              "    <tr>\n",
              "      <th>0</th>\n",
              "      <td>0</td>\n",
              "      <td>0</td>\n",
              "      <td>9</td>\n",
              "      <td>365</td>\n",
              "      <td>0</td>\n",
              "      <td>2</td>\n",
              "      <td>2</td>\n",
              "      <td>5572</td>\n",
              "      <td>10730.00</td>\n",
              "      <td>1532.86</td>\n",
              "      <td>9</td>\n",
              "      <td>1.29</td>\n",
              "      <td>7</td>\n",
              "      <td>2013</td>\n",
              "      <td>0</td>\n",
              "      <td>9.00</td>\n",
              "      <td>1192.00</td>\n",
              "      <td>0.00</td>\n",
              "      <td>18979.50</td>\n",
              "      <td>10730.00</td>\n",
              "      <td>8249.50</td>\n",
              "    </tr>\n",
              "    <tr>\n",
              "      <th>1</th>\n",
              "      <td>0</td>\n",
              "      <td>0</td>\n",
              "      <td>9</td>\n",
              "      <td>365</td>\n",
              "      <td>1</td>\n",
              "      <td>3</td>\n",
              "      <td>2</td>\n",
              "      <td>5572</td>\n",
              "      <td>4770.00</td>\n",
              "      <td>1590.00</td>\n",
              "      <td>3</td>\n",
              "      <td>1.00</td>\n",
              "      <td>3</td>\n",
              "      <td>2013</td>\n",
              "      <td>0</td>\n",
              "      <td>3.00</td>\n",
              "      <td>1590.00</td>\n",
              "      <td>0.00</td>\n",
              "      <td>18979.50</td>\n",
              "      <td>4770.00</td>\n",
              "      <td>14209.50</td>\n",
              "    </tr>\n",
              "    <tr>\n",
              "      <th>2</th>\n",
              "      <td>0</td>\n",
              "      <td>0</td>\n",
              "      <td>9</td>\n",
              "      <td>365</td>\n",
              "      <td>2</td>\n",
              "      <td>4</td>\n",
              "      <td>2</td>\n",
              "      <td>5572</td>\n",
              "      <td>4570.00</td>\n",
              "      <td>1523.33</td>\n",
              "      <td>3</td>\n",
              "      <td>1.00</td>\n",
              "      <td>3</td>\n",
              "      <td>2013</td>\n",
              "      <td>0</td>\n",
              "      <td>3.00</td>\n",
              "      <td>1523.00</td>\n",
              "      <td>0.00</td>\n",
              "      <td>18979.50</td>\n",
              "      <td>4570.00</td>\n",
              "      <td>14409.50</td>\n",
              "    </tr>\n",
              "    <tr>\n",
              "      <th>3</th>\n",
              "      <td>0</td>\n",
              "      <td>0</td>\n",
              "      <td>9</td>\n",
              "      <td>365</td>\n",
              "      <td>4</td>\n",
              "      <td>6</td>\n",
              "      <td>2</td>\n",
              "      <td>5572</td>\n",
              "      <td>11130.00</td>\n",
              "      <td>1590.00</td>\n",
              "      <td>8</td>\n",
              "      <td>1.14</td>\n",
              "      <td>7</td>\n",
              "      <td>2013</td>\n",
              "      <td>0</td>\n",
              "      <td>8.00</td>\n",
              "      <td>1391.00</td>\n",
              "      <td>0.00</td>\n",
              "      <td>18979.50</td>\n",
              "      <td>11130.00</td>\n",
              "      <td>7849.50</td>\n",
              "    </tr>\n",
              "    <tr>\n",
              "      <th>4</th>\n",
              "      <td>0</td>\n",
              "      <td>0</td>\n",
              "      <td>9</td>\n",
              "      <td>365</td>\n",
              "      <td>4</td>\n",
              "      <td>7</td>\n",
              "      <td>2</td>\n",
              "      <td>5572</td>\n",
              "      <td>11030.00</td>\n",
              "      <td>1575.71</td>\n",
              "      <td>8</td>\n",
              "      <td>1.14</td>\n",
              "      <td>7</td>\n",
              "      <td>2013</td>\n",
              "      <td>0</td>\n",
              "      <td>8.00</td>\n",
              "      <td>1378.00</td>\n",
              "      <td>0.00</td>\n",
              "      <td>18979.50</td>\n",
              "      <td>11030.00</td>\n",
              "      <td>7949.50</td>\n",
              "    </tr>\n",
              "  </tbody>\n",
              "</table>\n",
              "</div>"
            ],
            "text/plain": [
              "   date_block_num  item_category_type_code  ...  price_increase  price_decrease\n",
              "0               0                        0  ...        10730.00         8249.50\n",
              "1               0                        0  ...         4770.00        14209.50\n",
              "2               0                        0  ...         4570.00        14409.50\n",
              "3               0                        0  ...        11130.00         7849.50\n",
              "4               0                        0  ...        11030.00         7949.50\n",
              "\n",
              "[5 rows x 21 columns]"
            ]
          },
          "metadata": {
            "tags": []
          },
          "execution_count": 21
        }
      ]
    },
    {
      "cell_type": "markdown",
      "metadata": {
        "id": "ui_vY7d8lB1J",
        "colab_type": "text"
      },
      "source": [
        "A powerful technique when playing with time series data is a rolling window. Here, we will create a 3 month rolling window for our features and calculate summary statistics (max, min, mean and standard deviation) of the sum_item_count and appending these features as columns to our dataframe. 3 months has been chosen as it is long enough to capture a season, hoping to capture seasonal trends without being too long to make computation detrimental or omit more data (if we had data dating back further, we could increase the length of the window duration to capture longer trends. However, we only have data from early 2013 to late 2015).\n",
        "\n",
        "This has the advantages of also helping to assess the stability of our model and gauge instabilities in our data, which may be useful to our model as well as time invariance.\n",
        "\n",
        "\n",
        "Some more reading about rolling windows can be found online, one resource I quite liked was: https://www.mathworks.com/help/econ/rolling-window-estimation-of-state-space-models.html \n",
        "\n",
        "Another useful notebook introducing some time series models: https://www.kaggle.com/jagangupta/time-series-basics-exploring-traditional-ts/data#Single-series."
      ]
    },
    {
      "cell_type": "code",
      "metadata": {
        "id": "ctDb0rnclB1J",
        "colab_type": "code",
        "colab": {}
      },
      "source": [
        "# Initialise rolling window parameters\n",
        "window_size = 3\n",
        "min_periods_len = 1\n",
        "\n",
        "# Minimum value rolling window\n",
        "f_min = lambda x: x.rolling(window=window_size, min_periods=min_periods_len).min()\n",
        "\n",
        "# Maximum value rolling window\n",
        "f_max = lambda x: x.rolling(window=window_size, min_periods=min_periods_len).max()\n",
        "\n",
        "# Mean value rolling window\n",
        "f_mean = lambda x: x.rolling(window=window_size, min_periods=min_periods_len).mean()\n",
        "\n",
        "# Standard deviation rolling window\n",
        "f_std = lambda x: x.rolling(window=window_size, min_periods=min_periods_len).std()"
      ],
      "execution_count": 0,
      "outputs": []
    },
    {
      "cell_type": "code",
      "metadata": {
        "id": "SAuHFQrVlB1L",
        "colab_type": "code",
        "colab": {}
      },
      "source": [
        "# Create lists of functions and names of features to append\n",
        "function_list = [f_min, f_max, f_mean, f_std]\n",
        "function_name = ['min', 'max', 'mean', 'std']\n",
        "\n",
        "# Loop through functions list, groupby a number of our categories and apply corresponding functions\n",
        "for i in range(len(function_list)):\n",
        "    train[('item_cnt_%s' % function_name[i])] = train.sort_values('date_block_num').groupby([\n",
        "        'shop_id', \n",
        "        'item_category_id', \n",
        "        'item_id', # Just compute primary category group bys\n",
        "        # 'city_code', # Too long to compute; in an ideal world we would\n",
        "        # 'item_category_type_code',\n",
        "        # 'item_category_subtype_code',\n",
        "        # 'item_name_code'\n",
        "    ])['sum_item_count'].apply(function_list[i])\n",
        "\n",
        "# Fill the empty std features with 0\n",
        "train['item_cnt_std'].fillna(0, inplace=True)"
      ],
      "execution_count": 0,
      "outputs": []
    },
    {
      "cell_type": "code",
      "metadata": {
        "id": "IespZHnalB1N",
        "colab_type": "code",
        "outputId": "0442138c-ec3a-4f4c-eb7d-46d2fbc56bad",
        "colab": {
          "base_uri": "https://localhost:8080/",
          "height": 224
        }
      },
      "source": [
        "train.head()"
      ],
      "execution_count": 24,
      "outputs": [
        {
          "output_type": "execute_result",
          "data": {
            "text/html": [
              "<div>\n",
              "<style scoped>\n",
              "    .dataframe tbody tr th:only-of-type {\n",
              "        vertical-align: middle;\n",
              "    }\n",
              "\n",
              "    .dataframe tbody tr th {\n",
              "        vertical-align: top;\n",
              "    }\n",
              "\n",
              "    .dataframe thead th {\n",
              "        text-align: right;\n",
              "    }\n",
              "</style>\n",
              "<table border=\"1\" class=\"dataframe\">\n",
              "  <thead>\n",
              "    <tr style=\"text-align: right;\">\n",
              "      <th></th>\n",
              "      <th>date_block_num</th>\n",
              "      <th>item_category_type_code</th>\n",
              "      <th>item_category_subtype_code</th>\n",
              "      <th>item_name_code</th>\n",
              "      <th>city_code</th>\n",
              "      <th>shop_id</th>\n",
              "      <th>item_category_id</th>\n",
              "      <th>item_id</th>\n",
              "      <th>sum_item_price</th>\n",
              "      <th>mean_item_price</th>\n",
              "      <th>sum_item_count</th>\n",
              "      <th>mean_item_count</th>\n",
              "      <th>transactions</th>\n",
              "      <th>year</th>\n",
              "      <th>month</th>\n",
              "      <th>sum_item_cnt_next_month</th>\n",
              "      <th>item_price_unit</th>\n",
              "      <th>hist_min_item_price</th>\n",
              "      <th>hist_max_item_price</th>\n",
              "      <th>price_increase</th>\n",
              "      <th>price_decrease</th>\n",
              "      <th>item_cnt_min</th>\n",
              "      <th>item_cnt_max</th>\n",
              "      <th>item_cnt_mean</th>\n",
              "      <th>item_cnt_std</th>\n",
              "    </tr>\n",
              "  </thead>\n",
              "  <tbody>\n",
              "    <tr>\n",
              "      <th>0</th>\n",
              "      <td>0</td>\n",
              "      <td>0</td>\n",
              "      <td>9</td>\n",
              "      <td>365</td>\n",
              "      <td>0</td>\n",
              "      <td>2</td>\n",
              "      <td>2</td>\n",
              "      <td>5572</td>\n",
              "      <td>10730.00</td>\n",
              "      <td>1532.86</td>\n",
              "      <td>9</td>\n",
              "      <td>1.29</td>\n",
              "      <td>7</td>\n",
              "      <td>2013</td>\n",
              "      <td>0</td>\n",
              "      <td>9.00</td>\n",
              "      <td>1192.00</td>\n",
              "      <td>0.00</td>\n",
              "      <td>18979.50</td>\n",
              "      <td>10730.00</td>\n",
              "      <td>8249.50</td>\n",
              "      <td>9.00</td>\n",
              "      <td>9.00</td>\n",
              "      <td>9.00</td>\n",
              "      <td>0.00</td>\n",
              "    </tr>\n",
              "    <tr>\n",
              "      <th>1</th>\n",
              "      <td>0</td>\n",
              "      <td>0</td>\n",
              "      <td>9</td>\n",
              "      <td>365</td>\n",
              "      <td>1</td>\n",
              "      <td>3</td>\n",
              "      <td>2</td>\n",
              "      <td>5572</td>\n",
              "      <td>4770.00</td>\n",
              "      <td>1590.00</td>\n",
              "      <td>3</td>\n",
              "      <td>1.00</td>\n",
              "      <td>3</td>\n",
              "      <td>2013</td>\n",
              "      <td>0</td>\n",
              "      <td>3.00</td>\n",
              "      <td>1590.00</td>\n",
              "      <td>0.00</td>\n",
              "      <td>18979.50</td>\n",
              "      <td>4770.00</td>\n",
              "      <td>14209.50</td>\n",
              "      <td>3.00</td>\n",
              "      <td>3.00</td>\n",
              "      <td>3.00</td>\n",
              "      <td>0.00</td>\n",
              "    </tr>\n",
              "    <tr>\n",
              "      <th>2</th>\n",
              "      <td>0</td>\n",
              "      <td>0</td>\n",
              "      <td>9</td>\n",
              "      <td>365</td>\n",
              "      <td>2</td>\n",
              "      <td>4</td>\n",
              "      <td>2</td>\n",
              "      <td>5572</td>\n",
              "      <td>4570.00</td>\n",
              "      <td>1523.33</td>\n",
              "      <td>3</td>\n",
              "      <td>1.00</td>\n",
              "      <td>3</td>\n",
              "      <td>2013</td>\n",
              "      <td>0</td>\n",
              "      <td>3.00</td>\n",
              "      <td>1523.00</td>\n",
              "      <td>0.00</td>\n",
              "      <td>18979.50</td>\n",
              "      <td>4570.00</td>\n",
              "      <td>14409.50</td>\n",
              "      <td>3.00</td>\n",
              "      <td>3.00</td>\n",
              "      <td>3.00</td>\n",
              "      <td>0.00</td>\n",
              "    </tr>\n",
              "    <tr>\n",
              "      <th>3</th>\n",
              "      <td>0</td>\n",
              "      <td>0</td>\n",
              "      <td>9</td>\n",
              "      <td>365</td>\n",
              "      <td>4</td>\n",
              "      <td>6</td>\n",
              "      <td>2</td>\n",
              "      <td>5572</td>\n",
              "      <td>11130.00</td>\n",
              "      <td>1590.00</td>\n",
              "      <td>8</td>\n",
              "      <td>1.14</td>\n",
              "      <td>7</td>\n",
              "      <td>2013</td>\n",
              "      <td>0</td>\n",
              "      <td>8.00</td>\n",
              "      <td>1391.00</td>\n",
              "      <td>0.00</td>\n",
              "      <td>18979.50</td>\n",
              "      <td>11130.00</td>\n",
              "      <td>7849.50</td>\n",
              "      <td>8.00</td>\n",
              "      <td>8.00</td>\n",
              "      <td>8.00</td>\n",
              "      <td>0.00</td>\n",
              "    </tr>\n",
              "    <tr>\n",
              "      <th>4</th>\n",
              "      <td>0</td>\n",
              "      <td>0</td>\n",
              "      <td>9</td>\n",
              "      <td>365</td>\n",
              "      <td>4</td>\n",
              "      <td>7</td>\n",
              "      <td>2</td>\n",
              "      <td>5572</td>\n",
              "      <td>11030.00</td>\n",
              "      <td>1575.71</td>\n",
              "      <td>8</td>\n",
              "      <td>1.14</td>\n",
              "      <td>7</td>\n",
              "      <td>2013</td>\n",
              "      <td>0</td>\n",
              "      <td>8.00</td>\n",
              "      <td>1378.00</td>\n",
              "      <td>0.00</td>\n",
              "      <td>18979.50</td>\n",
              "      <td>11030.00</td>\n",
              "      <td>7949.50</td>\n",
              "      <td>8.00</td>\n",
              "      <td>8.00</td>\n",
              "      <td>8.00</td>\n",
              "      <td>0.00</td>\n",
              "    </tr>\n",
              "  </tbody>\n",
              "</table>\n",
              "</div>"
            ],
            "text/plain": [
              "   date_block_num  item_category_type_code  ...  item_cnt_mean  item_cnt_std\n",
              "0               0                        0  ...           9.00          0.00\n",
              "1               0                        0  ...           3.00          0.00\n",
              "2               0                        0  ...           3.00          0.00\n",
              "3               0                        0  ...           8.00          0.00\n",
              "4               0                        0  ...           8.00          0.00\n",
              "\n",
              "[5 rows x 25 columns]"
            ]
          },
          "metadata": {
            "tags": []
          },
          "execution_count": 24
        }
      ]
    },
    {
      "cell_type": "code",
      "metadata": {
        "id": "eDKCJ5uZtNob",
        "colab_type": "code",
        "outputId": "a89b1cd9-9be5-42da-f4a5-a1faee5d12e7",
        "colab": {
          "base_uri": "https://localhost:8080/",
          "height": 68
        }
      },
      "source": [
        "train.date_block_num.unique()"
      ],
      "execution_count": 25,
      "outputs": [
        {
          "output_type": "execute_result",
          "data": {
            "text/plain": [
              "array([ 0,  1,  2,  3,  4,  5,  6,  7,  8,  9, 10, 11, 12, 13, 14, 15, 16,\n",
              "       17, 18, 19, 20, 21, 22, 23, 24, 25, 26, 27, 28, 29, 30, 31, 32, 33],\n",
              "      dtype=int16)"
            ]
          },
          "metadata": {
            "tags": []
          },
          "execution_count": 25
        }
      ]
    },
    {
      "cell_type": "markdown",
      "metadata": {
        "id": "EBQDnaGwlB1O",
        "colab_type": "text"
      },
      "source": [
        "Lag features are essentially variables carried over from prior time steps that may be useful in calculating the future time step. This is a classical approach of turning our time-series problem into one that more closely aligns with a supervised learning problem, so phrasing the problem in a different manner. In line with the duration of our rolling window, we will use 3 months of lag based features to capture a season.\n",
        "\n",
        "References:\n",
        "-  https://machinelearningmastery.com/basic-feature-engineering-time-series-data-python/\n",
        "-  https://www.analyticsvidhya.com/blog/2019/12/6-powerful-feature-engineering-techniques-time-series/"
      ]
    },
    {
      "cell_type": "code",
      "metadata": {
        "id": "PUfCF3k_lB1P",
        "colab_type": "code",
        "colab": {}
      },
      "source": [
        "# Create list of lag features (we will use up to 3 months)\n",
        "lag_list = [1, 2, 3]\n",
        "\n",
        "# Loop through lag list, groupby categories and create column for corresponding shifted lag\n",
        "for lag in lag_list:\n",
        "    ft_name = ('item_cnt_shifted%s' % lag)\n",
        "    train[ft_name] = train.sort_values('date_block_num').groupby([\n",
        "        'shop_id', \n",
        "        'item_category_id', \n",
        "        'item_id',\n",
        "        # 'city_code', # Same principle applies\n",
        "        # 'item_category_type_code',\n",
        "        # 'item_category_subtype_code',\n",
        "        # 'item_name_code'\n",
        "    ])['sum_item_count'].shift(lag)\n",
        "    \n",
        "    # Fill the empty shifted features with 0\n",
        "    train[ft_name].fillna(0, inplace=True)"
      ],
      "execution_count": 0,
      "outputs": []
    },
    {
      "cell_type": "code",
      "metadata": {
        "id": "T6eg66ButS7A",
        "colab_type": "code",
        "outputId": "c4c9e425-f36b-421f-b579-0ffdf68a1937",
        "colab": {
          "base_uri": "https://localhost:8080/",
          "height": 68
        }
      },
      "source": [
        "train.date_block_num.unique()"
      ],
      "execution_count": 27,
      "outputs": [
        {
          "output_type": "execute_result",
          "data": {
            "text/plain": [
              "array([ 0,  1,  2,  3,  4,  5,  6,  7,  8,  9, 10, 11, 12, 13, 14, 15, 16,\n",
              "       17, 18, 19, 20, 21, 22, 23, 24, 25, 26, 27, 28, 29, 30, 31, 32, 33],\n",
              "      dtype=int16)"
            ]
          },
          "metadata": {
            "tags": []
          },
          "execution_count": 27
        }
      ]
    },
    {
      "cell_type": "code",
      "metadata": {
        "id": "Uah74kYblB1S",
        "colab_type": "code",
        "outputId": "a47a0882-bd45-4800-8d93-4036af54fd8f",
        "colab": {
          "base_uri": "https://localhost:8080/",
          "height": 224
        }
      },
      "source": [
        "train.head()"
      ],
      "execution_count": 28,
      "outputs": [
        {
          "output_type": "execute_result",
          "data": {
            "text/html": [
              "<div>\n",
              "<style scoped>\n",
              "    .dataframe tbody tr th:only-of-type {\n",
              "        vertical-align: middle;\n",
              "    }\n",
              "\n",
              "    .dataframe tbody tr th {\n",
              "        vertical-align: top;\n",
              "    }\n",
              "\n",
              "    .dataframe thead th {\n",
              "        text-align: right;\n",
              "    }\n",
              "</style>\n",
              "<table border=\"1\" class=\"dataframe\">\n",
              "  <thead>\n",
              "    <tr style=\"text-align: right;\">\n",
              "      <th></th>\n",
              "      <th>date_block_num</th>\n",
              "      <th>item_category_type_code</th>\n",
              "      <th>item_category_subtype_code</th>\n",
              "      <th>item_name_code</th>\n",
              "      <th>city_code</th>\n",
              "      <th>shop_id</th>\n",
              "      <th>item_category_id</th>\n",
              "      <th>item_id</th>\n",
              "      <th>sum_item_price</th>\n",
              "      <th>mean_item_price</th>\n",
              "      <th>sum_item_count</th>\n",
              "      <th>mean_item_count</th>\n",
              "      <th>transactions</th>\n",
              "      <th>year</th>\n",
              "      <th>month</th>\n",
              "      <th>sum_item_cnt_next_month</th>\n",
              "      <th>item_price_unit</th>\n",
              "      <th>hist_min_item_price</th>\n",
              "      <th>hist_max_item_price</th>\n",
              "      <th>price_increase</th>\n",
              "      <th>price_decrease</th>\n",
              "      <th>item_cnt_min</th>\n",
              "      <th>item_cnt_max</th>\n",
              "      <th>item_cnt_mean</th>\n",
              "      <th>item_cnt_std</th>\n",
              "      <th>item_cnt_shifted1</th>\n",
              "      <th>item_cnt_shifted2</th>\n",
              "      <th>item_cnt_shifted3</th>\n",
              "    </tr>\n",
              "  </thead>\n",
              "  <tbody>\n",
              "    <tr>\n",
              "      <th>0</th>\n",
              "      <td>0</td>\n",
              "      <td>0</td>\n",
              "      <td>9</td>\n",
              "      <td>365</td>\n",
              "      <td>0</td>\n",
              "      <td>2</td>\n",
              "      <td>2</td>\n",
              "      <td>5572</td>\n",
              "      <td>10730.00</td>\n",
              "      <td>1532.86</td>\n",
              "      <td>9</td>\n",
              "      <td>1.29</td>\n",
              "      <td>7</td>\n",
              "      <td>2013</td>\n",
              "      <td>0</td>\n",
              "      <td>9.00</td>\n",
              "      <td>1192.00</td>\n",
              "      <td>0.00</td>\n",
              "      <td>18979.50</td>\n",
              "      <td>10730.00</td>\n",
              "      <td>8249.50</td>\n",
              "      <td>9.00</td>\n",
              "      <td>9.00</td>\n",
              "      <td>9.00</td>\n",
              "      <td>0.00</td>\n",
              "      <td>0.00</td>\n",
              "      <td>0.00</td>\n",
              "      <td>0.00</td>\n",
              "    </tr>\n",
              "    <tr>\n",
              "      <th>1</th>\n",
              "      <td>0</td>\n",
              "      <td>0</td>\n",
              "      <td>9</td>\n",
              "      <td>365</td>\n",
              "      <td>1</td>\n",
              "      <td>3</td>\n",
              "      <td>2</td>\n",
              "      <td>5572</td>\n",
              "      <td>4770.00</td>\n",
              "      <td>1590.00</td>\n",
              "      <td>3</td>\n",
              "      <td>1.00</td>\n",
              "      <td>3</td>\n",
              "      <td>2013</td>\n",
              "      <td>0</td>\n",
              "      <td>3.00</td>\n",
              "      <td>1590.00</td>\n",
              "      <td>0.00</td>\n",
              "      <td>18979.50</td>\n",
              "      <td>4770.00</td>\n",
              "      <td>14209.50</td>\n",
              "      <td>3.00</td>\n",
              "      <td>3.00</td>\n",
              "      <td>3.00</td>\n",
              "      <td>0.00</td>\n",
              "      <td>0.00</td>\n",
              "      <td>0.00</td>\n",
              "      <td>0.00</td>\n",
              "    </tr>\n",
              "    <tr>\n",
              "      <th>2</th>\n",
              "      <td>0</td>\n",
              "      <td>0</td>\n",
              "      <td>9</td>\n",
              "      <td>365</td>\n",
              "      <td>2</td>\n",
              "      <td>4</td>\n",
              "      <td>2</td>\n",
              "      <td>5572</td>\n",
              "      <td>4570.00</td>\n",
              "      <td>1523.33</td>\n",
              "      <td>3</td>\n",
              "      <td>1.00</td>\n",
              "      <td>3</td>\n",
              "      <td>2013</td>\n",
              "      <td>0</td>\n",
              "      <td>3.00</td>\n",
              "      <td>1523.00</td>\n",
              "      <td>0.00</td>\n",
              "      <td>18979.50</td>\n",
              "      <td>4570.00</td>\n",
              "      <td>14409.50</td>\n",
              "      <td>3.00</td>\n",
              "      <td>3.00</td>\n",
              "      <td>3.00</td>\n",
              "      <td>0.00</td>\n",
              "      <td>0.00</td>\n",
              "      <td>0.00</td>\n",
              "      <td>0.00</td>\n",
              "    </tr>\n",
              "    <tr>\n",
              "      <th>3</th>\n",
              "      <td>0</td>\n",
              "      <td>0</td>\n",
              "      <td>9</td>\n",
              "      <td>365</td>\n",
              "      <td>4</td>\n",
              "      <td>6</td>\n",
              "      <td>2</td>\n",
              "      <td>5572</td>\n",
              "      <td>11130.00</td>\n",
              "      <td>1590.00</td>\n",
              "      <td>8</td>\n",
              "      <td>1.14</td>\n",
              "      <td>7</td>\n",
              "      <td>2013</td>\n",
              "      <td>0</td>\n",
              "      <td>8.00</td>\n",
              "      <td>1391.00</td>\n",
              "      <td>0.00</td>\n",
              "      <td>18979.50</td>\n",
              "      <td>11130.00</td>\n",
              "      <td>7849.50</td>\n",
              "      <td>8.00</td>\n",
              "      <td>8.00</td>\n",
              "      <td>8.00</td>\n",
              "      <td>0.00</td>\n",
              "      <td>0.00</td>\n",
              "      <td>0.00</td>\n",
              "      <td>0.00</td>\n",
              "    </tr>\n",
              "    <tr>\n",
              "      <th>4</th>\n",
              "      <td>0</td>\n",
              "      <td>0</td>\n",
              "      <td>9</td>\n",
              "      <td>365</td>\n",
              "      <td>4</td>\n",
              "      <td>7</td>\n",
              "      <td>2</td>\n",
              "      <td>5572</td>\n",
              "      <td>11030.00</td>\n",
              "      <td>1575.71</td>\n",
              "      <td>8</td>\n",
              "      <td>1.14</td>\n",
              "      <td>7</td>\n",
              "      <td>2013</td>\n",
              "      <td>0</td>\n",
              "      <td>8.00</td>\n",
              "      <td>1378.00</td>\n",
              "      <td>0.00</td>\n",
              "      <td>18979.50</td>\n",
              "      <td>11030.00</td>\n",
              "      <td>7949.50</td>\n",
              "      <td>8.00</td>\n",
              "      <td>8.00</td>\n",
              "      <td>8.00</td>\n",
              "      <td>0.00</td>\n",
              "      <td>0.00</td>\n",
              "      <td>0.00</td>\n",
              "      <td>0.00</td>\n",
              "    </tr>\n",
              "  </tbody>\n",
              "</table>\n",
              "</div>"
            ],
            "text/plain": [
              "   date_block_num  ...  item_cnt_shifted3\n",
              "0               0  ...               0.00\n",
              "1               0  ...               0.00\n",
              "2               0  ...               0.00\n",
              "3               0  ...               0.00\n",
              "4               0  ...               0.00\n",
              "\n",
              "[5 rows x 28 columns]"
            ]
          },
          "metadata": {
            "tags": []
          },
          "execution_count": 28
        }
      ]
    },
    {
      "cell_type": "markdown",
      "metadata": {
        "id": "FYifnD56lB1U",
        "colab_type": "text"
      },
      "source": [
        "And with the lag based features; we can see how the item count for any given item has changed over the lag window duration (3 months) and thus capture a 'trend'."
      ]
    },
    {
      "cell_type": "code",
      "metadata": {
        "id": "SZmBINnwlB1U",
        "colab_type": "code",
        "colab": {}
      },
      "source": [
        "# Initialise column of item trend\n",
        "train['item_trend'] = train['sum_item_count']\n",
        "\n",
        "# Compare item against lag features to capture trend\n",
        "for lag in lag_list:\n",
        "    ft_name = ('item_cnt_shifted%s' % lag)\n",
        "    train['item_trend'] -= train[ft_name]\n",
        "\n",
        "# Normalise\n",
        "train['item_trend'] /= len(lag_list) + 1"
      ],
      "execution_count": 0,
      "outputs": []
    },
    {
      "cell_type": "code",
      "metadata": {
        "id": "-a-0BcQ3lB1V",
        "colab_type": "code",
        "outputId": "d0554f43-b374-4ef7-cc36-694c685426f6",
        "colab": {
          "base_uri": "https://localhost:8080/",
          "height": 224
        }
      },
      "source": [
        "train.head()"
      ],
      "execution_count": 30,
      "outputs": [
        {
          "output_type": "execute_result",
          "data": {
            "text/html": [
              "<div>\n",
              "<style scoped>\n",
              "    .dataframe tbody tr th:only-of-type {\n",
              "        vertical-align: middle;\n",
              "    }\n",
              "\n",
              "    .dataframe tbody tr th {\n",
              "        vertical-align: top;\n",
              "    }\n",
              "\n",
              "    .dataframe thead th {\n",
              "        text-align: right;\n",
              "    }\n",
              "</style>\n",
              "<table border=\"1\" class=\"dataframe\">\n",
              "  <thead>\n",
              "    <tr style=\"text-align: right;\">\n",
              "      <th></th>\n",
              "      <th>date_block_num</th>\n",
              "      <th>item_category_type_code</th>\n",
              "      <th>item_category_subtype_code</th>\n",
              "      <th>item_name_code</th>\n",
              "      <th>city_code</th>\n",
              "      <th>shop_id</th>\n",
              "      <th>item_category_id</th>\n",
              "      <th>item_id</th>\n",
              "      <th>sum_item_price</th>\n",
              "      <th>mean_item_price</th>\n",
              "      <th>sum_item_count</th>\n",
              "      <th>mean_item_count</th>\n",
              "      <th>transactions</th>\n",
              "      <th>year</th>\n",
              "      <th>month</th>\n",
              "      <th>sum_item_cnt_next_month</th>\n",
              "      <th>item_price_unit</th>\n",
              "      <th>hist_min_item_price</th>\n",
              "      <th>hist_max_item_price</th>\n",
              "      <th>price_increase</th>\n",
              "      <th>price_decrease</th>\n",
              "      <th>item_cnt_min</th>\n",
              "      <th>item_cnt_max</th>\n",
              "      <th>item_cnt_mean</th>\n",
              "      <th>item_cnt_std</th>\n",
              "      <th>item_cnt_shifted1</th>\n",
              "      <th>item_cnt_shifted2</th>\n",
              "      <th>item_cnt_shifted3</th>\n",
              "      <th>item_trend</th>\n",
              "    </tr>\n",
              "  </thead>\n",
              "  <tbody>\n",
              "    <tr>\n",
              "      <th>0</th>\n",
              "      <td>0</td>\n",
              "      <td>0</td>\n",
              "      <td>9</td>\n",
              "      <td>365</td>\n",
              "      <td>0</td>\n",
              "      <td>2</td>\n",
              "      <td>2</td>\n",
              "      <td>5572</td>\n",
              "      <td>10730.00</td>\n",
              "      <td>1532.86</td>\n",
              "      <td>9</td>\n",
              "      <td>1.29</td>\n",
              "      <td>7</td>\n",
              "      <td>2013</td>\n",
              "      <td>0</td>\n",
              "      <td>9.00</td>\n",
              "      <td>1192.00</td>\n",
              "      <td>0.00</td>\n",
              "      <td>18979.50</td>\n",
              "      <td>10730.00</td>\n",
              "      <td>8249.50</td>\n",
              "      <td>9.00</td>\n",
              "      <td>9.00</td>\n",
              "      <td>9.00</td>\n",
              "      <td>0.00</td>\n",
              "      <td>0.00</td>\n",
              "      <td>0.00</td>\n",
              "      <td>0.00</td>\n",
              "      <td>2.25</td>\n",
              "    </tr>\n",
              "    <tr>\n",
              "      <th>1</th>\n",
              "      <td>0</td>\n",
              "      <td>0</td>\n",
              "      <td>9</td>\n",
              "      <td>365</td>\n",
              "      <td>1</td>\n",
              "      <td>3</td>\n",
              "      <td>2</td>\n",
              "      <td>5572</td>\n",
              "      <td>4770.00</td>\n",
              "      <td>1590.00</td>\n",
              "      <td>3</td>\n",
              "      <td>1.00</td>\n",
              "      <td>3</td>\n",
              "      <td>2013</td>\n",
              "      <td>0</td>\n",
              "      <td>3.00</td>\n",
              "      <td>1590.00</td>\n",
              "      <td>0.00</td>\n",
              "      <td>18979.50</td>\n",
              "      <td>4770.00</td>\n",
              "      <td>14209.50</td>\n",
              "      <td>3.00</td>\n",
              "      <td>3.00</td>\n",
              "      <td>3.00</td>\n",
              "      <td>0.00</td>\n",
              "      <td>0.00</td>\n",
              "      <td>0.00</td>\n",
              "      <td>0.00</td>\n",
              "      <td>0.75</td>\n",
              "    </tr>\n",
              "    <tr>\n",
              "      <th>2</th>\n",
              "      <td>0</td>\n",
              "      <td>0</td>\n",
              "      <td>9</td>\n",
              "      <td>365</td>\n",
              "      <td>2</td>\n",
              "      <td>4</td>\n",
              "      <td>2</td>\n",
              "      <td>5572</td>\n",
              "      <td>4570.00</td>\n",
              "      <td>1523.33</td>\n",
              "      <td>3</td>\n",
              "      <td>1.00</td>\n",
              "      <td>3</td>\n",
              "      <td>2013</td>\n",
              "      <td>0</td>\n",
              "      <td>3.00</td>\n",
              "      <td>1523.00</td>\n",
              "      <td>0.00</td>\n",
              "      <td>18979.50</td>\n",
              "      <td>4570.00</td>\n",
              "      <td>14409.50</td>\n",
              "      <td>3.00</td>\n",
              "      <td>3.00</td>\n",
              "      <td>3.00</td>\n",
              "      <td>0.00</td>\n",
              "      <td>0.00</td>\n",
              "      <td>0.00</td>\n",
              "      <td>0.00</td>\n",
              "      <td>0.75</td>\n",
              "    </tr>\n",
              "    <tr>\n",
              "      <th>3</th>\n",
              "      <td>0</td>\n",
              "      <td>0</td>\n",
              "      <td>9</td>\n",
              "      <td>365</td>\n",
              "      <td>4</td>\n",
              "      <td>6</td>\n",
              "      <td>2</td>\n",
              "      <td>5572</td>\n",
              "      <td>11130.00</td>\n",
              "      <td>1590.00</td>\n",
              "      <td>8</td>\n",
              "      <td>1.14</td>\n",
              "      <td>7</td>\n",
              "      <td>2013</td>\n",
              "      <td>0</td>\n",
              "      <td>8.00</td>\n",
              "      <td>1391.00</td>\n",
              "      <td>0.00</td>\n",
              "      <td>18979.50</td>\n",
              "      <td>11130.00</td>\n",
              "      <td>7849.50</td>\n",
              "      <td>8.00</td>\n",
              "      <td>8.00</td>\n",
              "      <td>8.00</td>\n",
              "      <td>0.00</td>\n",
              "      <td>0.00</td>\n",
              "      <td>0.00</td>\n",
              "      <td>0.00</td>\n",
              "      <td>2.00</td>\n",
              "    </tr>\n",
              "    <tr>\n",
              "      <th>4</th>\n",
              "      <td>0</td>\n",
              "      <td>0</td>\n",
              "      <td>9</td>\n",
              "      <td>365</td>\n",
              "      <td>4</td>\n",
              "      <td>7</td>\n",
              "      <td>2</td>\n",
              "      <td>5572</td>\n",
              "      <td>11030.00</td>\n",
              "      <td>1575.71</td>\n",
              "      <td>8</td>\n",
              "      <td>1.14</td>\n",
              "      <td>7</td>\n",
              "      <td>2013</td>\n",
              "      <td>0</td>\n",
              "      <td>8.00</td>\n",
              "      <td>1378.00</td>\n",
              "      <td>0.00</td>\n",
              "      <td>18979.50</td>\n",
              "      <td>11030.00</td>\n",
              "      <td>7949.50</td>\n",
              "      <td>8.00</td>\n",
              "      <td>8.00</td>\n",
              "      <td>8.00</td>\n",
              "      <td>0.00</td>\n",
              "      <td>0.00</td>\n",
              "      <td>0.00</td>\n",
              "      <td>0.00</td>\n",
              "      <td>2.00</td>\n",
              "    </tr>\n",
              "  </tbody>\n",
              "</table>\n",
              "</div>"
            ],
            "text/plain": [
              "   date_block_num  item_category_type_code  ...  item_cnt_shifted3  item_trend\n",
              "0               0                        0  ...               0.00        2.25\n",
              "1               0                        0  ...               0.00        0.75\n",
              "2               0                        0  ...               0.00        0.75\n",
              "3               0                        0  ...               0.00        2.00\n",
              "4               0                        0  ...               0.00        2.00\n",
              "\n",
              "[5 rows x 29 columns]"
            ]
          },
          "metadata": {
            "tags": []
          },
          "execution_count": 30
        }
      ]
    },
    {
      "cell_type": "code",
      "metadata": {
        "id": "mnlCk7IeuJ5n",
        "colab_type": "code",
        "outputId": "fe2e9d26-eddf-442c-a249-bf88bb97e041",
        "colab": {
          "base_uri": "https://localhost:8080/",
          "height": 68
        }
      },
      "source": [
        "train.date_block_num.unique()"
      ],
      "execution_count": 31,
      "outputs": [
        {
          "output_type": "execute_result",
          "data": {
            "text/plain": [
              "array([ 0,  1,  2,  3,  4,  5,  6,  7,  8,  9, 10, 11, 12, 13, 14, 15, 16,\n",
              "       17, 18, 19, 20, 21, 22, 23, 24, 25, 26, 27, 28, 29, 30, 31, 32, 33],\n",
              "      dtype=int16)"
            ]
          },
          "metadata": {
            "tags": []
          },
          "execution_count": 31
        }
      ]
    },
    {
      "cell_type": "code",
      "metadata": {
        "id": "j8FnTMFrlB1Z",
        "colab_type": "code",
        "outputId": "ef305721-d204-439c-b7be-e97501e18b18",
        "colab": {
          "base_uri": "https://localhost:8080/",
          "height": 317
        }
      },
      "source": [
        "train.describe()"
      ],
      "execution_count": 32,
      "outputs": [
        {
          "output_type": "execute_result",
          "data": {
            "text/html": [
              "<div>\n",
              "<style scoped>\n",
              "    .dataframe tbody tr th:only-of-type {\n",
              "        vertical-align: middle;\n",
              "    }\n",
              "\n",
              "    .dataframe tbody tr th {\n",
              "        vertical-align: top;\n",
              "    }\n",
              "\n",
              "    .dataframe thead th {\n",
              "        text-align: right;\n",
              "    }\n",
              "</style>\n",
              "<table border=\"1\" class=\"dataframe\">\n",
              "  <thead>\n",
              "    <tr style=\"text-align: right;\">\n",
              "      <th></th>\n",
              "      <th>date_block_num</th>\n",
              "      <th>item_category_type_code</th>\n",
              "      <th>item_category_subtype_code</th>\n",
              "      <th>item_name_code</th>\n",
              "      <th>city_code</th>\n",
              "      <th>shop_id</th>\n",
              "      <th>item_category_id</th>\n",
              "      <th>item_id</th>\n",
              "      <th>sum_item_price</th>\n",
              "      <th>mean_item_price</th>\n",
              "      <th>sum_item_count</th>\n",
              "      <th>mean_item_count</th>\n",
              "      <th>transactions</th>\n",
              "      <th>year</th>\n",
              "      <th>month</th>\n",
              "      <th>sum_item_cnt_next_month</th>\n",
              "      <th>item_price_unit</th>\n",
              "      <th>hist_min_item_price</th>\n",
              "      <th>hist_max_item_price</th>\n",
              "      <th>price_increase</th>\n",
              "      <th>price_decrease</th>\n",
              "      <th>item_cnt_min</th>\n",
              "      <th>item_cnt_max</th>\n",
              "      <th>item_cnt_mean</th>\n",
              "      <th>item_cnt_std</th>\n",
              "      <th>item_cnt_shifted1</th>\n",
              "      <th>item_cnt_shifted2</th>\n",
              "      <th>item_cnt_shifted3</th>\n",
              "      <th>item_trend</th>\n",
              "    </tr>\n",
              "  </thead>\n",
              "  <tbody>\n",
              "    <tr>\n",
              "      <th>count</th>\n",
              "      <td>7282800.00</td>\n",
              "      <td>7282800.00</td>\n",
              "      <td>7282800.00</td>\n",
              "      <td>7282800.00</td>\n",
              "      <td>7282800.00</td>\n",
              "      <td>7282800.00</td>\n",
              "      <td>7282800.00</td>\n",
              "      <td>7282800.00</td>\n",
              "      <td>7282800.00</td>\n",
              "      <td>7282800.00</td>\n",
              "      <td>7282800.00</td>\n",
              "      <td>7282800.00</td>\n",
              "      <td>7282800.00</td>\n",
              "      <td>7282800.00</td>\n",
              "      <td>7282800.00</td>\n",
              "      <td>7279534.00</td>\n",
              "      <td>7282800.00</td>\n",
              "      <td>7282800.00</td>\n",
              "      <td>7282800.00</td>\n",
              "      <td>7282800.00</td>\n",
              "      <td>7282800.00</td>\n",
              "      <td>7282800.00</td>\n",
              "      <td>7282800.00</td>\n",
              "      <td>7282800.00</td>\n",
              "      <td>7282800.00</td>\n",
              "      <td>7282800.00</td>\n",
              "      <td>7282800.00</td>\n",
              "      <td>7282800.00</td>\n",
              "      <td>7282800.00</td>\n",
              "    </tr>\n",
              "    <tr>\n",
              "      <th>mean</th>\n",
              "      <td>16.50</td>\n",
              "      <td>0.56</td>\n",
              "      <td>1.34</td>\n",
              "      <td>58.02</td>\n",
              "      <td>1.17</td>\n",
              "      <td>31.67</td>\n",
              "      <td>3.50</td>\n",
              "      <td>11019.40</td>\n",
              "      <td>173.25</td>\n",
              "      <td>75.01</td>\n",
              "      <td>0.22</td>\n",
              "      <td>0.09</td>\n",
              "      <td>0.17</td>\n",
              "      <td>2013.94</td>\n",
              "      <td>5.21</td>\n",
              "      <td>0.19</td>\n",
              "      <td>71.16</td>\n",
              "      <td>0.00</td>\n",
              "      <td>5791.18</td>\n",
              "      <td>173.25</td>\n",
              "      <td>5627.37</td>\n",
              "      <td>0.17</td>\n",
              "      <td>0.33</td>\n",
              "      <td>0.24</td>\n",
              "      <td>0.09</td>\n",
              "      <td>0.20</td>\n",
              "      <td>0.18</td>\n",
              "      <td>0.16</td>\n",
              "      <td>-0.08</td>\n",
              "    </tr>\n",
              "    <tr>\n",
              "      <th>std</th>\n",
              "      <td>9.81</td>\n",
              "      <td>2.04</td>\n",
              "      <td>6.26</td>\n",
              "      <td>235.35</td>\n",
              "      <td>4.40</td>\n",
              "      <td>17.53</td>\n",
              "      <td>12.74</td>\n",
              "      <td>6252.63</td>\n",
              "      <td>2087.32</td>\n",
              "      <td>509.42</td>\n",
              "      <td>3.20</td>\n",
              "      <td>0.45</td>\n",
              "      <td>0.87</td>\n",
              "      <td>0.80</td>\n",
              "      <td>3.32</td>\n",
              "      <td>1.29</td>\n",
              "      <td>488.50</td>\n",
              "      <td>0.00</td>\n",
              "      <td>13886.88</td>\n",
              "      <td>2087.32</td>\n",
              "      <td>13296.43</td>\n",
              "      <td>2.52</td>\n",
              "      <td>4.24</td>\n",
              "      <td>3.17</td>\n",
              "      <td>1.41</td>\n",
              "      <td>3.16</td>\n",
              "      <td>3.12</td>\n",
              "      <td>3.10</td>\n",
              "      <td>1.60</td>\n",
              "    </tr>\n",
              "    <tr>\n",
              "      <th>min</th>\n",
              "      <td>0.00</td>\n",
              "      <td>0.00</td>\n",
              "      <td>0.00</td>\n",
              "      <td>0.00</td>\n",
              "      <td>0.00</td>\n",
              "      <td>2.00</td>\n",
              "      <td>0.00</td>\n",
              "      <td>30.00</td>\n",
              "      <td>0.00</td>\n",
              "      <td>0.00</td>\n",
              "      <td>-4.00</td>\n",
              "      <td>-2.00</td>\n",
              "      <td>0.00</td>\n",
              "      <td>2013.00</td>\n",
              "      <td>0.00</td>\n",
              "      <td>-2.00</td>\n",
              "      <td>-33490.00</td>\n",
              "      <td>0.00</td>\n",
              "      <td>0.00</td>\n",
              "      <td>0.00</td>\n",
              "      <td>0.00</td>\n",
              "      <td>-4.00</td>\n",
              "      <td>-2.00</td>\n",
              "      <td>-2.00</td>\n",
              "      <td>0.00</td>\n",
              "      <td>-4.00</td>\n",
              "      <td>-4.00</td>\n",
              "      <td>-4.00</td>\n",
              "      <td>-636.00</td>\n",
              "    </tr>\n",
              "    <tr>\n",
              "      <th>25%</th>\n",
              "      <td>8.00</td>\n",
              "      <td>0.00</td>\n",
              "      <td>0.00</td>\n",
              "      <td>0.00</td>\n",
              "      <td>0.00</td>\n",
              "      <td>16.00</td>\n",
              "      <td>0.00</td>\n",
              "      <td>5381.50</td>\n",
              "      <td>0.00</td>\n",
              "      <td>0.00</td>\n",
              "      <td>0.00</td>\n",
              "      <td>0.00</td>\n",
              "      <td>0.00</td>\n",
              "      <td>2013.00</td>\n",
              "      <td>2.00</td>\n",
              "      <td>0.00</td>\n",
              "      <td>0.00</td>\n",
              "      <td>0.00</td>\n",
              "      <td>799.00</td>\n",
              "      <td>0.00</td>\n",
              "      <td>796.00</td>\n",
              "      <td>0.00</td>\n",
              "      <td>0.00</td>\n",
              "      <td>0.00</td>\n",
              "      <td>0.00</td>\n",
              "      <td>0.00</td>\n",
              "      <td>0.00</td>\n",
              "      <td>0.00</td>\n",
              "      <td>0.00</td>\n",
              "    </tr>\n",
              "    <tr>\n",
              "      <th>50%</th>\n",
              "      <td>16.50</td>\n",
              "      <td>0.00</td>\n",
              "      <td>0.00</td>\n",
              "      <td>0.00</td>\n",
              "      <td>0.00</td>\n",
              "      <td>34.50</td>\n",
              "      <td>0.00</td>\n",
              "      <td>11203.00</td>\n",
              "      <td>0.00</td>\n",
              "      <td>0.00</td>\n",
              "      <td>0.00</td>\n",
              "      <td>0.00</td>\n",
              "      <td>0.00</td>\n",
              "      <td>2014.00</td>\n",
              "      <td>5.00</td>\n",
              "      <td>0.00</td>\n",
              "      <td>0.00</td>\n",
              "      <td>0.00</td>\n",
              "      <td>2197.00</td>\n",
              "      <td>0.00</td>\n",
              "      <td>2097.00</td>\n",
              "      <td>0.00</td>\n",
              "      <td>0.00</td>\n",
              "      <td>0.00</td>\n",
              "      <td>0.00</td>\n",
              "      <td>0.00</td>\n",
              "      <td>0.00</td>\n",
              "      <td>0.00</td>\n",
              "      <td>0.00</td>\n",
              "    </tr>\n",
              "    <tr>\n",
              "      <th>75%</th>\n",
              "      <td>25.00</td>\n",
              "      <td>0.00</td>\n",
              "      <td>0.00</td>\n",
              "      <td>0.00</td>\n",
              "      <td>0.00</td>\n",
              "      <td>47.00</td>\n",
              "      <td>0.00</td>\n",
              "      <td>16071.50</td>\n",
              "      <td>0.00</td>\n",
              "      <td>0.00</td>\n",
              "      <td>0.00</td>\n",
              "      <td>0.00</td>\n",
              "      <td>0.00</td>\n",
              "      <td>2015.00</td>\n",
              "      <td>8.00</td>\n",
              "      <td>0.00</td>\n",
              "      <td>0.00</td>\n",
              "      <td>0.00</td>\n",
              "      <td>5593.00</td>\n",
              "      <td>0.00</td>\n",
              "      <td>5489.00</td>\n",
              "      <td>0.00</td>\n",
              "      <td>0.00</td>\n",
              "      <td>0.00</td>\n",
              "      <td>0.00</td>\n",
              "      <td>0.00</td>\n",
              "      <td>0.00</td>\n",
              "      <td>0.00</td>\n",
              "      <td>0.00</td>\n",
              "    </tr>\n",
              "    <tr>\n",
              "      <th>max</th>\n",
              "      <td>33.00</td>\n",
              "      <td>13.00</td>\n",
              "      <td>47.00</td>\n",
              "      <td>1589.00</td>\n",
              "      <td>27.00</td>\n",
              "      <td>59.00</td>\n",
              "      <td>83.00</td>\n",
              "      <td>22167.00</td>\n",
              "      <td>515573.59</td>\n",
              "      <td>42990.00</td>\n",
              "      <td>1305.00</td>\n",
              "      <td>500.00</td>\n",
              "      <td>31.00</td>\n",
              "      <td>2015.00</td>\n",
              "      <td>11.00</td>\n",
              "      <td>764.00</td>\n",
              "      <td>94970.00</td>\n",
              "      <td>0.00</td>\n",
              "      <td>515573.59</td>\n",
              "      <td>515573.59</td>\n",
              "      <td>515573.59</td>\n",
              "      <td>978.00</td>\n",
              "      <td>1305.00</td>\n",
              "      <td>1090.67</td>\n",
              "      <td>571.34</td>\n",
              "      <td>1305.00</td>\n",
              "      <td>1305.00</td>\n",
              "      <td>1305.00</td>\n",
              "      <td>203.25</td>\n",
              "    </tr>\n",
              "  </tbody>\n",
              "</table>\n",
              "</div>"
            ],
            "text/plain": [
              "       date_block_num  item_category_type_code  ...  item_cnt_shifted3  item_trend\n",
              "count      7282800.00               7282800.00  ...         7282800.00  7282800.00\n",
              "mean            16.50                     0.56  ...               0.16       -0.08\n",
              "std              9.81                     2.04  ...               3.10        1.60\n",
              "min              0.00                     0.00  ...              -4.00     -636.00\n",
              "25%              8.00                     0.00  ...               0.00        0.00\n",
              "50%             16.50                     0.00  ...               0.00        0.00\n",
              "75%             25.00                     0.00  ...               0.00        0.00\n",
              "max             33.00                    13.00  ...            1305.00      203.25\n",
              "\n",
              "[8 rows x 29 columns]"
            ]
          },
          "metadata": {
            "tags": []
          },
          "execution_count": 32
        }
      ]
    },
    {
      "cell_type": "code",
      "metadata": {
        "id": "N7_oqROxlB1X",
        "colab_type": "code",
        "colab": {}
      },
      "source": [
        "# Save as csv\n",
        "train.to_csv('./data/output/processed_data_pt2.csv', index=False, header=True)"
      ],
      "execution_count": 0,
      "outputs": []
    },
    {
      "cell_type": "markdown",
      "metadata": {
        "id": "kBRiP_V3lB1b",
        "colab_type": "text"
      },
      "source": [
        "Lessons Learnt:\n",
        "-  Test the data and check as many things as possible with training our model in mind and what we might be submitting at the very end -> organise & ready for submission."
      ]
    },
    {
      "cell_type": "code",
      "metadata": {
        "id": "CCf5GGPqqp94",
        "colab_type": "code",
        "colab": {}
      },
      "source": [
        ""
      ],
      "execution_count": 0,
      "outputs": []
    }
  ],
  "metadata": {
    "kernelspec": {
      "name": "python3",
      "display_name": "Python 3"
    },
    "colab": {
      "name": "feature-engineering-pt2.ipynb",
      "provenance": [],
      "collapsed_sections": [],
      "machine_shape": "hm"
    }
  },
  "nbformat": 4,
  "nbformat_minor": 0
}